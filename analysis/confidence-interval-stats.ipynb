{
 "cells": [
  {
   "cell_type": "code",
   "execution_count": 1,
   "id": "e72545d6",
   "metadata": {},
   "outputs": [],
   "source": [
    "import numpy as np\n",
    "from scipy.stats import t\n",
    "import pandas as pd\n",
    "import matplotlib.pyplot as plt"
   ]
  },
  {
   "cell_type": "markdown",
   "id": "669e20d7",
   "metadata": {},
   "source": [
    "## Simulation System 1\n",
    "\n",
    "This system has patients with different CTAS levels (1 to 5) flowing into different departments (Triage, ED, and Inpatient). Along with this, patients undergo diagnostic tests at the Triage and ED levels. \n",
    "\n",
    "The simulation parameters are as follows: \\\n",
    "No. doctors: 100 \\\n",
    "No. nurses: 100 \\\n",
    "No. of admin staff: 70 \\\n",
    "No. of consultants: 10 \n",
    "No. of ECG machines = 5 \\\n",
    "No. of CT machines = 5 \\\n",
    "No. of X-Ray machines = 5 \n",
    "\n",
    "\n",
    "The simulation is run for 43800 minutes (i.e. one month) and LOS data from first 500 patients is discarded as warm-up data. In total 48k LOS data values are selected from each simulation run.\n",
    "\n",
    "The seeds used for 5 rounds are: \\\n",
    "Round 1: 100 \\\n",
    "Round 2: 121 \\\n",
    "Round 3: 146 \\\n",
    "Round 4: 258 \\\n",
    "Round 5: 41"
   ]
  },
  {
   "cell_type": "code",
   "execution_count": 2,
   "id": "7a7b6f75",
   "metadata": {},
   "outputs": [
    {
     "name": "stderr",
     "output_type": "stream",
     "text": [
      "/var/folders/3j/3p_dzlvs1nsdfryf9hm7gjnr0000gn/T/ipykernel_6791/2911554503.py:2: ParserWarning: Falling back to the 'python' engine because the 'c' engine does not support regex separators (separators > 1 char and different from '\\s+' are interpreted as regex); you can avoid this warning by specifying engine='python'.\n",
      "  df1 = pd.read_csv(\"../results/simulation_results_system_1_1.csv\", sep=r\",(?![^\\[]*\\])\")\n",
      "/var/folders/3j/3p_dzlvs1nsdfryf9hm7gjnr0000gn/T/ipykernel_6791/2911554503.py:3: ParserWarning: Falling back to the 'python' engine because the 'c' engine does not support regex separators (separators > 1 char and different from '\\s+' are interpreted as regex); you can avoid this warning by specifying engine='python'.\n",
      "  df2 = pd.read_csv(\"../results/simulation_results_system_1_2.csv\", sep=r\",(?![^\\[]*\\])\")\n",
      "/var/folders/3j/3p_dzlvs1nsdfryf9hm7gjnr0000gn/T/ipykernel_6791/2911554503.py:4: ParserWarning: Falling back to the 'python' engine because the 'c' engine does not support regex separators (separators > 1 char and different from '\\s+' are interpreted as regex); you can avoid this warning by specifying engine='python'.\n",
      "  df3 = pd.read_csv(\"../results/simulation_results_system_1_3.csv\", sep=r\",(?![^\\[]*\\])\")\n",
      "/var/folders/3j/3p_dzlvs1nsdfryf9hm7gjnr0000gn/T/ipykernel_6791/2911554503.py:5: ParserWarning: Falling back to the 'python' engine because the 'c' engine does not support regex separators (separators > 1 char and different from '\\s+' are interpreted as regex); you can avoid this warning by specifying engine='python'.\n",
      "  df4 = pd.read_csv(\"../results/simulation_results_system_1_4.csv\", sep=r\",(?![^\\[]*\\])\")\n",
      "/var/folders/3j/3p_dzlvs1nsdfryf9hm7gjnr0000gn/T/ipykernel_6791/2911554503.py:6: ParserWarning: Falling back to the 'python' engine because the 'c' engine does not support regex separators (separators > 1 char and different from '\\s+' are interpreted as regex); you can avoid this warning by specifying engine='python'.\n",
      "  df5 = pd.read_csv(\"../results/simulation_results_system_1_5.csv\", sep=r\",(?![^\\[]*\\])\")\n"
     ]
    }
   ],
   "source": [
    "# Read simulation results as dataframe\n",
    "df1 = pd.read_csv(\"../results/simulation_results_system_1_1.csv\", sep=r\",(?![^\\[]*\\])\")\n",
    "df2 = pd.read_csv(\"../results/simulation_results_system_1_2.csv\", sep=r\",(?![^\\[]*\\])\")\n",
    "df3 = pd.read_csv(\"../results/simulation_results_system_1_3.csv\", sep=r\",(?![^\\[]*\\])\")\n",
    "df4 = pd.read_csv(\"../results/simulation_results_system_1_4.csv\", sep=r\",(?![^\\[]*\\])\")\n",
    "df5 = pd.read_csv(\"../results/simulation_results_system_1_5.csv\", sep=r\",(?![^\\[]*\\])\")\n",
    "df_list = [df1, df2, df3, df4, df5]"
   ]
  },
  {
   "cell_type": "code",
   "execution_count": 3,
   "id": "5b64b8da",
   "metadata": {},
   "outputs": [],
   "source": [
    "for df in df_list:\n",
    "    df.columns = df.columns.str.lstrip()"
   ]
  },
  {
   "cell_type": "code",
   "execution_count": 4,
   "id": "18213a7a",
   "metadata": {
    "scrolled": true
   },
   "outputs": [
    {
     "data": {
      "text/html": [
       "<div>\n",
       "<style scoped>\n",
       "    .dataframe tbody tr th:only-of-type {\n",
       "        vertical-align: middle;\n",
       "    }\n",
       "\n",
       "    .dataframe tbody tr th {\n",
       "        vertical-align: top;\n",
       "    }\n",
       "\n",
       "    .dataframe thead th {\n",
       "        text-align: right;\n",
       "    }\n",
       "</style>\n",
       "<table border=\"1\" class=\"dataframe\">\n",
       "  <thead>\n",
       "    <tr style=\"text-align: right;\">\n",
       "      <th></th>\n",
       "      <th>Patient ID</th>\n",
       "      <th>CTAS Level</th>\n",
       "      <th>Tests</th>\n",
       "      <th>Arrival Time</th>\n",
       "      <th>Departure Time</th>\n",
       "      <th>LOS</th>\n",
       "      <th>Triage Waiting Time</th>\n",
       "      <th>ED Waiting Time</th>\n",
       "      <th>Medication Waiting Time</th>\n",
       "      <th>Inpatient Waiting Time</th>\n",
       "      <th>Triage Waiting Room Length</th>\n",
       "      <th>ED Waiting Room Length</th>\n",
       "      <th>Medication Waiting Room Length</th>\n",
       "      <th>Inpatient Waiting Room Length</th>\n",
       "    </tr>\n",
       "  </thead>\n",
       "  <tbody>\n",
       "    <tr>\n",
       "      <th>0</th>\n",
       "      <td>1</td>\n",
       "      <td>1</td>\n",
       "      <td>[]</td>\n",
       "      <td>0.000000</td>\n",
       "      <td>12.087052</td>\n",
       "      <td>12.087052</td>\n",
       "      <td>0.0</td>\n",
       "      <td>0.0</td>\n",
       "      <td>0.000000</td>\n",
       "      <td>0.0</td>\n",
       "      <td>1</td>\n",
       "      <td>1</td>\n",
       "      <td>11</td>\n",
       "      <td>1</td>\n",
       "    </tr>\n",
       "    <tr>\n",
       "      <th>1</th>\n",
       "      <td>2</td>\n",
       "      <td>3</td>\n",
       "      <td>['Triage ECG', 'Triage Urine', 'Triage X-Ray']</td>\n",
       "      <td>0.365564</td>\n",
       "      <td>125.128323</td>\n",
       "      <td>124.762759</td>\n",
       "      <td>0.0</td>\n",
       "      <td>0.0</td>\n",
       "      <td>2.288108</td>\n",
       "      <td>0.0</td>\n",
       "      <td>1</td>\n",
       "      <td>1</td>\n",
       "      <td>11</td>\n",
       "      <td>1</td>\n",
       "    </tr>\n",
       "    <tr>\n",
       "      <th>2</th>\n",
       "      <td>3</td>\n",
       "      <td>0</td>\n",
       "      <td>[]</td>\n",
       "      <td>1.682179</td>\n",
       "      <td>3.000000</td>\n",
       "      <td>1.317821</td>\n",
       "      <td>0.0</td>\n",
       "      <td>0.0</td>\n",
       "      <td>0.000000</td>\n",
       "      <td>0.0</td>\n",
       "      <td>1</td>\n",
       "      <td>1</td>\n",
       "      <td>11</td>\n",
       "      <td>1</td>\n",
       "    </tr>\n",
       "    <tr>\n",
       "      <th>3</th>\n",
       "      <td>4</td>\n",
       "      <td>0</td>\n",
       "      <td>[]</td>\n",
       "      <td>1.752360</td>\n",
       "      <td>1.000000</td>\n",
       "      <td>-0.752360</td>\n",
       "      <td>0.0</td>\n",
       "      <td>0.0</td>\n",
       "      <td>0.000000</td>\n",
       "      <td>0.0</td>\n",
       "      <td>1</td>\n",
       "      <td>1</td>\n",
       "      <td>11</td>\n",
       "      <td>1</td>\n",
       "    </tr>\n",
       "    <tr>\n",
       "      <th>4</th>\n",
       "      <td>5</td>\n",
       "      <td>1</td>\n",
       "      <td>['ED Blood Test']</td>\n",
       "      <td>2.119050</td>\n",
       "      <td>20.747604</td>\n",
       "      <td>18.628554</td>\n",
       "      <td>0.0</td>\n",
       "      <td>0.0</td>\n",
       "      <td>0.000000</td>\n",
       "      <td>0.0</td>\n",
       "      <td>1</td>\n",
       "      <td>1</td>\n",
       "      <td>11</td>\n",
       "      <td>1</td>\n",
       "    </tr>\n",
       "  </tbody>\n",
       "</table>\n",
       "</div>"
      ],
      "text/plain": [
       "   Patient ID  CTAS Level                                            Tests  \\\n",
       "0           1           1                                               []   \n",
       "1           2           3   ['Triage ECG', 'Triage Urine', 'Triage X-Ray']   \n",
       "2           3           0                                               []   \n",
       "3           4           0                                               []   \n",
       "4           5           1                                ['ED Blood Test']   \n",
       "\n",
       "   Arrival Time  Departure Time         LOS  Triage Waiting Time  \\\n",
       "0      0.000000       12.087052   12.087052                  0.0   \n",
       "1      0.365564      125.128323  124.762759                  0.0   \n",
       "2      1.682179        3.000000    1.317821                  0.0   \n",
       "3      1.752360        1.000000   -0.752360                  0.0   \n",
       "4      2.119050       20.747604   18.628554                  0.0   \n",
       "\n",
       "   ED Waiting Time  Medication Waiting Time  Inpatient Waiting Time  \\\n",
       "0              0.0                 0.000000                     0.0   \n",
       "1              0.0                 2.288108                     0.0   \n",
       "2              0.0                 0.000000                     0.0   \n",
       "3              0.0                 0.000000                     0.0   \n",
       "4              0.0                 0.000000                     0.0   \n",
       "\n",
       "   Triage Waiting Room Length  ED Waiting Room Length  \\\n",
       "0                           1                       1   \n",
       "1                           1                       1   \n",
       "2                           1                       1   \n",
       "3                           1                       1   \n",
       "4                           1                       1   \n",
       "\n",
       "   Medication Waiting Room Length  Inpatient Waiting Room Length  \n",
       "0                              11                              1  \n",
       "1                              11                              1  \n",
       "2                              11                              1  \n",
       "3                              11                              1  \n",
       "4                              11                              1  "
      ]
     },
     "execution_count": 4,
     "metadata": {},
     "output_type": "execute_result"
    }
   ],
   "source": [
    "df1[:5]"
   ]
  },
  {
   "cell_type": "code",
   "execution_count": 5,
   "id": "61007206",
   "metadata": {},
   "outputs": [
    {
     "name": "stdout",
     "output_type": "stream",
     "text": [
      "0.021963686453102708 4.939417969677986\n"
     ]
    }
   ],
   "source": [
    "# Read LOS data from dataframe df\n",
    "# LOS values of only treated patients is considered\n",
    "# Treated patients are the ones that complete their run (arrival to departure) in the ER\n",
    "\n",
    "los_vals_1 = []\n",
    "los_vals_2 = []\n",
    "los_vals_3 = []\n",
    "los_vals_4 = []\n",
    "los_vals_5 = []\n",
    "\n",
    "for items in df1[\"LOS\"]:\n",
    "    if items > 0:\n",
    "        los_vals_1.append(items/60)\n",
    "\n",
    "for items in df2[\"LOS\"]:\n",
    "    if items > 0:\n",
    "        los_vals_2.append(items/60)\n",
    "        \n",
    "for items in df3[\"LOS\"]:\n",
    "    if items > 0:\n",
    "        los_vals_3.append(items/60)\n",
    "        \n",
    "for items in df4[\"LOS\"]:\n",
    "    if items > 0:\n",
    "        los_vals_4.append(items/60)\n",
    "        \n",
    "for items in df5[\"LOS\"]:\n",
    "    if items > 0:\n",
    "        los_vals_5.append(items/60)\n",
    "\n",
    "los_vals_list = [los_vals_1, los_vals_2, los_vals_3, los_vals_4, los_vals_5]\n",
    "print(min(los_vals_1), max(los_vals_1))"
   ]
  },
  {
   "cell_type": "code",
   "execution_count": 6,
   "id": "bd036eaa",
   "metadata": {},
   "outputs": [
    {
     "name": "stdout",
     "output_type": "stream",
     "text": [
      "[1.3500221674938453, 1.3414928843993035, 1.3547351984227924, 1.3449575954884556, 1.343120719082215] [0.6973908223841953, 0.6758623834496429, 0.6902964671018932, 0.6855768345520872, 0.6826387425221883] [48489, 48315, 48587, 48169, 48229]\n"
     ]
    }
   ],
   "source": [
    "mean_list = []\n",
    "std_dev_list = []\n",
    "n_list = []\n",
    "\n",
    "for los_vals in los_vals_list:\n",
    "    los_vals = np.array(los_vals)\n",
    "    mean_list.append(np.mean(los_vals))\n",
    "    std_dev_list.append(np.std(los_vals))\n",
    "\n",
    "    n_list.append(len(los_vals))\n",
    "\n",
    "print(mean_list, std_dev_list, n_list)"
   ]
  },
  {
   "cell_type": "code",
   "execution_count": 7,
   "id": "3921f4a7",
   "metadata": {},
   "outputs": [
    {
     "name": "stdout",
     "output_type": "stream",
     "text": [
      "[1.96001291065459, 1.9600130868634233, 1.960012811966148, 1.960013235699088, 1.960013174424674]\n"
     ]
    }
   ],
   "source": [
    "# Check critical values from table/ppf function\n",
    "alpha = 0.05\n",
    "t_critical_list = []\n",
    "\n",
    "for n in n_list:\n",
    "    dof = n - 1\n",
    "    t_critical_list.append(t.ppf(1-alpha/2, dof))\n",
    "\n",
    "print(t_critical_list)"
   ]
  },
  {
   "cell_type": "code",
   "execution_count": 8,
   "id": "35cdc8f4",
   "metadata": {},
   "outputs": [
    {
     "name": "stdout",
     "output_type": "stream",
     "text": [
      "[1.3438147129776055, 1.335466230453598, 1.3485970905199605, 1.3388350598271177, 1.337028215481172] [1.3562296220100851, 1.347519538345009, 1.3608733063256244, 1.3510801311497935, 1.349213222683258] [0.0062074545162398576, 0.006026653945705488, 0.006138107902831908, 0.00612253566133781, 0.006092503601043148]\n"
     ]
    }
   ],
   "source": [
    "# Calculate confidence interval\n",
    "# H_val = t_critical * std_dev * (np.sqrt(1 + (1/n)))\n",
    "\n",
    "H_val_list = []\n",
    "lower_bound = []\n",
    "upper_bound = []\n",
    "\n",
    "for index, t_critical in enumerate(t_critical_list):\n",
    "    H_val = t_critical * std_dev_list[index] * (1/np.sqrt(n_list[index]))\n",
    "    H_val_list.append(H_val)\n",
    "    lower_bound.append(mean_list[index] - H_val)\n",
    "    upper_bound.append(mean_list[index] + H_val)\n",
    "\n",
    "print(lower_bound, upper_bound, H_val_list)\n",
    "# print([mean - lower_bound], [upper_bound - mean])"
   ]
  },
  {
   "cell_type": "code",
   "execution_count": 9,
   "id": "4f2e7f30",
   "metadata": {},
   "outputs": [
    {
     "name": "stdout",
     "output_type": "stream",
     "text": [
      "1.3468657129773223 0.00544116680606813 0.004769424407590371 [0.4863539591457042, 0.4567899613622321, 0.4765092124933551, 0.4700155960744599, 0.46599565279227445] 2.9606296211457652e-05\n"
     ]
    }
   ],
   "source": [
    "# Across rep data\n",
    "var_list = [a**2 for a in std_dev_list]\n",
    "\n",
    "a_mean = sum(mean_list)/5\n",
    "\n",
    "a_var = 0\n",
    "for means in mean_list:\n",
    "    a_var += (means - a_mean) ** 2\n",
    "\n",
    "a_var = a_var/4\n",
    "a_std_dev = np.sqrt(a_var)\n",
    "\n",
    "a_H_val = t_critical_list[0] * a_std_dev * (1/np.sqrt(5))\n",
    "\n",
    "print(a_mean, a_std_dev, a_H_val, var_list, a_var)"
   ]
  },
  {
   "cell_type": "code",
   "execution_count": 10,
   "id": "8e1a5205",
   "metadata": {},
   "outputs": [
    {
     "name": "stdout",
     "output_type": "stream",
     "text": [
      "1.3420962885697318 1.3516351373849127\n"
     ]
    }
   ],
   "source": [
    "a_lower_bound = a_mean - a_H_val\n",
    "a_upper_bound = a_mean + a_H_val\n",
    "print(a_lower_bound, a_upper_bound)"
   ]
  },
  {
   "cell_type": "code",
   "execution_count": 11,
   "id": "c485f7d8",
   "metadata": {},
   "outputs": [
    {
     "data": {
      "image/png": "[encoded data removed]",
      "text/plain": [
       "<Figure size 640x480 with 1 Axes>"
      ]
     },
     "metadata": {},
     "output_type": "display_data"
    }
   ],
   "source": [
    "# Plot boxplot for confidence intervals\n",
    "# fig, axs = plt.subplots(nrows=5, ncols=1, figsize=(12, 8))\n",
    "interval_list = []\n",
    "for index, mean in enumerate(mean_list):\n",
    "    interval_list.append([lower_bound[index], mean, upper_bound[index]])\n",
    "\n",
    "for index, interval in enumerate(interval_list):\n",
    "    plt.boxplot(interval, medianprops=dict(color=\"red\"), positions=[index+1])\n",
    "    # plt.plot((index, index, index), interval)\n",
    "    # plt.axhline(y=interval[1], color='orange', linestyle='--')\n",
    "    \n",
    "plt.show()"
   ]
  },
  {
   "cell_type": "code",
   "execution_count": 12,
   "id": "984a454a",
   "metadata": {},
   "outputs": [],
   "source": [
    "# Drawing bar graph with error bars to show confidence interval\n",
    "\n",
    "# fig, ax = plt.subplots()\n",
    "# ax.bar(0, los_vals, yerr=[[mean - lower_bound], [upper_bound - mean]], align='center', alpha=0.5, ecolor='black', capsize=10)\n",
    "\n",
    "# ax.set_ylabel('Mean LOS')\n",
    "# ax.set_xticks([0])\n",
    "# ax.set_xticklabels(['Hospital A'])\n",
    "# ax.set_title('Mean LOS')\n",
    "\n",
    "# plt.show()"
   ]
  },
  {
   "cell_type": "markdown",
   "id": "e417b5bb",
   "metadata": {},
   "source": [
    "## Simulation System 2\n",
    "\n",
    "This system has patients with different CTAS levels (1 to 5) flowing into different departments (Triage, ED, and Inpatient). Along with this, patients undergo diagnostic tests at the Triage and ED levels. \n",
    "\n",
    "The simulation parameters are as follows: \\\n",
    "No. doctors: 50 \\\n",
    "No. nurses: 50 \\\n",
    "No. of admin staff: 35 \\\n",
    "No. of consultants: 5 \\\n",
    "No. of ECG machines = 5 \\\n",
    "No. of CT machines = 5 \\\n",
    "No. of X-Ray machines = 5 \n",
    "\n",
    "\n",
    "The simulation is run for 43800 minutes (i.e. one month) and LOS data from first 500 patients is discarded as warm-up data. In total 48k LOS data values are selected from each simulation run.\n",
    "\n",
    "The seeds used for 5 rounds are: \\\n",
    "Round 1: 100 \\\n",
    "Round 2: 121 \\\n",
    "Round 3: 146 \\\n",
    "Round 4: 258 \\\n",
    "Round 5: 41"
   ]
  },
  {
   "cell_type": "code",
   "execution_count": 13,
   "id": "850bbb99",
   "metadata": {},
   "outputs": [
    {
     "name": "stderr",
     "output_type": "stream",
     "text": [
      "/var/folders/3j/3p_dzlvs1nsdfryf9hm7gjnr0000gn/T/ipykernel_6791/1323493655.py:2: ParserWarning: Falling back to the 'python' engine because the 'c' engine does not support regex separators (separators > 1 char and different from '\\s+' are interpreted as regex); you can avoid this warning by specifying engine='python'.\n",
      "  df21 = pd.read_csv(\"../results/simulation_results_system_2_1.csv\", sep=r\",(?![^\\[]*\\])\")\n",
      "/var/folders/3j/3p_dzlvs1nsdfryf9hm7gjnr0000gn/T/ipykernel_6791/1323493655.py:3: ParserWarning: Falling back to the 'python' engine because the 'c' engine does not support regex separators (separators > 1 char and different from '\\s+' are interpreted as regex); you can avoid this warning by specifying engine='python'.\n",
      "  df22 = pd.read_csv(\"../results/simulation_results_system_2_2.csv\", sep=r\",(?![^\\[]*\\])\")\n",
      "/var/folders/3j/3p_dzlvs1nsdfryf9hm7gjnr0000gn/T/ipykernel_6791/1323493655.py:4: ParserWarning: Falling back to the 'python' engine because the 'c' engine does not support regex separators (separators > 1 char and different from '\\s+' are interpreted as regex); you can avoid this warning by specifying engine='python'.\n",
      "  df23 = pd.read_csv(\"../results/simulation_results_system_2_3.csv\", sep=r\",(?![^\\[]*\\])\")\n",
      "/var/folders/3j/3p_dzlvs1nsdfryf9hm7gjnr0000gn/T/ipykernel_6791/1323493655.py:5: ParserWarning: Falling back to the 'python' engine because the 'c' engine does not support regex separators (separators > 1 char and different from '\\s+' are interpreted as regex); you can avoid this warning by specifying engine='python'.\n",
      "  df24 = pd.read_csv(\"../results/simulation_results_system_2_4.csv\", sep=r\",(?![^\\[]*\\])\")\n",
      "/var/folders/3j/3p_dzlvs1nsdfryf9hm7gjnr0000gn/T/ipykernel_6791/1323493655.py:6: ParserWarning: Falling back to the 'python' engine because the 'c' engine does not support regex separators (separators > 1 char and different from '\\s+' are interpreted as regex); you can avoid this warning by specifying engine='python'.\n",
      "  df25 = pd.read_csv(\"../results/simulation_results_system_2_5.csv\", sep=r\",(?![^\\[]*\\])\")\n"
     ]
    }
   ],
   "source": [
    "# Read simulation results as dataframe\n",
    "df21 = pd.read_csv(\"../results/simulation_results_system_2_1.csv\", sep=r\",(?![^\\[]*\\])\")\n",
    "df22 = pd.read_csv(\"../results/simulation_results_system_2_2.csv\", sep=r\",(?![^\\[]*\\])\")\n",
    "df23 = pd.read_csv(\"../results/simulation_results_system_2_3.csv\", sep=r\",(?![^\\[]*\\])\")\n",
    "df24 = pd.read_csv(\"../results/simulation_results_system_2_4.csv\", sep=r\",(?![^\\[]*\\])\")\n",
    "df25 = pd.read_csv(\"../results/simulation_results_system_2_5.csv\", sep=r\",(?![^\\[]*\\])\")\n",
    "df_list = [df21, df22, df23, df24, df25]"
   ]
  },
  {
   "cell_type": "code",
   "execution_count": 14,
   "id": "3d9c2736",
   "metadata": {},
   "outputs": [],
   "source": [
    "for df in df_list:\n",
    "    df.columns = df.columns.str.lstrip()"
   ]
  },
  {
   "cell_type": "code",
   "execution_count": 15,
   "id": "9c28c477",
   "metadata": {},
   "outputs": [
    {
     "name": "stdout",
     "output_type": "stream",
     "text": [
      "0.021963686453102708 12.765299250618007\n"
     ]
    }
   ],
   "source": [
    "# Read LOS data from dataframe df\n",
    "# LOS values of only treated patients is considered\n",
    "# Treated patients are the ones that complete their run (arrival to departure) in the ER\n",
    "\n",
    "los_vals_1 = []\n",
    "los_vals_2 = []\n",
    "los_vals_3 = []\n",
    "los_vals_4 = []\n",
    "los_vals_5 = []\n",
    "\n",
    "for items in df21[\"LOS\"]:\n",
    "    if items > 0:\n",
    "        los_vals_1.append(items/60)\n",
    "\n",
    "for items in df22[\"LOS\"]:\n",
    "    if items > 0:\n",
    "        los_vals_2.append(items/60)\n",
    "        \n",
    "for items in df23[\"LOS\"]:\n",
    "    if items > 0:\n",
    "        los_vals_3.append(items/60)\n",
    "        \n",
    "for items in df24[\"LOS\"]:\n",
    "    if items > 0:\n",
    "        los_vals_4.append(items/60)\n",
    "        \n",
    "for items in df25[\"LOS\"]:\n",
    "    if items > 0:\n",
    "        los_vals_5.append(items/60)\n",
    "\n",
    "los_vals_list = [los_vals_1, los_vals_2, los_vals_3, los_vals_4, los_vals_5]\n",
    "print(min(los_vals_1), max(los_vals_1))"
   ]
  },
  {
   "cell_type": "code",
   "execution_count": 16,
   "id": "642ed6f2",
   "metadata": {},
   "outputs": [
    {
     "name": "stdout",
     "output_type": "stream",
     "text": [
      "[3.717666648532128, 5.789356580353491, 4.2921867461067125, 4.57385508930156, 3.6098085076313375] [2.5108867243352533, 3.975041268291581, 3.0896117871662283, 3.3616222650645744, 2.4262541657996213] [825, 986, 782, 978, 597]\n"
     ]
    }
   ],
   "source": [
    "mean_list = []\n",
    "std_dev_list = []\n",
    "n_list = []\n",
    "\n",
    "for los_vals in los_vals_list:\n",
    "    los_vals = np.array(los_vals[100:])\n",
    "    mean_list.append(np.mean(los_vals))\n",
    "    std_dev_list.append(np.std(los_vals))\n",
    "\n",
    "    n_list.append(len(los_vals))\n",
    "\n",
    "print(mean_list, std_dev_list, n_list)"
   ]
  },
  {
   "cell_type": "code",
   "execution_count": 17,
   "id": "891f8d59",
   "metadata": {},
   "outputs": [
    {
     "name": "stdout",
     "output_type": "stream",
     "text": [
      "[1.9628471160446757, 1.9623752935218566, 1.963006096420354, 1.9623950621797075, 1.9639522633469966]\n"
     ]
    }
   ],
   "source": [
    "# Check critical values from table/ppf function\n",
    "alpha = 0.05\n",
    "t_critical_list = []\n",
    "\n",
    "for n in n_list:\n",
    "    dof = n - 1\n",
    "    t_critical_list.append(t.ppf(1-alpha/2, dof))\n",
    "\n",
    "print(t_critical_list)"
   ]
  },
  {
   "cell_type": "code",
   "execution_count": 18,
   "id": "70be5a03",
   "metadata": {},
   "outputs": [
    {
     "name": "stdout",
     "output_type": "stream",
     "text": [
      "[3.5460787638200872, 5.540937327219532, 4.075305407460847, 4.362911696662923, 3.414788101764191] [3.8892545332441686, 6.0377758334874505, 4.509068084752578, 4.7847984819401965, 3.804828913498484] [0.17158788471204073, 0.24841925313395924, 0.21688133864586562, 0.21094339263863704, 0.19502040586714642]\n"
     ]
    }
   ],
   "source": [
    "# Calculate confidence interval\n",
    "# H_val = t_critical * std_dev * (np.sqrt(1 + (1/n)))\n",
    "\n",
    "H_val_list = []\n",
    "lower_bound = []\n",
    "upper_bound = []\n",
    "\n",
    "for index, t_critical in enumerate(t_critical_list):\n",
    "    H_val = t_critical * std_dev_list[index] * (1/np.sqrt(n_list[index]))\n",
    "    H_val_list.append(H_val)\n",
    "    lower_bound.append(mean_list[index] - H_val)\n",
    "    upper_bound.append(mean_list[index] + H_val)\n",
    "\n",
    "print(lower_bound, upper_bound, H_val_list)\n",
    "# print([mean - lower_bound], [upper_bound - mean])"
   ]
  },
  {
   "cell_type": "code",
   "execution_count": 19,
   "id": "ce0969e3",
   "metadata": {},
   "outputs": [
    {
     "name": "stdout",
     "output_type": "stream",
     "text": [
      "4.3965747143850455 0.8749405310351286 0.7680332240941725 [6.304552142443018, 15.80095308462114, 9.545700995396496, 11.30050425297788, 5.8867092770600165] 0.7655209328480329 0.8749405310351286\n"
     ]
    }
   ],
   "source": [
    "# Across rep data\n",
    "var_list = [a**2 for a in std_dev_list]\n",
    "\n",
    "a_mean = sum(mean_list)/5\n",
    "\n",
    "a_var = 0\n",
    "for means in mean_list:\n",
    "    a_var += (means - a_mean) ** 2\n",
    "\n",
    "a_var = a_var/4\n",
    "a_std_dev = np.sqrt(a_var)\n",
    "\n",
    "a_H_val = t_critical_list[0] * a_std_dev * (1/np.sqrt(5))\n",
    "\n",
    "print(a_mean, a_std_dev, a_H_val, var_list, a_var, a_std_dev)"
   ]
  },
  {
   "cell_type": "code",
   "execution_count": 20,
   "id": "3e532216",
   "metadata": {},
   "outputs": [
    {
     "name": "stdout",
     "output_type": "stream",
     "text": [
      "3.628541490290873 5.164607938479218\n"
     ]
    }
   ],
   "source": [
    "a_lower_bound = a_mean - a_H_val\n",
    "a_upper_bound = a_mean + a_H_val\n",
    "print(a_lower_bound, a_upper_bound)"
   ]
  },
  {
   "cell_type": "code",
   "execution_count": 21,
   "id": "0e15c3d5",
   "metadata": {},
   "outputs": [
    {
     "data": {
      "image/png": "[encoded data removed]",
      "text/plain": [
       "<Figure size 640x480 with 1 Axes>"
      ]
     },
     "metadata": {},
     "output_type": "display_data"
    }
   ],
   "source": [
    "# Plot boxplot for confidence intervals\n",
    "# fig, axs = plt.subplots(nrows=5, ncols=1, figsize=(12, 8))\n",
    "interval_list = []\n",
    "for index, mean in enumerate(mean_list):\n",
    "    interval_list.append([lower_bound[index], mean, upper_bound[index]])\n",
    "\n",
    "for index, interval in enumerate(interval_list):\n",
    "    plt.boxplot(interval, medianprops=dict(color=\"red\"), positions=[index+1])\n",
    "    # plt.plot((index, index, index), interval)\n",
    "    # plt.axhline(y=interval[1], color='orange', linestyle='--')\n",
    "    \n",
    "plt.show()"
   ]
  },
  {
   "cell_type": "markdown",
   "id": "5babb675",
   "metadata": {},
   "source": [
    "## Simulation System 3"
   ]
  },
  {
   "cell_type": "code",
   "execution_count": 22,
   "id": "19aa0c17",
   "metadata": {},
   "outputs": [
    {
     "name": "stderr",
     "output_type": "stream",
     "text": [
      "/var/folders/3j/3p_dzlvs1nsdfryf9hm7gjnr0000gn/T/ipykernel_6791/2571389373.py:2: ParserWarning: Falling back to the 'python' engine because the 'c' engine does not support regex separators (separators > 1 char and different from '\\s+' are interpreted as regex); you can avoid this warning by specifying engine='python'.\n",
      "  df31 = pd.read_csv(\"../results/simulation_results_system_3_1.csv\", sep=r\",(?![^\\[]*\\])\")\n",
      "/var/folders/3j/3p_dzlvs1nsdfryf9hm7gjnr0000gn/T/ipykernel_6791/2571389373.py:3: ParserWarning: Falling back to the 'python' engine because the 'c' engine does not support regex separators (separators > 1 char and different from '\\s+' are interpreted as regex); you can avoid this warning by specifying engine='python'.\n",
      "  df32 = pd.read_csv(\"../results/simulation_results_system_3_2.csv\", sep=r\",(?![^\\[]*\\])\")\n",
      "/var/folders/3j/3p_dzlvs1nsdfryf9hm7gjnr0000gn/T/ipykernel_6791/2571389373.py:4: ParserWarning: Falling back to the 'python' engine because the 'c' engine does not support regex separators (separators > 1 char and different from '\\s+' are interpreted as regex); you can avoid this warning by specifying engine='python'.\n",
      "  df33 = pd.read_csv(\"../results/simulation_results_system_3_3.csv\", sep=r\",(?![^\\[]*\\])\")\n",
      "/var/folders/3j/3p_dzlvs1nsdfryf9hm7gjnr0000gn/T/ipykernel_6791/2571389373.py:5: ParserWarning: Falling back to the 'python' engine because the 'c' engine does not support regex separators (separators > 1 char and different from '\\s+' are interpreted as regex); you can avoid this warning by specifying engine='python'.\n",
      "  df34 = pd.read_csv(\"../results/simulation_results_system_3_4.csv\", sep=r\",(?![^\\[]*\\])\")\n",
      "/var/folders/3j/3p_dzlvs1nsdfryf9hm7gjnr0000gn/T/ipykernel_6791/2571389373.py:6: ParserWarning: Falling back to the 'python' engine because the 'c' engine does not support regex separators (separators > 1 char and different from '\\s+' are interpreted as regex); you can avoid this warning by specifying engine='python'.\n",
      "  df35 = pd.read_csv(\"../results/simulation_results_system_3_5.csv\", sep=r\",(?![^\\[]*\\])\")\n"
     ]
    }
   ],
   "source": [
    "# Read simulation results as dataframe\n",
    "df31 = pd.read_csv(\"../results/simulation_results_system_3_1.csv\", sep=r\",(?![^\\[]*\\])\")\n",
    "df32 = pd.read_csv(\"../results/simulation_results_system_3_2.csv\", sep=r\",(?![^\\[]*\\])\")\n",
    "df33 = pd.read_csv(\"../results/simulation_results_system_3_3.csv\", sep=r\",(?![^\\[]*\\])\")\n",
    "df34 = pd.read_csv(\"../results/simulation_results_system_3_4.csv\", sep=r\",(?![^\\[]*\\])\")\n",
    "df35 = pd.read_csv(\"../results/simulation_results_system_3_5.csv\", sep=r\",(?![^\\[]*\\])\")\n",
    "df_list = [df31, df32, df33, df34, df35]"
   ]
  },
  {
   "cell_type": "code",
   "execution_count": 23,
   "id": "6d24ccae",
   "metadata": {},
   "outputs": [],
   "source": [
    "for df in df_list:\n",
    "    df.columns = df.columns.str.lstrip()"
   ]
  },
  {
   "cell_type": "code",
   "execution_count": 24,
   "id": "d2289d49",
   "metadata": {},
   "outputs": [
    {
     "name": "stdout",
     "output_type": "stream",
     "text": [
      "0.11474575650742433 4.269948557028329\n"
     ]
    }
   ],
   "source": [
    "# Read LOS data from dataframe df\n",
    "# LOS values of only treated patients is considered\n",
    "# Treated patients are the ones that complete their run (arrival to departure) in the ER\n",
    "\n",
    "los_vals_1 = []\n",
    "los_vals_2 = []\n",
    "los_vals_3 = []\n",
    "los_vals_4 = []\n",
    "los_vals_5 = []\n",
    "\n",
    "for items in df31[\"LOS\"]:\n",
    "    if items > 0:\n",
    "        los_vals_1.append(items/60)\n",
    "\n",
    "for items in df32[\"LOS\"]:\n",
    "    if items > 0:\n",
    "        los_vals_2.append(items/60)\n",
    "        \n",
    "for items in df33[\"LOS\"]:\n",
    "    if items > 0:\n",
    "        los_vals_3.append(items/60)\n",
    "        \n",
    "for items in df34[\"LOS\"]:\n",
    "    if items > 0:\n",
    "        los_vals_4.append(items/60)\n",
    "        \n",
    "for items in df35[\"LOS\"]:\n",
    "    if items > 0:\n",
    "        los_vals_5.append(items/60)\n",
    "\n",
    "los_vals_list = [los_vals_1, los_vals_2, los_vals_3, los_vals_4, los_vals_5]\n",
    "print(min(los_vals_1), max(los_vals_1))"
   ]
  },
  {
   "cell_type": "code",
   "execution_count": 25,
   "id": "8e2d4a3e",
   "metadata": {},
   "outputs": [
    {
     "name": "stdout",
     "output_type": "stream",
     "text": [
      "[1.337885240899884, 1.340700036492139, 1.3361626807080496, 1.3336513304044078, 1.344770701924256] [0.6763513531060613, 0.6747181128613373, 0.67095803236982, 0.6645243883201893, 0.6784651743989605] [47490, 47223, 47198, 47136, 47248]\n"
     ]
    }
   ],
   "source": [
    "mean_list = []\n",
    "std_dev_list = []\n",
    "n_list = []\n",
    "\n",
    "for los_vals in los_vals_list:\n",
    "    los_vals = np.array(los_vals)\n",
    "    mean_list.append(np.mean(los_vals))\n",
    "    std_dev_list.append(np.std(los_vals))\n",
    "\n",
    "    n_list.append(len(los_vals))\n",
    "\n",
    "print(mean_list, std_dev_list, n_list)"
   ]
  },
  {
   "cell_type": "code",
   "execution_count": 26,
   "id": "53e44232",
   "metadata": {},
   "outputs": [
    {
     "name": "stdout",
     "output_type": "stream",
     "text": [
      "[1.9600139399121654, 1.9600142223741623, 1.960014248985547, 1.9600143151035971, 1.960014195790941]\n"
     ]
    }
   ],
   "source": [
    "# Check critical values from table/ppf function\n",
    "alpha = 0.05\n",
    "t_critical_list = []\n",
    "\n",
    "for n in n_list:\n",
    "    dof = n - 1\n",
    "    t_critical_list.append(t.ppf(1-alpha/2, dof))\n",
    "\n",
    "print(t_critical_list)"
   ]
  },
  {
   "cell_type": "code",
   "execution_count": 27,
   "id": "da15389c",
   "metadata": {},
   "outputs": [
    {
     "name": "stdout",
     "output_type": "stream",
     "text": [
      "[1.3318020641044055, 1.3346144168515017, 1.3301093724971078, 1.3276521239885921, 1.3386529049230875] [1.3439684176953626, 1.3467856561327765, 1.3422159889189913, 1.3396505368202234, 1.3508884989254246] [0.0060831767954785424, 0.006085619640637368, 0.00605330821094165, 0.0059992064158156675, 0.006117797001168613]\n"
     ]
    }
   ],
   "source": [
    "# Calculate confidence interval\n",
    "# H_val = t_critical * std_dev * (np.sqrt(1 + (1/n)))\n",
    "\n",
    "H_val_list = []\n",
    "lower_bound = []\n",
    "upper_bound = []\n",
    "\n",
    "for index, t_critical in enumerate(t_critical_list):\n",
    "    H_val = t_critical * std_dev_list[index] * (1/np.sqrt(n_list[index]))\n",
    "    H_val_list.append(H_val)\n",
    "    lower_bound.append(mean_list[index] - H_val)\n",
    "    upper_bound.append(mean_list[index] + H_val)\n",
    "\n",
    "print(lower_bound, upper_bound, H_val_list)\n",
    "# print([mean - lower_bound], [upper_bound - mean])"
   ]
  },
  {
   "cell_type": "code",
   "execution_count": 28,
   "id": "1f342e54",
   "metadata": {},
   "outputs": [
    {
     "name": "stdout",
     "output_type": "stream",
     "text": [
      "1.3386339980857473 0.004284351550281926 0.0037554264210814506 [0.45745115284840004, 0.4552445318231643, 0.4501846812015804, 0.4415926626723218, 0.46031499287221184] 1.835566820640315e-05 0.004284351550281926\n"
     ]
    }
   ],
   "source": [
    "# Across rep data\n",
    "var_list = [a**2 for a in std_dev_list]\n",
    "\n",
    "a_mean = sum(mean_list)/5\n",
    "\n",
    "a_var = 0\n",
    "for means in mean_list:\n",
    "    a_var += (means - a_mean) ** 2\n",
    "\n",
    "a_var = a_var/4\n",
    "a_std_dev = np.sqrt(a_var)\n",
    "\n",
    "a_H_val = t_critical_list[0] * a_std_dev * (1/np.sqrt(5))\n",
    "\n",
    "print(a_mean, a_std_dev, a_H_val, var_list, a_var, a_std_dev)"
   ]
  },
  {
   "cell_type": "code",
   "execution_count": 29,
   "id": "f4681d1c",
   "metadata": {},
   "outputs": [
    {
     "name": "stdout",
     "output_type": "stream",
     "text": [
      "1.3348785716646658 1.3423894245068289\n"
     ]
    }
   ],
   "source": [
    "a_lower_bound = a_mean - a_H_val\n",
    "a_upper_bound = a_mean + a_H_val\n",
    "print(a_lower_bound, a_upper_bound)"
   ]
  },
  {
   "cell_type": "code",
   "execution_count": 30,
   "id": "909d6476",
   "metadata": {
    "scrolled": true
   },
   "outputs": [
    {
     "data": {
      "image/png": "[encoded data removed]",
      "text/plain": [
       "<Figure size 640x480 with 1 Axes>"
      ]
     },
     "metadata": {},
     "output_type": "display_data"
    }
   ],
   "source": [
    "# Plot boxplot for confidence intervals\n",
    "# fig, axs = plt.subplots(nrows=5, ncols=1, figsize=(12, 8))\n",
    "interval_list = []\n",
    "for index, mean in enumerate(mean_list):\n",
    "    interval_list.append([lower_bound[index], mean, upper_bound[index]])\n",
    "\n",
    "for index, interval in enumerate(interval_list):\n",
    "    plt.boxplot(interval, medianprops=dict(color=\"red\"), positions=[index+1])\n",
    "    # plt.plot((index, index, index), interval)\n",
    "    # plt.axhline(y=interval[1], color='orange', linestyle='--')\n",
    "    \n",
    "plt.show()"
   ]
  },
  {
   "cell_type": "markdown",
   "id": "bd3ca774",
   "metadata": {},
   "source": [
    "## Simulation System 4\n",
    "\n",
    "Please note, simulation system 4 is presented as system 5 in the report. "
   ]
  },
  {
   "cell_type": "code",
   "execution_count": 31,
   "id": "e0a454bb",
   "metadata": {},
   "outputs": [
    {
     "name": "stderr",
     "output_type": "stream",
     "text": [
      "/var/folders/3j/3p_dzlvs1nsdfryf9hm7gjnr0000gn/T/ipykernel_6791/2783056028.py:2: ParserWarning: Falling back to the 'python' engine because the 'c' engine does not support regex separators (separators > 1 char and different from '\\s+' are interpreted as regex); you can avoid this warning by specifying engine='python'.\n",
      "  df41 = pd.read_csv(\"../results/simulation_results_system_4_1.csv\", sep=r\",(?![^\\[]*\\])\")\n",
      "/var/folders/3j/3p_dzlvs1nsdfryf9hm7gjnr0000gn/T/ipykernel_6791/2783056028.py:3: ParserWarning: Falling back to the 'python' engine because the 'c' engine does not support regex separators (separators > 1 char and different from '\\s+' are interpreted as regex); you can avoid this warning by specifying engine='python'.\n",
      "  df42 = pd.read_csv(\"../results/simulation_results_system_4_2.csv\", sep=r\",(?![^\\[]*\\])\")\n",
      "/var/folders/3j/3p_dzlvs1nsdfryf9hm7gjnr0000gn/T/ipykernel_6791/2783056028.py:4: ParserWarning: Falling back to the 'python' engine because the 'c' engine does not support regex separators (separators > 1 char and different from '\\s+' are interpreted as regex); you can avoid this warning by specifying engine='python'.\n",
      "  df43 = pd.read_csv(\"../results/simulation_results_system_4_3.csv\", sep=r\",(?![^\\[]*\\])\")\n",
      "/var/folders/3j/3p_dzlvs1nsdfryf9hm7gjnr0000gn/T/ipykernel_6791/2783056028.py:5: ParserWarning: Falling back to the 'python' engine because the 'c' engine does not support regex separators (separators > 1 char and different from '\\s+' are interpreted as regex); you can avoid this warning by specifying engine='python'.\n",
      "  df44 = pd.read_csv(\"../results/simulation_results_system_4_4.csv\", sep=r\",(?![^\\[]*\\])\")\n",
      "/var/folders/3j/3p_dzlvs1nsdfryf9hm7gjnr0000gn/T/ipykernel_6791/2783056028.py:6: ParserWarning: Falling back to the 'python' engine because the 'c' engine does not support regex separators (separators > 1 char and different from '\\s+' are interpreted as regex); you can avoid this warning by specifying engine='python'.\n",
      "  df45 = pd.read_csv(\"../results/simulation_results_system_4_5.csv\", sep=r\",(?![^\\[]*\\])\")\n"
     ]
    }
   ],
   "source": [
    "# Read simulation results as dataframe\n",
    "df41 = pd.read_csv(\"../results/simulation_results_system_4_1.csv\", sep=r\",(?![^\\[]*\\])\")\n",
    "df42 = pd.read_csv(\"../results/simulation_results_system_4_2.csv\", sep=r\",(?![^\\[]*\\])\")\n",
    "df43 = pd.read_csv(\"../results/simulation_results_system_4_3.csv\", sep=r\",(?![^\\[]*\\])\")\n",
    "df44 = pd.read_csv(\"../results/simulation_results_system_4_4.csv\", sep=r\",(?![^\\[]*\\])\")\n",
    "df45 = pd.read_csv(\"../results/simulation_results_system_4_5.csv\", sep=r\",(?![^\\[]*\\])\")\n",
    "df_list = [df41, df42, df43, df44, df45]"
   ]
  },
  {
   "cell_type": "code",
   "execution_count": 32,
   "id": "c10ff0f3",
   "metadata": {},
   "outputs": [],
   "source": [
    "for df in df_list:\n",
    "    df.columns = df.columns.str.lstrip()"
   ]
  },
  {
   "cell_type": "code",
   "execution_count": 33,
   "id": "1f9e5557",
   "metadata": {},
   "outputs": [
    {
     "name": "stdout",
     "output_type": "stream",
     "text": [
      "0.10359808058747148 4.0180206389295865\n"
     ]
    }
   ],
   "source": [
    "# Read LOS data from dataframe df\n",
    "# LOS values of only treated patients is considered\n",
    "# Treated patients are the ones that complete their run (arrival to departure) in the ER\n",
    "\n",
    "los_vals_1 = []\n",
    "los_vals_2 = []\n",
    "los_vals_3 = []\n",
    "los_vals_4 = []\n",
    "los_vals_5 = []\n",
    "\n",
    "for items in df41[\"LOS\"]:\n",
    "    if items > 0:\n",
    "        los_vals_1.append(items/60)\n",
    "\n",
    "for items in df42[\"LOS\"]:\n",
    "    if items > 0:\n",
    "        los_vals_2.append(items/60)\n",
    "        \n",
    "for items in df43[\"LOS\"]:\n",
    "    if items > 0:\n",
    "        los_vals_3.append(items/60)\n",
    "        \n",
    "for items in df44[\"LOS\"]:\n",
    "    if items > 0:\n",
    "        los_vals_4.append(items/60)\n",
    "        \n",
    "for items in df45[\"LOS\"]:\n",
    "    if items > 0:\n",
    "        los_vals_5.append(items/60)\n",
    "\n",
    "los_vals_list = [los_vals_1, los_vals_2, los_vals_3, los_vals_4, los_vals_5]\n",
    "print(min(los_vals_1), max(los_vals_1))"
   ]
  },
  {
   "cell_type": "code",
   "execution_count": 34,
   "id": "f146e19f",
   "metadata": {},
   "outputs": [
    {
     "name": "stdout",
     "output_type": "stream",
     "text": [
      "[1.3325258624173035, 1.3283533965622136, 1.3257924382439046, 1.3260836275378187, 1.3284998298904194] [0.6660908812265884, 0.6564414318357703, 0.6547254705004996, 0.6592036967239159, 0.6628951868324748] [90000, 90000, 90000, 90000, 90000]\n"
     ]
    }
   ],
   "source": [
    "mean_list = []\n",
    "std_dev_list = []\n",
    "n_list = []\n",
    "\n",
    "for los_vals in los_vals_list:\n",
    "    los_vals = np.array(los_vals[100:90100])\n",
    "    mean_list.append(np.mean(los_vals))\n",
    "    std_dev_list.append(np.std(los_vals))\n",
    "\n",
    "    n_list.append(len(los_vals))\n",
    "\n",
    "print(mean_list, std_dev_list, n_list)"
   ]
  },
  {
   "cell_type": "code",
   "execution_count": 35,
   "id": "b641b2e4",
   "metadata": {},
   "outputs": [
    {
     "name": "stdout",
     "output_type": "stream",
     "text": [
      "[1.9599903437506236, 1.9599903437506236, 1.9599903437506236, 1.9599903437506236, 1.9599903437506236]\n"
     ]
    }
   ],
   "source": [
    "# Check critical values from table/ppf function\n",
    "alpha = 0.05\n",
    "t_critical_list = []\n",
    "\n",
    "for n in n_list:\n",
    "    dof = n - 1\n",
    "    t_critical_list.append(t.ppf(1-alpha/2, dof))\n",
    "\n",
    "print(t_critical_list)"
   ]
  },
  {
   "cell_type": "code",
   "execution_count": 36,
   "id": "1603380f",
   "metadata": {},
   "outputs": [
    {
     "name": "stdout",
     "output_type": "stream",
     "text": [
      "[1.3281740900997554, 1.324064667003427, 1.321514919577276, 1.3217768512706733, 1.324168936006718] [1.3368776347348517, 1.3326421261210002, 1.3300699569105332, 1.330390403804964, 1.3328307237741208] [0.00435177231754819, 0.004288729558786477, 0.004277518666628543, 0.004306776267145299, 0.004330893883701388]\n"
     ]
    }
   ],
   "source": [
    "# Calculate confidence interval\n",
    "# H_val = t_critical * std_dev * (np.sqrt(1 + (1/n)))\n",
    "\n",
    "H_val_list = []\n",
    "lower_bound = []\n",
    "upper_bound = []\n",
    "\n",
    "for index, t_critical in enumerate(t_critical_list):\n",
    "    H_val = t_critical * std_dev_list[index] * (1/np.sqrt(n_list[index]))\n",
    "    H_val_list.append(H_val)\n",
    "    lower_bound.append(mean_list[index] - H_val)\n",
    "    upper_bound.append(mean_list[index] + H_val)\n",
    "\n",
    "print(lower_bound, upper_bound, H_val_list)\n",
    "# print([mean - lower_bound], [upper_bound - mean])"
   ]
  },
  {
   "cell_type": "code",
   "execution_count": 37,
   "id": "0d0fa364",
   "metadata": {},
   "outputs": [
    {
     "name": "stdout",
     "output_type": "stream",
     "text": [
      "1.3282510309303321 0.00269670536723827 0.0023637548289732104 [0.44367706205321317, 0.4309153534305963, 0.4286654417221005, 0.4345495137744765, 0.4394300287256617] 7.272219837691693e-06 0.00269670536723827\n"
     ]
    }
   ],
   "source": [
    "# Across rep data\n",
    "var_list = [a**2 for a in std_dev_list]\n",
    "\n",
    "a_mean = sum(mean_list)/5\n",
    "\n",
    "a_var = 0\n",
    "for means in mean_list:\n",
    "    a_var += (means - a_mean) ** 2\n",
    "\n",
    "a_var = a_var/4\n",
    "a_std_dev = np.sqrt(a_var)\n",
    "\n",
    "a_H_val = t_critical_list[0] * a_std_dev * (1/np.sqrt(5))\n",
    "\n",
    "print(a_mean, a_std_dev, a_H_val, var_list, a_var, a_std_dev)"
   ]
  },
  {
   "cell_type": "code",
   "execution_count": 38,
   "id": "54905db0",
   "metadata": {},
   "outputs": [
    {
     "name": "stdout",
     "output_type": "stream",
     "text": [
      "1.325887276101359 1.3306147857593054\n"
     ]
    }
   ],
   "source": [
    "a_lower_bound = a_mean - a_H_val\n",
    "a_upper_bound = a_mean + a_H_val\n",
    "print(a_lower_bound, a_upper_bound)"
   ]
  },
  {
   "cell_type": "code",
   "execution_count": 39,
   "id": "2c2098e0",
   "metadata": {},
   "outputs": [
    {
     "data": {
      "image/png": "[encoded data removed]",
      "text/plain": [
       "<Figure size 640x480 with 1 Axes>"
      ]
     },
     "metadata": {},
     "output_type": "display_data"
    }
   ],
   "source": [
    "# Plot boxplot for confidence intervals\n",
    "# fig, axs = plt.subplots(nrows=5, ncols=1, figsize=(12, 8))\n",
    "interval_list = []\n",
    "for index, mean in enumerate(mean_list):\n",
    "    interval_list.append([lower_bound[index], mean, upper_bound[index]])\n",
    "\n",
    "for index, interval in enumerate(interval_list):\n",
    "    plt.boxplot(interval, medianprops=dict(color=\"red\"), positions=[index+1])\n",
    "    # plt.plot((index, index, index), interval)\n",
    "    # plt.axhline(y=interval[1], color='orange', linestyle='--')\n",
    "    \n",
    "plt.show()"
   ]
  },
  {
   "cell_type": "markdown",
   "id": "86c6ea4f",
   "metadata": {},
   "source": [
    "## Simulation System 5\n",
    "\n",
    "\n",
    "Please note, this simulation system is presented as system 4 in the report. "
   ]
  },
  {
   "cell_type": "code",
   "execution_count": 40,
   "id": "67e42675",
   "metadata": {},
   "outputs": [
    {
     "name": "stderr",
     "output_type": "stream",
     "text": [
      "/var/folders/3j/3p_dzlvs1nsdfryf9hm7gjnr0000gn/T/ipykernel_6791/495048192.py:2: ParserWarning: Falling back to the 'python' engine because the 'c' engine does not support regex separators (separators > 1 char and different from '\\s+' are interpreted as regex); you can avoid this warning by specifying engine='python'.\n",
      "  df41 = pd.read_csv(\"../results/simulation_results_system_5_1.csv\", sep=r\",(?![^\\[]*\\])\")\n",
      "/var/folders/3j/3p_dzlvs1nsdfryf9hm7gjnr0000gn/T/ipykernel_6791/495048192.py:3: ParserWarning: Falling back to the 'python' engine because the 'c' engine does not support regex separators (separators > 1 char and different from '\\s+' are interpreted as regex); you can avoid this warning by specifying engine='python'.\n",
      "  df42 = pd.read_csv(\"../results/simulation_results_system_5_2.csv\", sep=r\",(?![^\\[]*\\])\")\n",
      "/var/folders/3j/3p_dzlvs1nsdfryf9hm7gjnr0000gn/T/ipykernel_6791/495048192.py:4: ParserWarning: Falling back to the 'python' engine because the 'c' engine does not support regex separators (separators > 1 char and different from '\\s+' are interpreted as regex); you can avoid this warning by specifying engine='python'.\n",
      "  df43 = pd.read_csv(\"../results/simulation_results_system_5_3.csv\", sep=r\",(?![^\\[]*\\])\")\n",
      "/var/folders/3j/3p_dzlvs1nsdfryf9hm7gjnr0000gn/T/ipykernel_6791/495048192.py:5: ParserWarning: Falling back to the 'python' engine because the 'c' engine does not support regex separators (separators > 1 char and different from '\\s+' are interpreted as regex); you can avoid this warning by specifying engine='python'.\n",
      "  df44 = pd.read_csv(\"../results/simulation_results_system_5_4.csv\", sep=r\",(?![^\\[]*\\])\")\n",
      "/var/folders/3j/3p_dzlvs1nsdfryf9hm7gjnr0000gn/T/ipykernel_6791/495048192.py:6: ParserWarning: Falling back to the 'python' engine because the 'c' engine does not support regex separators (separators > 1 char and different from '\\s+' are interpreted as regex); you can avoid this warning by specifying engine='python'.\n",
      "  df45 = pd.read_csv(\"../results/simulation_results_system_5_5.csv\", sep=r\",(?![^\\[]*\\])\")\n"
     ]
    }
   ],
   "source": [
    "# Read simulation results as dataframe\n",
    "df41 = pd.read_csv(\"../results/simulation_results_system_5_1.csv\", sep=r\",(?![^\\[]*\\])\")\n",
    "df42 = pd.read_csv(\"../results/simulation_results_system_5_2.csv\", sep=r\",(?![^\\[]*\\])\")\n",
    "df43 = pd.read_csv(\"../results/simulation_results_system_5_3.csv\", sep=r\",(?![^\\[]*\\])\")\n",
    "df44 = pd.read_csv(\"../results/simulation_results_system_5_4.csv\", sep=r\",(?![^\\[]*\\])\")\n",
    "df45 = pd.read_csv(\"../results/simulation_results_system_5_5.csv\", sep=r\",(?![^\\[]*\\])\")\n",
    "df_list = [df41, df42, df43, df44, df45]"
   ]
  },
  {
   "cell_type": "code",
   "execution_count": 41,
   "id": "a1df2865",
   "metadata": {},
   "outputs": [],
   "source": [
    "for df in df_list:\n",
    "    df.columns = df.columns.str.lstrip()"
   ]
  },
  {
   "cell_type": "code",
   "execution_count": 42,
   "id": "fd1463b7",
   "metadata": {},
   "outputs": [
    {
     "name": "stdout",
     "output_type": "stream",
     "text": [
      "0.13884777294015294 22.737922349409406\n"
     ]
    }
   ],
   "source": [
    "# Read LOS data from dataframe df\n",
    "# LOS values of only treated patients is considered\n",
    "# Treated patients are the ones that complete their run (arrival to departure) in the ER\n",
    "\n",
    "los_vals_1 = []\n",
    "los_vals_2 = []\n",
    "los_vals_3 = []\n",
    "los_vals_4 = []\n",
    "los_vals_5 = []\n",
    "\n",
    "for items in df41[\"LOS\"]:\n",
    "    if items > 0:\n",
    "        los_vals_1.append(items/60)\n",
    "\n",
    "for items in df42[\"LOS\"]:\n",
    "    if items > 0:\n",
    "        los_vals_2.append(items/60)\n",
    "        \n",
    "for items in df43[\"LOS\"]:\n",
    "    if items > 0:\n",
    "        los_vals_3.append(items/60)\n",
    "        \n",
    "for items in df44[\"LOS\"]:\n",
    "    if items > 0:\n",
    "        los_vals_4.append(items/60)\n",
    "        \n",
    "for items in df45[\"LOS\"]:\n",
    "    if items > 0:\n",
    "        los_vals_5.append(items/60)\n",
    "\n",
    "los_vals_list = [los_vals_1, los_vals_2, los_vals_3, los_vals_4, los_vals_5]\n",
    "print(min(los_vals_1), max(los_vals_1))"
   ]
  },
  {
   "cell_type": "code",
   "execution_count": 43,
   "id": "cb13c9f6",
   "metadata": {},
   "outputs": [
    {
     "name": "stdout",
     "output_type": "stream",
     "text": [
      "[4.252080105808182, 4.223080759046099, 3.6955200636221366, 4.706032683692952, 4.193880159542005] [3.3901592317724254, 3.0665125984007244, 2.7731345734386332, 3.5831767741357483, 3.1789715878181934] [1525, 1701, 1487, 2057, 1699]\n"
     ]
    }
   ],
   "source": [
    "mean_list = []\n",
    "std_dev_list = []\n",
    "n_list = []\n",
    "\n",
    "for los_vals in los_vals_list:\n",
    "    los_vals = np.array(los_vals[100:90100])\n",
    "    mean_list.append(np.mean(los_vals))\n",
    "    std_dev_list.append(np.std(los_vals))\n",
    "\n",
    "    n_list.append(len(los_vals))\n",
    "\n",
    "print(mean_list, std_dev_list, n_list)"
   ]
  },
  {
   "cell_type": "code",
   "execution_count": 44,
   "id": "73bdf96b",
   "metadata": {},
   "outputs": [
    {
     "name": "stdout",
     "output_type": "stream",
     "text": [
      "[1.9615218089261413, 1.9613604153684672, 1.961561677529042, 1.9611184809630702, 1.9613620613162466]\n"
     ]
    }
   ],
   "source": [
    "# Check critical values from table/ppf function\n",
    "alpha = 0.05\n",
    "t_critical_list = []\n",
    "\n",
    "for n in n_list:\n",
    "    dof = n - 1\n",
    "    t_critical_list.append(t.ppf(1-alpha/2, dof))\n",
    "\n",
    "print(t_critical_list)"
   ]
  },
  {
   "cell_type": "code",
   "execution_count": 45,
   "id": "9b60db97",
   "metadata": {},
   "outputs": [
    {
     "name": "stdout",
     "output_type": "stream",
     "text": [
      "[4.08179435196429, 4.077249709142288, 3.5544556625416677, 4.551095762785237, 4.042611928765038] [4.422365859652074, 4.36891180894991, 3.8365844647026055, 4.860969604600666, 4.345148390318973] [0.1702857538438924, 0.14583104990381132, 0.14106440108046892, 0.1549369209077148, 0.15126823077696752]\n"
     ]
    }
   ],
   "source": [
    "# Calculate confidence interval\n",
    "# H_val = t_critical * std_dev * (np.sqrt(1 + (1/n)))\n",
    "\n",
    "H_val_list = []\n",
    "lower_bound = []\n",
    "upper_bound = []\n",
    "\n",
    "for index, t_critical in enumerate(t_critical_list):\n",
    "    H_val = t_critical * std_dev_list[index] * (1/np.sqrt(n_list[index]))\n",
    "    H_val_list.append(H_val)\n",
    "    lower_bound.append(mean_list[index] - H_val)\n",
    "    upper_bound.append(mean_list[index] + H_val)\n",
    "\n",
    "print(lower_bound, upper_bound, H_val_list)\n",
    "# print([mean - lower_bound], [upper_bound - mean])"
   ]
  },
  {
   "cell_type": "code",
   "execution_count": 46,
   "id": "5944a969",
   "metadata": {},
   "outputs": [
    {
     "name": "stdout",
     "output_type": "stream",
     "text": [
      "4.214118754342275 0.3580694410162585 0.3141053960482512 [11.493179616771801, 9.403499516150363, 7.69027536240067, 12.839155794705867, 10.105860356155326] 0.1282137245896958 0.3580694410162585\n"
     ]
    }
   ],
   "source": [
    "# Across rep data\n",
    "var_list = [a**2 for a in std_dev_list]\n",
    "\n",
    "a_mean = sum(mean_list)/5\n",
    "\n",
    "a_var = 0\n",
    "for means in mean_list:\n",
    "    a_var += (means - a_mean) ** 2\n",
    "\n",
    "a_var = a_var/4\n",
    "a_std_dev = np.sqrt(a_var)\n",
    "\n",
    "a_H_val = t_critical_list[0] * a_std_dev * (1/np.sqrt(5))\n",
    "\n",
    "print(a_mean, a_std_dev, a_H_val, var_list, a_var, a_std_dev)"
   ]
  },
  {
   "cell_type": "code",
   "execution_count": 47,
   "id": "79e7e938",
   "metadata": {},
   "outputs": [
    {
     "name": "stdout",
     "output_type": "stream",
     "text": [
      "3.9000133582940237 4.5282241503905265\n"
     ]
    }
   ],
   "source": [
    "a_lower_bound = a_mean - a_H_val\n",
    "a_upper_bound = a_mean + a_H_val\n",
    "print(a_lower_bound, a_upper_bound)"
   ]
  },
  {
   "cell_type": "code",
   "execution_count": 48,
   "id": "39894c36",
   "metadata": {},
   "outputs": [
    {
     "data": {
      "image/png": "[encoded data removed]",
      "text/plain": [
       "<Figure size 640x480 with 1 Axes>"
      ]
     },
     "metadata": {},
     "output_type": "display_data"
    }
   ],
   "source": [
    "# Plot boxplot for confidence intervals\n",
    "# fig, axs = plt.subplots(nrows=5, ncols=1, figsize=(12, 8))\n",
    "interval_list = []\n",
    "for index, mean in enumerate(mean_list):\n",
    "    interval_list.append([lower_bound[index], mean, upper_bound[index]])\n",
    "\n",
    "for index, interval in enumerate(interval_list):\n",
    "    plt.boxplot(interval, medianprops=dict(color=\"red\"), positions=[index+1])\n",
    "    # plt.plot((index, index, index), interval)\n",
    "    # plt.axhline(y=interval[1], color='orange', linestyle='--')\n",
    "    \n",
    "plt.show()"
   ]
  }
 ],
 "metadata": {
  "kernelspec": {
   "display_name": "Python 3 (ipykernel)",
   "language": "python",
   "name": "python3"
  },
  "language_info": {
   "codemirror_mode": {
    "name": "ipython",
    "version": 3
   },
   "file_extension": ".py",
   "mimetype": "text/x-python",
   "name": "python",
   "nbconvert_exporter": "python",
   "pygments_lexer": "ipython3",
   "version": "3.11.0"
  }
 },
 "nbformat": 4,
 "nbformat_minor": 5
}
