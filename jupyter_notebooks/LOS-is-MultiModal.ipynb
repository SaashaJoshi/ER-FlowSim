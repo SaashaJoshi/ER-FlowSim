{
 "cells": [
  {
   "cell_type": "code",
   "execution_count": 18,
   "id": "5da58f31",
   "metadata": {},
   "outputs": [],
   "source": [
    "import pandas as pd\n",
    "import matplotlib.pyplot as plt\n",
    "import statsmodels.api as sm\n",
    "import numpy as np"
   ]
  },
  {
   "cell_type": "code",
   "execution_count": 19,
   "id": "932a2841",
   "metadata": {},
   "outputs": [],
   "source": [
    "df = pd.read_csv(\"../simulation_results.csv\", sep=',', \n",
    "                  names=[\"Patient ID\", \"CTAS Level\", \n",
    "                         \"Arrival Time\", \"Departure Time\", \"LOS\",\n",
    "                         \"Triage Waiting Time\", \"ED Waiting Time\",\n",
    "                         \"Medication Waiting Time\", \"Inpatient Waiting Time\", \n",
    "                         \"Triage Waiting Room Length\", \"ED Waiting Room Length\",\n",
    "                         \"Medication Waiting Room Length\", \"Inpatient Waiting Room Length\"\n",
    "                        ])"
   ]
  },
  {
   "cell_type": "code",
   "execution_count": 20,
   "id": "41707e3b",
   "metadata": {},
   "outputs": [
    {
     "data": {
      "text/html": [
       "<div>\n",
       "<style scoped>\n",
       "    .dataframe tbody tr th:only-of-type {\n",
       "        vertical-align: middle;\n",
       "    }\n",
       "\n",
       "    .dataframe tbody tr th {\n",
       "        vertical-align: top;\n",
       "    }\n",
       "\n",
       "    .dataframe thead th {\n",
       "        text-align: right;\n",
       "    }\n",
       "</style>\n",
       "<table border=\"1\" class=\"dataframe\">\n",
       "  <thead>\n",
       "    <tr style=\"text-align: right;\">\n",
       "      <th></th>\n",
       "      <th>Patient ID</th>\n",
       "      <th>CTAS Level</th>\n",
       "      <th>Arrival Time</th>\n",
       "      <th>Departure Time</th>\n",
       "      <th>LOS</th>\n",
       "      <th>Triage Waiting Time</th>\n",
       "      <th>ED Waiting Time</th>\n",
       "      <th>Medication Waiting Time</th>\n",
       "      <th>Inpatient Waiting Time</th>\n",
       "      <th>Triage Waiting Room Length</th>\n",
       "      <th>ED Waiting Room Length</th>\n",
       "      <th>Medication Waiting Room Length</th>\n",
       "      <th>Inpatient Waiting Room Length</th>\n",
       "    </tr>\n",
       "  </thead>\n",
       "  <tbody>\n",
       "    <tr>\n",
       "      <th>1000</th>\n",
       "      <td>1001</td>\n",
       "      <td>3</td>\n",
       "      <td>695.291677</td>\n",
       "      <td>791.531226</td>\n",
       "      <td>96.239549</td>\n",
       "      <td>0.0</td>\n",
       "      <td>0.0</td>\n",
       "      <td>2.209182</td>\n",
       "      <td>0.0</td>\n",
       "      <td>1</td>\n",
       "      <td>1</td>\n",
       "      <td>10</td>\n",
       "      <td>1</td>\n",
       "    </tr>\n",
       "    <tr>\n",
       "      <th>1001</th>\n",
       "      <td>1002</td>\n",
       "      <td>1</td>\n",
       "      <td>697.083981</td>\n",
       "      <td>709.014416</td>\n",
       "      <td>11.930435</td>\n",
       "      <td>0.0</td>\n",
       "      <td>0.0</td>\n",
       "      <td>0.000000</td>\n",
       "      <td>0.0</td>\n",
       "      <td>1</td>\n",
       "      <td>1</td>\n",
       "      <td>10</td>\n",
       "      <td>1</td>\n",
       "    </tr>\n",
       "    <tr>\n",
       "      <th>1002</th>\n",
       "      <td>1003</td>\n",
       "      <td>3</td>\n",
       "      <td>697.594212</td>\n",
       "      <td>738.243612</td>\n",
       "      <td>40.649400</td>\n",
       "      <td>0.0</td>\n",
       "      <td>0.0</td>\n",
       "      <td>2.258365</td>\n",
       "      <td>0.0</td>\n",
       "      <td>1</td>\n",
       "      <td>1</td>\n",
       "      <td>10</td>\n",
       "      <td>1</td>\n",
       "    </tr>\n",
       "    <tr>\n",
       "      <th>1003</th>\n",
       "      <td>1004</td>\n",
       "      <td>4</td>\n",
       "      <td>697.719198</td>\n",
       "      <td>727.966288</td>\n",
       "      <td>30.247090</td>\n",
       "      <td>0.0</td>\n",
       "      <td>0.0</td>\n",
       "      <td>1.668191</td>\n",
       "      <td>0.0</td>\n",
       "      <td>1</td>\n",
       "      <td>1</td>\n",
       "      <td>10</td>\n",
       "      <td>1</td>\n",
       "    </tr>\n",
       "    <tr>\n",
       "      <th>1004</th>\n",
       "      <td>1005</td>\n",
       "      <td>1</td>\n",
       "      <td>698.322116</td>\n",
       "      <td>706.197514</td>\n",
       "      <td>7.875398</td>\n",
       "      <td>0.0</td>\n",
       "      <td>0.0</td>\n",
       "      <td>0.000000</td>\n",
       "      <td>0.0</td>\n",
       "      <td>1</td>\n",
       "      <td>1</td>\n",
       "      <td>10</td>\n",
       "      <td>1</td>\n",
       "    </tr>\n",
       "    <tr>\n",
       "      <th>1005</th>\n",
       "      <td>1006</td>\n",
       "      <td>5</td>\n",
       "      <td>699.841269</td>\n",
       "      <td>772.509392</td>\n",
       "      <td>72.668123</td>\n",
       "      <td>0.0</td>\n",
       "      <td>0.0</td>\n",
       "      <td>2.043895</td>\n",
       "      <td>0.0</td>\n",
       "      <td>1</td>\n",
       "      <td>1</td>\n",
       "      <td>10</td>\n",
       "      <td>1</td>\n",
       "    </tr>\n",
       "    <tr>\n",
       "      <th>1006</th>\n",
       "      <td>1007</td>\n",
       "      <td>2</td>\n",
       "      <td>700.466436</td>\n",
       "      <td>795.473462</td>\n",
       "      <td>95.007026</td>\n",
       "      <td>0.0</td>\n",
       "      <td>0.0</td>\n",
       "      <td>2.527475</td>\n",
       "      <td>0.0</td>\n",
       "      <td>1</td>\n",
       "      <td>1</td>\n",
       "      <td>10</td>\n",
       "      <td>1</td>\n",
       "    </tr>\n",
       "    <tr>\n",
       "      <th>1007</th>\n",
       "      <td>1008</td>\n",
       "      <td>0</td>\n",
       "      <td>702.015047</td>\n",
       "      <td>0.000000</td>\n",
       "      <td>-702.015047</td>\n",
       "      <td>0.0</td>\n",
       "      <td>0.0</td>\n",
       "      <td>0.000000</td>\n",
       "      <td>0.0</td>\n",
       "      <td>1</td>\n",
       "      <td>1</td>\n",
       "      <td>10</td>\n",
       "      <td>1</td>\n",
       "    </tr>\n",
       "    <tr>\n",
       "      <th>1008</th>\n",
       "      <td>1009</td>\n",
       "      <td>2</td>\n",
       "      <td>702.234396</td>\n",
       "      <td>731.920765</td>\n",
       "      <td>29.686369</td>\n",
       "      <td>0.0</td>\n",
       "      <td>0.0</td>\n",
       "      <td>2.479475</td>\n",
       "      <td>0.0</td>\n",
       "      <td>1</td>\n",
       "      <td>1</td>\n",
       "      <td>10</td>\n",
       "      <td>1</td>\n",
       "    </tr>\n",
       "    <tr>\n",
       "      <th>1009</th>\n",
       "      <td>1010</td>\n",
       "      <td>0</td>\n",
       "      <td>703.629420</td>\n",
       "      <td>0.000000</td>\n",
       "      <td>-703.629420</td>\n",
       "      <td>0.0</td>\n",
       "      <td>0.0</td>\n",
       "      <td>0.000000</td>\n",
       "      <td>0.0</td>\n",
       "      <td>1</td>\n",
       "      <td>1</td>\n",
       "      <td>10</td>\n",
       "      <td>1</td>\n",
       "    </tr>\n",
       "  </tbody>\n",
       "</table>\n",
       "</div>"
      ],
      "text/plain": [
       "      Patient ID  CTAS Level  Arrival Time  Departure Time         LOS  \\\n",
       "1000        1001           3    695.291677      791.531226   96.239549   \n",
       "1001        1002           1    697.083981      709.014416   11.930435   \n",
       "1002        1003           3    697.594212      738.243612   40.649400   \n",
       "1003        1004           4    697.719198      727.966288   30.247090   \n",
       "1004        1005           1    698.322116      706.197514    7.875398   \n",
       "1005        1006           5    699.841269      772.509392   72.668123   \n",
       "1006        1007           2    700.466436      795.473462   95.007026   \n",
       "1007        1008           0    702.015047        0.000000 -702.015047   \n",
       "1008        1009           2    702.234396      731.920765   29.686369   \n",
       "1009        1010           0    703.629420        0.000000 -703.629420   \n",
       "\n",
       "      Triage Waiting Time  ED Waiting Time  Medication Waiting Time  \\\n",
       "1000                  0.0              0.0                 2.209182   \n",
       "1001                  0.0              0.0                 0.000000   \n",
       "1002                  0.0              0.0                 2.258365   \n",
       "1003                  0.0              0.0                 1.668191   \n",
       "1004                  0.0              0.0                 0.000000   \n",
       "1005                  0.0              0.0                 2.043895   \n",
       "1006                  0.0              0.0                 2.527475   \n",
       "1007                  0.0              0.0                 0.000000   \n",
       "1008                  0.0              0.0                 2.479475   \n",
       "1009                  0.0              0.0                 0.000000   \n",
       "\n",
       "      Inpatient Waiting Time  Triage Waiting Room Length  \\\n",
       "1000                     0.0                           1   \n",
       "1001                     0.0                           1   \n",
       "1002                     0.0                           1   \n",
       "1003                     0.0                           1   \n",
       "1004                     0.0                           1   \n",
       "1005                     0.0                           1   \n",
       "1006                     0.0                           1   \n",
       "1007                     0.0                           1   \n",
       "1008                     0.0                           1   \n",
       "1009                     0.0                           1   \n",
       "\n",
       "      ED Waiting Room Length  Medication Waiting Room Length  \\\n",
       "1000                       1                              10   \n",
       "1001                       1                              10   \n",
       "1002                       1                              10   \n",
       "1003                       1                              10   \n",
       "1004                       1                              10   \n",
       "1005                       1                              10   \n",
       "1006                       1                              10   \n",
       "1007                       1                              10   \n",
       "1008                       1                              10   \n",
       "1009                       1                              10   \n",
       "\n",
       "      Inpatient Waiting Room Length  \n",
       "1000                              1  \n",
       "1001                              1  \n",
       "1002                              1  \n",
       "1003                              1  \n",
       "1004                              1  \n",
       "1005                              1  \n",
       "1006                              1  \n",
       "1007                              1  \n",
       "1008                              1  \n",
       "1009                              1  "
      ]
     },
     "execution_count": 20,
     "metadata": {},
     "output_type": "execute_result"
    }
   ],
   "source": [
    "df[1000:1010]"
   ]
  },
  {
   "cell_type": "code",
   "execution_count": 21,
   "id": "de520525",
   "metadata": {},
   "outputs": [
    {
     "name": "stdout",
     "output_type": "stream",
     "text": [
      "52795\n"
     ]
    }
   ],
   "source": [
    "los_vals = []\n",
    "for items in df[\"LOS\"]:\n",
    "    if items > 0:\n",
    "        los_vals.append(items)\n",
    "        \n",
    "print(len(los_vals))"
   ]
  },
  {
   "cell_type": "code",
   "execution_count": 22,
   "id": "57f99289",
   "metadata": {},
   "outputs": [],
   "source": [
    "# los_vals.sort()\n",
    "# print(los_vals)"
   ]
  },
  {
   "cell_type": "code",
   "execution_count": 23,
   "id": "15d5416f",
   "metadata": {},
   "outputs": [
    {
     "name": "stdout",
     "output_type": "stream",
     "text": [
      "6.768449116136253 153.80086670893797\n"
     ]
    }
   ],
   "source": [
    "print(min(los_vals), max(los_vals))"
   ]
  },
  {
   "cell_type": "code",
   "execution_count": 24,
   "id": "eb8238f3",
   "metadata": {},
   "outputs": [
    {
     "data": {
      "image/png": "[encoded data removed]",
      "text/plain": [
       "<Figure size 640x480 with 1 Axes>"
      ]
     },
     "metadata": {},
     "output_type": "display_data"
    }
   ],
   "source": [
    "plt.hist(los_vals, density=True, bins=\"auto\")\n",
    "plt.show()"
   ]
  },
  {
   "cell_type": "code",
   "execution_count": 25,
   "id": "13d04fc9",
   "metadata": {},
   "outputs": [
    {
     "name": "stdout",
     "output_type": "stream",
     "text": [
      "35270 17525\n"
     ]
    }
   ],
   "source": [
    "los_vals_ctas_i_iii = []\n",
    "los_vals_ctas_iv_v = []\n",
    "\n",
    "for ctas, los in zip(df[\"CTAS Level\"], df[\"LOS\"]):\n",
    "    if los > 0:\n",
    "        if int(ctas) in [1, 2, 3]:\n",
    "            los_vals_ctas_i_iii.append(los)\n",
    "        elif int(ctas) in [4, 5]:\n",
    "            los_vals_ctas_iv_v.append(los)\n",
    "        \n",
    "print(len(los_vals_ctas_i_iii), len(los_vals_ctas_iv_v))"
   ]
  },
  {
   "cell_type": "code",
   "execution_count": 26,
   "id": "4b72e7a4",
   "metadata": {},
   "outputs": [
    {
     "data": {
      "image/png": "[encoded data removed]",
      "text/plain": [
       "<Figure size 640x480 with 1 Axes>"
      ]
     },
     "metadata": {},
     "output_type": "display_data"
    }
   ],
   "source": [
    "plt.hist(los_vals_ctas_i_iii, density=True, bins=\"auto\")\n",
    "plt.hist(los_vals_ctas_iv_v, density=True, bins=\"auto\")\n",
    "plt.show()"
   ]
  },
  {
   "cell_type": "code",
   "execution_count": 27,
   "id": "b2992d7f",
   "metadata": {},
   "outputs": [],
   "source": [
    "los_vals = [x/60 for x in los_vals]\n",
    "ecdf = sm.distributions.ECDF(los_vals)"
   ]
  },
  {
   "cell_type": "code",
   "execution_count": 28,
   "id": "29abe0c1",
   "metadata": {},
   "outputs": [],
   "source": [
    "x = np.linspace(min(los_vals), max(los_vals), num=len(los_vals))\n",
    "# Evaluate the CDF at each x-value\n",
    "y = ecdf(x)"
   ]
  },
  {
   "cell_type": "code",
   "execution_count": 29,
   "id": "b74c9148",
   "metadata": {},
   "outputs": [
    {
     "data": {
      "image/png": "[encoded data removed]",
      "text/plain": [
       "<Figure size 640x480 with 1 Axes>"
      ]
     },
     "metadata": {},
     "output_type": "display_data"
    }
   ],
   "source": [
    "plt.step(x, y)\n",
    "plt.xlabel('LOS (hours)')\n",
    "plt.ylabel('CDF')\n",
    "plt.title('Empirical CDF of LOS')\n",
    "plt.show()"
   ]
  },
  {
   "cell_type": "code",
   "execution_count": null,
   "id": "5a7defda",
   "metadata": {},
   "outputs": [],
   "source": []
  }
 ],
 "metadata": {
  "kernelspec": {
   "display_name": "Python 3 (ipykernel)",
   "language": "python",
   "name": "python3"
  },
  "language_info": {
   "codemirror_mode": {
    "name": "ipython",
    "version": 3
   },
   "file_extension": ".py",
   "mimetype": "text/x-python",
   "name": "python",
   "nbconvert_exporter": "python",
   "pygments_lexer": "ipython3",
   "version": "3.11.0"
  }
 },
 "nbformat": 4,
 "nbformat_minor": 5
}
