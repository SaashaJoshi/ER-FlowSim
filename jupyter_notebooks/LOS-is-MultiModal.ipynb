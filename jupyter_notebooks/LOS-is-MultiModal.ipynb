{
 "cells": [
  {
   "cell_type": "code",
   "execution_count": 21,
   "id": "5da58f31",
   "metadata": {},
   "outputs": [],
   "source": [
    "import pandas as pd\n",
    "import matplotlib.pyplot as plt\n",
    "import statsmodels.api as sm\n",
    "import numpy as np\n",
    "import ast"
   ]
  },
  {
   "cell_type": "code",
   "execution_count": 22,
   "id": "932a2841",
   "metadata": {},
   "outputs": [],
   "source": [
    "# df = pd.read_csv(\"../simulation_results.csv\", sep=',', \n",
    "#                   names=[\"Patient ID\", \"CTAS Level\", \n",
    "#                          \"Arrival Time\", \"Departure Time\", \"LOS\",\n",
    "#                          \"Triage Waiting Time\", \"ED Waiting Time\",\n",
    "#                          \"Medication Waiting Time\", \"Inpatient Waiting Time\", \n",
    "#                          \"Triage Waiting Room Length\", \"ED Waiting Room Length\",\n",
    "#                          \"Medication Waiting Room Length\", \"Inpatient Waiting Room Length\"\n",
    "#                         ])"
   ]
  },
  {
   "cell_type": "code",
   "execution_count": 23,
   "id": "71713079",
   "metadata": {},
   "outputs": [
    {
     "name": "stderr",
     "output_type": "stream",
     "text": [
      "/var/folders/3j/3p_dzlvs1nsdfryf9hm7gjnr0000gn/T/ipykernel_10323/3152665141.py:1: ParserWarning: Falling back to the 'python' engine because the 'c' engine does not support regex separators (separators > 1 char and different from '\\s+' are interpreted as regex); you can avoid this warning by specifying engine='python'.\n",
      "  df = pd.read_csv(\"../simulation_results.csv\", sep=r\",(?![^\\[]*\\])\")\n"
     ]
    }
   ],
   "source": [
    "df = pd.read_csv(\"../simulation_results.csv\", sep=r\",(?![^\\[]*\\])\")"
   ]
  },
  {
   "cell_type": "code",
   "execution_count": 24,
   "id": "41707e3b",
   "metadata": {},
   "outputs": [
    {
     "data": {
      "text/html": [
       "<div>\n",
       "<style scoped>\n",
       "    .dataframe tbody tr th:only-of-type {\n",
       "        vertical-align: middle;\n",
       "    }\n",
       "\n",
       "    .dataframe tbody tr th {\n",
       "        vertical-align: top;\n",
       "    }\n",
       "\n",
       "    .dataframe thead th {\n",
       "        text-align: right;\n",
       "    }\n",
       "</style>\n",
       "<table border=\"1\" class=\"dataframe\">\n",
       "  <thead>\n",
       "    <tr style=\"text-align: right;\">\n",
       "      <th></th>\n",
       "      <th>Patient ID</th>\n",
       "      <th>CTAS Level</th>\n",
       "      <th>Tests</th>\n",
       "      <th>Arrival Time</th>\n",
       "      <th>Departure Time</th>\n",
       "      <th>LOS</th>\n",
       "      <th>Triage Waiting Time</th>\n",
       "      <th>ED Waiting Time</th>\n",
       "      <th>Medication Waiting Time</th>\n",
       "      <th>Inpatient Waiting Time</th>\n",
       "      <th>Triage Waiting Room Length</th>\n",
       "      <th>ED Waiting Room Length</th>\n",
       "      <th>Medication Waiting Room Length</th>\n",
       "      <th>Inpatient Waiting Room Length</th>\n",
       "    </tr>\n",
       "  </thead>\n",
       "  <tbody>\n",
       "    <tr>\n",
       "      <th>0</th>\n",
       "      <td>1</td>\n",
       "      <td>1</td>\n",
       "      <td>['ED Blood Test']</td>\n",
       "      <td>0.000000</td>\n",
       "      <td>22.564901</td>\n",
       "      <td>22.564901</td>\n",
       "      <td>0.0</td>\n",
       "      <td>0.0</td>\n",
       "      <td>0.000000</td>\n",
       "      <td>0.0</td>\n",
       "      <td>1</td>\n",
       "      <td>1</td>\n",
       "      <td>9</td>\n",
       "      <td>1</td>\n",
       "    </tr>\n",
       "    <tr>\n",
       "      <th>1</th>\n",
       "      <td>2</td>\n",
       "      <td>5</td>\n",
       "      <td>['Triage ECG', 'Triage Urine', 'Triage X-Ray']</td>\n",
       "      <td>0.365564</td>\n",
       "      <td>101.528271</td>\n",
       "      <td>101.162708</td>\n",
       "      <td>0.0</td>\n",
       "      <td>0.0</td>\n",
       "      <td>1.936929</td>\n",
       "      <td>0.0</td>\n",
       "      <td>1</td>\n",
       "      <td>1</td>\n",
       "      <td>9</td>\n",
       "      <td>1</td>\n",
       "    </tr>\n",
       "    <tr>\n",
       "      <th>2</th>\n",
       "      <td>3</td>\n",
       "      <td>0</td>\n",
       "      <td>[]</td>\n",
       "      <td>1.462743</td>\n",
       "      <td>0.000000</td>\n",
       "      <td>-1.462743</td>\n",
       "      <td>0.0</td>\n",
       "      <td>0.0</td>\n",
       "      <td>0.000000</td>\n",
       "      <td>0.0</td>\n",
       "      <td>1</td>\n",
       "      <td>1</td>\n",
       "      <td>9</td>\n",
       "      <td>1</td>\n",
       "    </tr>\n",
       "    <tr>\n",
       "      <th>3</th>\n",
       "      <td>4</td>\n",
       "      <td>0</td>\n",
       "      <td>[]</td>\n",
       "      <td>1.532924</td>\n",
       "      <td>0.000000</td>\n",
       "      <td>-1.532924</td>\n",
       "      <td>0.0</td>\n",
       "      <td>0.0</td>\n",
       "      <td>0.000000</td>\n",
       "      <td>0.0</td>\n",
       "      <td>1</td>\n",
       "      <td>1</td>\n",
       "      <td>9</td>\n",
       "      <td>1</td>\n",
       "    </tr>\n",
       "    <tr>\n",
       "      <th>4</th>\n",
       "      <td>5</td>\n",
       "      <td>1</td>\n",
       "      <td>['ED CT']</td>\n",
       "      <td>1.899614</td>\n",
       "      <td>71.369191</td>\n",
       "      <td>69.469577</td>\n",
       "      <td>0.0</td>\n",
       "      <td>0.0</td>\n",
       "      <td>0.000000</td>\n",
       "      <td>0.0</td>\n",
       "      <td>1</td>\n",
       "      <td>1</td>\n",
       "      <td>9</td>\n",
       "      <td>1</td>\n",
       "    </tr>\n",
       "    <tr>\n",
       "      <th>5</th>\n",
       "      <td>6</td>\n",
       "      <td>1</td>\n",
       "      <td>['ED Blood Test', 'ED CT']</td>\n",
       "      <td>2.768536</td>\n",
       "      <td>81.023893</td>\n",
       "      <td>78.255357</td>\n",
       "      <td>0.0</td>\n",
       "      <td>0.0</td>\n",
       "      <td>0.000000</td>\n",
       "      <td>0.0</td>\n",
       "      <td>1</td>\n",
       "      <td>1</td>\n",
       "      <td>9</td>\n",
       "      <td>1</td>\n",
       "    </tr>\n",
       "    <tr>\n",
       "      <th>6</th>\n",
       "      <td>7</td>\n",
       "      <td>1</td>\n",
       "      <td>['Triage ECG']</td>\n",
       "      <td>2.991550</td>\n",
       "      <td>86.928364</td>\n",
       "      <td>83.936815</td>\n",
       "      <td>0.0</td>\n",
       "      <td>0.0</td>\n",
       "      <td>1.769070</td>\n",
       "      <td>0.0</td>\n",
       "      <td>1</td>\n",
       "      <td>1</td>\n",
       "      <td>9</td>\n",
       "      <td>1</td>\n",
       "    </tr>\n",
       "    <tr>\n",
       "      <th>7</th>\n",
       "      <td>8</td>\n",
       "      <td>1</td>\n",
       "      <td>[]</td>\n",
       "      <td>3.118041</td>\n",
       "      <td>15.615620</td>\n",
       "      <td>12.497579</td>\n",
       "      <td>0.0</td>\n",
       "      <td>0.0</td>\n",
       "      <td>0.000000</td>\n",
       "      <td>0.0</td>\n",
       "      <td>1</td>\n",
       "      <td>1</td>\n",
       "      <td>9</td>\n",
       "      <td>1</td>\n",
       "    </tr>\n",
       "    <tr>\n",
       "      <th>8</th>\n",
       "      <td>9</td>\n",
       "      <td>3</td>\n",
       "      <td>['Triage ECG', 'ED CT']</td>\n",
       "      <td>3.435579</td>\n",
       "      <td>136.864243</td>\n",
       "      <td>133.428664</td>\n",
       "      <td>0.0</td>\n",
       "      <td>0.0</td>\n",
       "      <td>1.516355</td>\n",
       "      <td>0.0</td>\n",
       "      <td>1</td>\n",
       "      <td>1</td>\n",
       "      <td>9</td>\n",
       "      <td>1</td>\n",
       "    </tr>\n",
       "    <tr>\n",
       "      <th>9</th>\n",
       "      <td>10</td>\n",
       "      <td>1</td>\n",
       "      <td>['ED Blood Test']</td>\n",
       "      <td>3.808014</td>\n",
       "      <td>23.383472</td>\n",
       "      <td>19.575458</td>\n",
       "      <td>0.0</td>\n",
       "      <td>0.0</td>\n",
       "      <td>0.000000</td>\n",
       "      <td>0.0</td>\n",
       "      <td>1</td>\n",
       "      <td>1</td>\n",
       "      <td>9</td>\n",
       "      <td>1</td>\n",
       "    </tr>\n",
       "  </tbody>\n",
       "</table>\n",
       "</div>"
      ],
      "text/plain": [
       "   Patient ID   CTAS Level                                            Tests  \\\n",
       "0           1            1                                ['ED Blood Test']   \n",
       "1           2            5   ['Triage ECG', 'Triage Urine', 'Triage X-Ray']   \n",
       "2           3            0                                               []   \n",
       "3           4            0                                               []   \n",
       "4           5            1                                        ['ED CT']   \n",
       "5           6            1                       ['ED Blood Test', 'ED CT']   \n",
       "6           7            1                                   ['Triage ECG']   \n",
       "7           8            1                                               []   \n",
       "8           9            3                          ['Triage ECG', 'ED CT']   \n",
       "9          10            1                                ['ED Blood Test']   \n",
       "\n",
       "    Arrival Time   Departure Time         LOS   Triage Waiting Time  \\\n",
       "0       0.000000        22.564901   22.564901                   0.0   \n",
       "1       0.365564       101.528271  101.162708                   0.0   \n",
       "2       1.462743         0.000000   -1.462743                   0.0   \n",
       "3       1.532924         0.000000   -1.532924                   0.0   \n",
       "4       1.899614        71.369191   69.469577                   0.0   \n",
       "5       2.768536        81.023893   78.255357                   0.0   \n",
       "6       2.991550        86.928364   83.936815                   0.0   \n",
       "7       3.118041        15.615620   12.497579                   0.0   \n",
       "8       3.435579       136.864243  133.428664                   0.0   \n",
       "9       3.808014        23.383472   19.575458                   0.0   \n",
       "\n",
       "    ED Waiting Time   Medication Waiting Time   Inpatient Waiting Time  \\\n",
       "0               0.0                  0.000000                      0.0   \n",
       "1               0.0                  1.936929                      0.0   \n",
       "2               0.0                  0.000000                      0.0   \n",
       "3               0.0                  0.000000                      0.0   \n",
       "4               0.0                  0.000000                      0.0   \n",
       "5               0.0                  0.000000                      0.0   \n",
       "6               0.0                  1.769070                      0.0   \n",
       "7               0.0                  0.000000                      0.0   \n",
       "8               0.0                  1.516355                      0.0   \n",
       "9               0.0                  0.000000                      0.0   \n",
       "\n",
       "    Triage Waiting Room Length   ED Waiting Room Length  \\\n",
       "0                            1                        1   \n",
       "1                            1                        1   \n",
       "2                            1                        1   \n",
       "3                            1                        1   \n",
       "4                            1                        1   \n",
       "5                            1                        1   \n",
       "6                            1                        1   \n",
       "7                            1                        1   \n",
       "8                            1                        1   \n",
       "9                            1                        1   \n",
       "\n",
       "    Medication Waiting Room Length   Inpatient Waiting Room Length  \n",
       "0                                9                               1  \n",
       "1                                9                               1  \n",
       "2                                9                               1  \n",
       "3                                9                               1  \n",
       "4                                9                               1  \n",
       "5                                9                               1  \n",
       "6                                9                               1  \n",
       "7                                9                               1  \n",
       "8                                9                               1  \n",
       "9                                9                               1  "
      ]
     },
     "execution_count": 24,
     "metadata": {},
     "output_type": "execute_result"
    }
   ],
   "source": [
    "# df[1000:1010]\n",
    "df[:10]"
   ]
  },
  {
   "cell_type": "code",
   "execution_count": 25,
   "id": "b3fc0463",
   "metadata": {},
   "outputs": [
    {
     "data": {
      "text/plain": [
       "Index(['Patient ID', 'CTAS Level', 'Tests', 'Arrival Time', 'Departure Time',\n",
       "       'LOS', 'Triage Waiting Time', 'ED Waiting Time',\n",
       "       'Medication Waiting Time', 'Inpatient Waiting Time',\n",
       "       'Triage Waiting Room Length', 'ED Waiting Room Length',\n",
       "       'Medication Waiting Room Length', 'Inpatient Waiting Room Length'],\n",
       "      dtype='object')"
      ]
     },
     "execution_count": 25,
     "metadata": {},
     "output_type": "execute_result"
    }
   ],
   "source": [
    "df.columns = df.columns.str.lstrip()\n",
    "df.columns"
   ]
  },
  {
   "cell_type": "code",
   "execution_count": 26,
   "id": "de520525",
   "metadata": {},
   "outputs": [
    {
     "name": "stdout",
     "output_type": "stream",
     "text": [
      "12039\n"
     ]
    }
   ],
   "source": [
    "los_vals = []\n",
    "\n",
    "for items in df[\"LOS\"]:\n",
    "    if items > 0:\n",
    "        los_vals.append(items)\n",
    "        \n",
    "print(len(los_vals))"
   ]
  },
  {
   "cell_type": "code",
   "execution_count": 27,
   "id": "03526f24",
   "metadata": {},
   "outputs": [],
   "source": [
    "# for items in df[\"Tests\"]:\n",
    "#     items = ast.literal_eval(items)\n",
    "#     if len(items) > 1:\n",
    "#         print(items)"
   ]
  },
  {
   "cell_type": "code",
   "execution_count": 28,
   "id": "57f99289",
   "metadata": {},
   "outputs": [],
   "source": [
    "# los_vals.sort()\n",
    "# print(los_vals)"
   ]
  },
  {
   "cell_type": "code",
   "execution_count": 29,
   "id": "15d5416f",
   "metadata": {},
   "outputs": [
    {
     "name": "stdout",
     "output_type": "stream",
     "text": [
      "6.993154809173348 302.9024613841666\n"
     ]
    }
   ],
   "source": [
    "print(min(los_vals), max(los_vals))"
   ]
  },
  {
   "cell_type": "code",
   "execution_count": 30,
   "id": "eb8238f3",
   "metadata": {},
   "outputs": [
    {
     "data": {
      "image/png": "[encoded data removed]",
      "text/plain": [
       "<Figure size 640x480 with 1 Axes>"
      ]
     },
     "metadata": {},
     "output_type": "display_data"
    }
   ],
   "source": [
    "plt.hist(los_vals, density=True, bins=\"auto\")\n",
    "plt.show()"
   ]
  },
  {
   "cell_type": "code",
   "execution_count": 31,
   "id": "13d04fc9",
   "metadata": {},
   "outputs": [
    {
     "name": "stdout",
     "output_type": "stream",
     "text": [
      "8058 3981\n"
     ]
    }
   ],
   "source": [
    "los_vals_ctas_i_iii = []\n",
    "los_vals_ctas_iv_v = []\n",
    "\n",
    "for ctas, los in zip(df[\"CTAS Level\"], df[\"LOS\"]):\n",
    "    if los > 0:\n",
    "        if int(ctas) in [1, 2, 3]:\n",
    "            los_vals_ctas_i_iii.append(los)\n",
    "        elif int(ctas) in [4, 5]:\n",
    "            los_vals_ctas_iv_v.append(los)\n",
    "        \n",
    "print(len(los_vals_ctas_i_iii), len(los_vals_ctas_iv_v))"
   ]
  },
  {
   "cell_type": "code",
   "execution_count": 32,
   "id": "4b72e7a4",
   "metadata": {},
   "outputs": [
    {
     "data": {
      "image/png": "[encoded data removed]",
      "text/plain": [
       "<Figure size 640x480 with 1 Axes>"
      ]
     },
     "metadata": {},
     "output_type": "display_data"
    }
   ],
   "source": [
    "plt.hist(los_vals_ctas_i_iii, density=True, bins=\"auto\")\n",
    "plt.hist(los_vals_ctas_iv_v, density=True, bins=\"auto\")\n",
    "plt.show()"
   ]
  },
  {
   "cell_type": "code",
   "execution_count": 33,
   "id": "b2992d7f",
   "metadata": {},
   "outputs": [],
   "source": [
    "los_vals = [x/60 for x in los_vals]\n",
    "ecdf = sm.distributions.ECDF(los_vals)"
   ]
  },
  {
   "cell_type": "code",
   "execution_count": 34,
   "id": "29abe0c1",
   "metadata": {},
   "outputs": [],
   "source": [
    "x = np.linspace(min(los_vals), max(los_vals), num=len(los_vals))\n",
    "# Evaluate the CDF at each x-value\n",
    "y = ecdf(x)"
   ]
  },
  {
   "cell_type": "code",
   "execution_count": 35,
   "id": "b74c9148",
   "metadata": {},
   "outputs": [
    {
     "data": {
      "image/png": "[encoded data removed]",
      "text/plain": [
       "<Figure size 640x480 with 1 Axes>"
      ]
     },
     "metadata": {},
     "output_type": "display_data"
    }
   ],
   "source": [
    "plt.step(x, y)\n",
    "plt.xlabel('LOS (hours)')\n",
    "plt.ylabel('CDF')\n",
    "plt.title('Empirical CDF of LOS')\n",
    "plt.show()"
   ]
  },
  {
   "cell_type": "code",
   "execution_count": 36,
   "id": "2c28e33a",
   "metadata": {},
   "outputs": [
    {
     "name": "stdout",
     "output_type": "stream",
     "text": [
      "4121 1946 1991 2073 1908\n"
     ]
    }
   ],
   "source": [
    "los_vals_ctas_i = []\n",
    "los_vals_ctas_ii = []\n",
    "los_vals_ctas_iii = []\n",
    "los_vals_ctas_iv = []\n",
    "los_vals_ctas_v = []\n",
    "\n",
    "for ctas, los in zip(df[\"CTAS Level\"], df[\"LOS\"]):\n",
    "    if los > 0:\n",
    "        if int(ctas) == 1:\n",
    "            los_vals_ctas_i.append(los)\n",
    "        elif int(ctas) == 2:\n",
    "            los_vals_ctas_ii.append(los)\n",
    "        elif int(ctas) == 3:\n",
    "            los_vals_ctas_iii.append(los)\n",
    "        elif int(ctas) == 4:\n",
    "            los_vals_ctas_iv.append(los)\n",
    "        elif int(ctas) == 5:\n",
    "            los_vals_ctas_v.append(los)\n",
    "        \n",
    "print(len(los_vals_ctas_i), len(los_vals_ctas_ii), len(los_vals_ctas_iii), \n",
    "      len(los_vals_ctas_iv), len(los_vals_ctas_v))"
   ]
  },
  {
   "cell_type": "code",
   "execution_count": 37,
   "id": "e3f88124",
   "metadata": {},
   "outputs": [
    {
     "name": "stdout",
     "output_type": "stream",
     "text": [
      "1.191850145852287 1.669168385185064 1.654709216089364 1.69168065555771 1.3175712827598418\n"
     ]
    }
   ],
   "source": [
    "avg_los_ctas_i = sum(los_vals_ctas_i)/len(los_vals_ctas_i)\n",
    "avg_los_ctas_ii = sum(los_vals_ctas_ii)/len(los_vals_ctas_ii)\n",
    "avg_los_ctas_iii = sum(los_vals_ctas_iii)/len(los_vals_ctas_iii)\n",
    "avg_los_ctas_iv = sum(los_vals_ctas_iv)/len(los_vals_ctas_iv)\n",
    "avg_los_ctas_v = sum(los_vals_ctas_v)/len(los_vals_ctas_v)\n",
    "\n",
    "print(avg_los_ctas_i/60, avg_los_ctas_ii/60, avg_los_ctas_iii/60, avg_los_ctas_iv/60, avg_los_ctas_v/60)"
   ]
  },
  {
   "cell_type": "code",
   "execution_count": 38,
   "id": "5a7defda",
   "metadata": {},
   "outputs": [
    {
     "data": {
      "image/png": "[encoded data removed]",
      "text/plain": [
       "<Figure size 640x480 with 1 Axes>"
      ]
     },
     "metadata": {},
     "output_type": "display_data"
    }
   ],
   "source": [
    "plt.hist(los_vals_ctas_i, density=True, bins=\"auto\")\n",
    "plt.hist(los_vals_ctas_ii, density=True, bins=\"auto\")\n",
    "plt.hist(los_vals_ctas_iii, density=True, bins=\"auto\")\n",
    "plt.hist(los_vals_ctas_iv, density=True, bins=\"auto\")\n",
    "plt.hist(los_vals_ctas_v, density=True, bins=\"auto\")\n",
    "plt.show()"
   ]
  },
  {
   "cell_type": "code",
   "execution_count": 39,
   "id": "193d3f1b",
   "metadata": {},
   "outputs": [],
   "source": [
    "los_vals_i = [x for x in los_vals_ctas_i]\n",
    "los_vals_ii = [x for x in los_vals_ctas_ii]\n",
    "los_vals_iii = [x for x in los_vals_ctas_iii]\n",
    "los_vals_iv = [x for x in los_vals_ctas_iv]\n",
    "los_vals_v = [x for x in los_vals_ctas_v]\n",
    "\n",
    "ecdf_i = sm.distributions.ECDF(los_vals_i)\n",
    "ecdf_ii = sm.distributions.ECDF(los_vals_ii)\n",
    "ecdf_iii = sm.distributions.ECDF(los_vals_iii)\n",
    "ecdf_iv = sm.distributions.ECDF(los_vals_iv)\n",
    "ecdf_v = sm.distributions.ECDF(los_vals_v)"
   ]
  },
  {
   "cell_type": "code",
   "execution_count": 40,
   "id": "548ea383",
   "metadata": {},
   "outputs": [],
   "source": [
    "x_i = np.linspace(min(los_vals_i), max(los_vals_i), num=len(los_vals_i))\n",
    "x_ii = np.linspace(min(los_vals_ii), max(los_vals_ii), num=len(los_vals_ii))\n",
    "x_iii = np.linspace(min(los_vals_iii), max(los_vals_iii), num=len(los_vals_iii))\n",
    "x_iv = np.linspace(min(los_vals_iv), max(los_vals_iv), num=len(los_vals_iv))\n",
    "x_v = np.linspace(min(los_vals_iv), max(los_vals_v), num=len(los_vals_v))\n",
    "\n",
    "# Evaluate the CDF at each x-value\n",
    "y_i = ecdf(x_i)\n",
    "y_ii = ecdf(x_ii)\n",
    "y_iii = ecdf(x_iii)\n",
    "y_iv = ecdf(x_iv)\n",
    "y_v = ecdf(x_v)"
   ]
  },
  {
   "cell_type": "code",
   "execution_count": 41,
   "id": "c9b1ce32",
   "metadata": {},
   "outputs": [
    {
     "data": {
      "image/png": "[encoded data removed]",
      "text/plain": [
       "<Figure size 640x480 with 1 Axes>"
      ]
     },
     "metadata": {},
     "output_type": "display_data"
    }
   ],
   "source": [
    "plt.step(x_i, y_i)\n",
    "plt.xlabel('LOS (hours)')\n",
    "plt.ylabel('CDF')\n",
    "plt.title('Empirical CDF of LOS')\n",
    "plt.show()"
   ]
  },
  {
   "cell_type": "code",
   "execution_count": 42,
   "id": "d75fe8c6",
   "metadata": {},
   "outputs": [
    {
     "data": {
      "image/png": "[encoded data removed]",
      "text/plain": [
       "<Figure size 640x480 with 1 Axes>"
      ]
     },
     "metadata": {},
     "output_type": "display_data"
    }
   ],
   "source": [
    "plt.step(x_ii, y_ii)\n",
    "plt.xlabel('LOS (hours)')\n",
    "plt.ylabel('CDF')\n",
    "plt.title('Empirical CDF of LOS')\n",
    "plt.show()"
   ]
  },
  {
   "cell_type": "code",
   "execution_count": null,
   "id": "503b1168",
   "metadata": {},
   "outputs": [],
   "source": [
    "plt.step(x_iii, y_iii)\n",
    "plt.xlabel('LOS (hours)')\n",
    "plt.ylabel('CDF')\n",
    "plt.title('Empirical CDF of LOS')\n",
    "plt.show()"
   ]
  },
  {
   "cell_type": "code",
   "execution_count": null,
   "id": "0ffb5f57",
   "metadata": {},
   "outputs": [],
   "source": [
    "plt.step(x_iv, y_iv)\n",
    "plt.xlabel('LOS (hours)')\n",
    "plt.ylabel('CDF')\n",
    "plt.title('Empirical CDF of LOS')\n",
    "plt.show()"
   ]
  },
  {
   "cell_type": "code",
   "execution_count": null,
   "id": "9dc10014",
   "metadata": {},
   "outputs": [],
   "source": [
    "plt.step(x_v, y_v)\n",
    "plt.xlabel('LOS (hours)')\n",
    "plt.ylabel('CDF')\n",
    "plt.title('Empirical CDF of LOS')\n",
    "plt.show()"
   ]
  },
  {
   "cell_type": "code",
   "execution_count": null,
   "id": "2c4ba789",
   "metadata": {},
   "outputs": [],
   "source": []
  }
 ],
 "metadata": {
  "kernelspec": {
   "display_name": "Python 3 (ipykernel)",
   "language": "python",
   "name": "python3"
  },
  "language_info": {
   "codemirror_mode": {
    "name": "ipython",
    "version": 3
   },
   "file_extension": ".py",
   "mimetype": "text/x-python",
   "name": "python",
   "nbconvert_exporter": "python",
   "pygments_lexer": "ipython3",
   "version": "3.11.0"
  }
 },
 "nbformat": 4,
 "nbformat_minor": 5
}
