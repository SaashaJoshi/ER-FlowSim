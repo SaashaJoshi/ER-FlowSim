{
 "cells": [
  {
   "cell_type": "code",
   "execution_count": 1,
   "id": "e72545d6",
   "metadata": {},
   "outputs": [],
   "source": [
    "import numpy as np\n",
    "from scipy.stats import t\n",
    "import pandas as pd\n",
    "import matplotlib.pyplot as plt"
   ]
  },
  {
   "cell_type": "markdown",
   "id": "669e20d7",
   "metadata": {},
   "source": [
    "## Simulation System 1\n",
    "\n",
    "This system has patients with different CTAS levels (1 to 5) flowing into different departments (Triage, ED, and Inpatient). Along with this, patients undergo diagnostic tests at the Triage and ED levels. \n",
    "\n",
    "The simulation parameters are as follows: \\\n",
    "No. doctors: 100 \\\n",
    "No. nurses: 100 \\\n",
    "No. of admin staff: 70 \\\n",
    "No. of consultants: 10 \n",
    "No. of ECG machines = 5 \\\n",
    "No. of CT machines = 5 \\\n",
    "No. of X-Ray machines = 5 \n",
    "\n",
    "\n",
    "The simulation is run for 43800 minutes (i.e. one month) and LOS data from first 500 patients is discarded as warm-up data. In total 48k LOS data values are selected from each simulation run.\n",
    "\n",
    "The seeds used for 5 rounds are: \\\n",
    "Round 1: 100 \\\n",
    "Round 2: 121 \\\n",
    "Round 3: 146 \\\n",
    "Round 4: 258 \\\n",
    "Round 5: 41"
   ]
  },
  {
   "cell_type": "code",
   "execution_count": null,
   "id": "7a7b6f75",
   "metadata": {},
   "outputs": [],
   "source": [
    "# Read simulation results as dataframe\n",
    "df1 = pd.read_csv(\"../results/simulation_results_system_1_1.csv\", sep=r\",(?![^\\[]*\\])\")\n",
    "df2 = pd.read_csv(\"../results/simulation_results_system_1_2.csv\", sep=r\",(?![^\\[]*\\])\")\n",
    "df3 = pd.read_csv(\"../results/simulation_results_system_1_3.csv\", sep=r\",(?![^\\[]*\\])\")\n",
    "df4 = pd.read_csv(\"../results/simulation_results_system_1_4.csv\", sep=r\",(?![^\\[]*\\])\")\n",
    "df5 = pd.read_csv(\"../results/simulation_results_system_1_5.csv\", sep=r\",(?![^\\[]*\\])\")\n",
    "df_list = [df1, df2, df3, df4, df5]"
   ]
  },
  {
   "cell_type": "code",
   "execution_count": null,
   "id": "5b64b8da",
   "metadata": {},
   "outputs": [],
   "source": [
    "for df in df_list:\n",
    "    df.columns = df.columns.str.lstrip()"
   ]
  },
  {
   "cell_type": "code",
   "execution_count": null,
   "id": "18213a7a",
   "metadata": {
    "scrolled": true
   },
   "outputs": [],
   "source": [
    "df1[:5]"
   ]
  },
  {
   "cell_type": "code",
   "execution_count": null,
   "id": "61007206",
   "metadata": {},
   "outputs": [],
   "source": [
    "# Read LOS data from dataframe df\n",
    "# LOS values of only treated patients is considered\n",
    "# Treated patients are the ones that complete their run (arrival to departure) in the ER\n",
    "\n",
    "los_vals_1 = []\n",
    "los_vals_2 = []\n",
    "los_vals_3 = []\n",
    "los_vals_4 = []\n",
    "los_vals_5 = []\n",
    "\n",
    "for items in df1[\"LOS\"]:\n",
    "    if items > 0:\n",
    "        los_vals_1.append(items/60)\n",
    "\n",
    "for items in df2[\"LOS\"]:\n",
    "    if items > 0:\n",
    "        los_vals_2.append(items/60)\n",
    "        \n",
    "for items in df3[\"LOS\"]:\n",
    "    if items > 0:\n",
    "        los_vals_3.append(items/60)\n",
    "        \n",
    "for items in df4[\"LOS\"]:\n",
    "    if items > 0:\n",
    "        los_vals_4.append(items/60)\n",
    "        \n",
    "for items in df5[\"LOS\"]:\n",
    "    if items > 0:\n",
    "        los_vals_5.append(items/60)\n",
    "\n",
    "los_vals_list = [los_vals_1, los_vals_2, los_vals_3, los_vals_4, los_vals_5]\n",
    "print(min(los_vals_1), max(los_vals_1))"
   ]
  },
  {
   "cell_type": "code",
   "execution_count": null,
   "id": "bd036eaa",
   "metadata": {},
   "outputs": [],
   "source": [
    "mean_list = []\n",
    "std_dev_list = []\n",
    "n_list = []\n",
    "\n",
    "for los_vals in los_vals_list:\n",
    "    los_vals = np.array(los_vals)\n",
    "    mean_list.append(np.mean(los_vals))\n",
    "    std_dev_list.append(np.std(los_vals))\n",
    "\n",
    "    n_list.append(len(los_vals))\n",
    "\n",
    "print(mean_list, std_dev_list, n_list)"
   ]
  },
  {
   "cell_type": "code",
   "execution_count": null,
   "id": "3921f4a7",
   "metadata": {},
   "outputs": [],
   "source": [
    "# Check critical values from table/ppf function\n",
    "alpha = 0.05\n",
    "t_critical_list = []\n",
    "\n",
    "for n in n_list:\n",
    "    dof = n - 1\n",
    "    t_critical_list.append(t.ppf(1-alpha/2, dof))\n",
    "\n",
    "print(t_critical_list)"
   ]
  },
  {
   "cell_type": "code",
   "execution_count": null,
   "id": "35cdc8f4",
   "metadata": {},
   "outputs": [],
   "source": [
    "# Calculate confidence interval\n",
    "# H_val = t_critical * std_dev * (np.sqrt(1 + (1/n)))\n",
    "\n",
    "H_val_list = []\n",
    "lower_bound = []\n",
    "upper_bound = []\n",
    "\n",
    "for index, t_critical in enumerate(t_critical_list):\n",
    "    H_val = t_critical * std_dev_list[index] * (1/np.sqrt(n_list[index]))\n",
    "    H_val_list.append(H_val)\n",
    "    lower_bound.append(mean_list[index] - H_val)\n",
    "    upper_bound.append(mean_list[index] + H_val)\n",
    "\n",
    "print(lower_bound, upper_bound, H_val_list)\n",
    "# print([mean - lower_bound], [upper_bound - mean])"
   ]
  },
  {
   "cell_type": "code",
   "execution_count": null,
   "id": "4f2e7f30",
   "metadata": {},
   "outputs": [],
   "source": [
    "# Across rep data\n",
    "var_list = [a**2 for a in std_dev_list]\n",
    "\n",
    "a_mean = sum(mean_list)/5\n",
    "\n",
    "a_var = 0\n",
    "for means in mean_list:\n",
    "    a_var += (means - a_mean) ** 2\n",
    "\n",
    "a_var = a_var/4\n",
    "a_std_dev = np.sqrt(a_var)\n",
    "\n",
    "a_H_val = t_critical_list[0] * a_std_dev * (1/np.sqrt(5))\n",
    "\n",
    "print(a_mean, a_std_dev, a_H_val, var_list, a_var)"
   ]
  },
  {
   "cell_type": "code",
   "execution_count": null,
   "id": "8e1a5205",
   "metadata": {},
   "outputs": [],
   "source": [
    "a_lower_bound = a_mean - a_H_val\n",
    "a_upper_bound = a_mean + a_H_val\n",
    "print(a_lower_bound, a_upper_bound)"
   ]
  },
  {
   "cell_type": "code",
   "execution_count": null,
   "id": "c485f7d8",
   "metadata": {},
   "outputs": [],
   "source": [
    "# Plot boxplot for confidence intervals\n",
    "# fig, axs = plt.subplots(nrows=5, ncols=1, figsize=(12, 8))\n",
    "interval_list = []\n",
    "for index, mean in enumerate(mean_list):\n",
    "    interval_list.append([lower_bound[index], mean, upper_bound[index]])\n",
    "\n",
    "for index, interval in enumerate(interval_list):\n",
    "    plt.boxplot(interval, medianprops=dict(color=\"red\"), positions=[index+1])\n",
    "    # plt.plot((index, index, index), interval)\n",
    "    # plt.axhline(y=interval[1], color='orange', linestyle='--')\n",
    "    \n",
    "plt.show()"
   ]
  },
  {
   "cell_type": "code",
   "execution_count": null,
   "id": "984a454a",
   "metadata": {},
   "outputs": [],
   "source": [
    "# Drawing bar graph with error bars to show confidence interval\n",
    "\n",
    "# fig, ax = plt.subplots()\n",
    "# ax.bar(0, los_vals, yerr=[[mean - lower_bound], [upper_bound - mean]], align='center', alpha=0.5, ecolor='black', capsize=10)\n",
    "\n",
    "# ax.set_ylabel('Mean LOS')\n",
    "# ax.set_xticks([0])\n",
    "# ax.set_xticklabels(['Hospital A'])\n",
    "# ax.set_title('Mean LOS')\n",
    "\n",
    "# plt.show()"
   ]
  },
  {
   "cell_type": "markdown",
   "id": "e417b5bb",
   "metadata": {},
   "source": [
    "## Simulation System 2\n",
    "\n",
    "This system has patients with different CTAS levels (1 to 5) flowing into different departments (Triage, ED, and Inpatient). Along with this, patients undergo diagnostic tests at the Triage and ED levels. \n",
    "\n",
    "The simulation parameters are as follows: \\\n",
    "No. doctors: 50 \\\n",
    "No. nurses: 50 \\\n",
    "No. of admin staff: 35 \\\n",
    "No. of consultants: 5 \\\n",
    "No. of ECG machines = 5 \\\n",
    "No. of CT machines = 5 \\\n",
    "No. of X-Ray machines = 5 \n",
    "\n",
    "\n",
    "The simulation is run for 43800 minutes (i.e. one month) and LOS data from first 500 patients is discarded as warm-up data. In total 48k LOS data values are selected from each simulation run.\n",
    "\n",
    "The seeds used for 5 rounds are: \\\n",
    "Round 1: 100 \\\n",
    "Round 2: 121 \\\n",
    "Round 3: 146 \\\n",
    "Round 4: 258 \\\n",
    "Round 5: 41"
   ]
  },
  {
   "cell_type": "code",
   "execution_count": null,
   "id": "850bbb99",
   "metadata": {},
   "outputs": [],
   "source": [
    "# Read simulation results as dataframe\n",
    "df21 = pd.read_csv(\"../results/simulation_results_system_2_1.csv\", sep=r\",(?![^\\[]*\\])\")\n",
    "df22 = pd.read_csv(\"../results/simulation_results_system_2_2.csv\", sep=r\",(?![^\\[]*\\])\")\n",
    "df23 = pd.read_csv(\"../results/simulation_results_system_2_3.csv\", sep=r\",(?![^\\[]*\\])\")\n",
    "df24 = pd.read_csv(\"../results/simulation_results_system_2_4.csv\", sep=r\",(?![^\\[]*\\])\")\n",
    "df25 = pd.read_csv(\"../results/simulation_results_system_2_5.csv\", sep=r\",(?![^\\[]*\\])\")\n",
    "df_list = [df21, df22, df23, df24, df25]"
   ]
  },
  {
   "cell_type": "code",
   "execution_count": null,
   "id": "3d9c2736",
   "metadata": {},
   "outputs": [],
   "source": [
    "for df in df_list:\n",
    "    df.columns = df.columns.str.lstrip()"
   ]
  },
  {
   "cell_type": "code",
   "execution_count": null,
   "id": "9c28c477",
   "metadata": {},
   "outputs": [],
   "source": [
    "# Read LOS data from dataframe df\n",
    "# LOS values of only treated patients is considered\n",
    "# Treated patients are the ones that complete their run (arrival to departure) in the ER\n",
    "\n",
    "los_vals_1 = []\n",
    "los_vals_2 = []\n",
    "los_vals_3 = []\n",
    "los_vals_4 = []\n",
    "los_vals_5 = []\n",
    "\n",
    "for items in df21[\"LOS\"]:\n",
    "    if items > 0:\n",
    "        los_vals_1.append(items/60)\n",
    "\n",
    "for items in df22[\"LOS\"]:\n",
    "    if items > 0:\n",
    "        los_vals_2.append(items/60)\n",
    "        \n",
    "for items in df23[\"LOS\"]:\n",
    "    if items > 0:\n",
    "        los_vals_3.append(items/60)\n",
    "        \n",
    "for items in df24[\"LOS\"]:\n",
    "    if items > 0:\n",
    "        los_vals_4.append(items/60)\n",
    "        \n",
    "for items in df25[\"LOS\"]:\n",
    "    if items > 0:\n",
    "        los_vals_5.append(items/60)\n",
    "\n",
    "los_vals_list = [los_vals_1, los_vals_2, los_vals_3, los_vals_4, los_vals_5]\n",
    "print(min(los_vals_1), max(los_vals_1))"
   ]
  },
  {
   "cell_type": "code",
   "execution_count": null,
   "id": "642ed6f2",
   "metadata": {},
   "outputs": [],
   "source": [
    "mean_list = []\n",
    "std_dev_list = []\n",
    "n_list = []\n",
    "\n",
    "for los_vals in los_vals_list:\n",
    "    los_vals = np.array(los_vals[100:])\n",
    "    mean_list.append(np.mean(los_vals))\n",
    "    std_dev_list.append(np.std(los_vals))\n",
    "\n",
    "    n_list.append(len(los_vals))\n",
    "\n",
    "print(mean_list, std_dev_list, n_list)"
   ]
  },
  {
   "cell_type": "code",
   "execution_count": null,
   "id": "891f8d59",
   "metadata": {},
   "outputs": [],
   "source": [
    "# Check critical values from table/ppf function\n",
    "alpha = 0.05\n",
    "t_critical_list = []\n",
    "\n",
    "for n in n_list:\n",
    "    dof = n - 1\n",
    "    t_critical_list.append(t.ppf(1-alpha/2, dof))\n",
    "\n",
    "print(t_critical_list)"
   ]
  },
  {
   "cell_type": "code",
   "execution_count": null,
   "id": "70be5a03",
   "metadata": {},
   "outputs": [],
   "source": [
    "# Calculate confidence interval\n",
    "# H_val = t_critical * std_dev * (np.sqrt(1 + (1/n)))\n",
    "\n",
    "H_val_list = []\n",
    "lower_bound = []\n",
    "upper_bound = []\n",
    "\n",
    "for index, t_critical in enumerate(t_critical_list):\n",
    "    H_val = t_critical * std_dev_list[index] * (1/np.sqrt(n_list[index]))\n",
    "    H_val_list.append(H_val)\n",
    "    lower_bound.append(mean_list[index] - H_val)\n",
    "    upper_bound.append(mean_list[index] + H_val)\n",
    "\n",
    "print(lower_bound, upper_bound, H_val_list)\n",
    "# print([mean - lower_bound], [upper_bound - mean])"
   ]
  },
  {
   "cell_type": "code",
   "execution_count": null,
   "id": "ce0969e3",
   "metadata": {},
   "outputs": [],
   "source": [
    "# Across rep data\n",
    "var_list = [a**2 for a in std_dev_list]\n",
    "\n",
    "a_mean = sum(mean_list)/5\n",
    "\n",
    "a_var = 0\n",
    "for means in mean_list:\n",
    "    a_var += (means - a_mean) ** 2\n",
    "\n",
    "a_var = a_var/4\n",
    "a_std_dev = np.sqrt(a_var)\n",
    "\n",
    "a_H_val = t_critical_list[0] * a_std_dev * (1/np.sqrt(5))\n",
    "\n",
    "print(a_mean, a_std_dev, a_H_val, var_list, a_var, a_std_dev)"
   ]
  },
  {
   "cell_type": "code",
   "execution_count": null,
   "id": "3e532216",
   "metadata": {},
   "outputs": [],
   "source": [
    "a_lower_bound = a_mean - a_H_val\n",
    "a_upper_bound = a_mean + a_H_val\n",
    "print(a_lower_bound, a_upper_bound)"
   ]
  },
  {
   "cell_type": "code",
   "execution_count": null,
   "id": "0e15c3d5",
   "metadata": {},
   "outputs": [],
   "source": [
    "# Plot boxplot for confidence intervals\n",
    "# fig, axs = plt.subplots(nrows=5, ncols=1, figsize=(12, 8))\n",
    "interval_list = []\n",
    "for index, mean in enumerate(mean_list):\n",
    "    interval_list.append([lower_bound[index], mean, upper_bound[index]])\n",
    "\n",
    "for index, interval in enumerate(interval_list):\n",
    "    plt.boxplot(interval, medianprops=dict(color=\"red\"), positions=[index+1])\n",
    "    # plt.plot((index, index, index), interval)\n",
    "    # plt.axhline(y=interval[1], color='orange', linestyle='--')\n",
    "    \n",
    "plt.show()"
   ]
  },
  {
   "cell_type": "markdown",
   "id": "5babb675",
   "metadata": {},
   "source": [
    "## Simulation System 3"
   ]
  },
  {
   "cell_type": "code",
   "execution_count": null,
   "id": "19aa0c17",
   "metadata": {},
   "outputs": [],
   "source": [
    "# Read simulation results as dataframe\n",
    "df31 = pd.read_csv(\"../results/simulation_results_system_3_1.csv\", sep=r\",(?![^\\[]*\\])\")\n",
    "df32 = pd.read_csv(\"../results/simulation_results_system_3_2.csv\", sep=r\",(?![^\\[]*\\])\")\n",
    "df33 = pd.read_csv(\"../results/simulation_results_system_3_3.csv\", sep=r\",(?![^\\[]*\\])\")\n",
    "df34 = pd.read_csv(\"../results/simulation_results_system_3_4.csv\", sep=r\",(?![^\\[]*\\])\")\n",
    "df35 = pd.read_csv(\"../results/simulation_results_system_3_5.csv\", sep=r\",(?![^\\[]*\\])\")\n",
    "df_list = [df31, df32, df33, df34, df35]"
   ]
  },
  {
   "cell_type": "code",
   "execution_count": null,
   "id": "6d24ccae",
   "metadata": {},
   "outputs": [],
   "source": [
    "for df in df_list:\n",
    "    df.columns = df.columns.str.lstrip()"
   ]
  },
  {
   "cell_type": "code",
   "execution_count": null,
   "id": "d2289d49",
   "metadata": {},
   "outputs": [],
   "source": [
    "# Read LOS data from dataframe df\n",
    "# LOS values of only treated patients is considered\n",
    "# Treated patients are the ones that complete their run (arrival to departure) in the ER\n",
    "\n",
    "los_vals_1 = []\n",
    "los_vals_2 = []\n",
    "los_vals_3 = []\n",
    "los_vals_4 = []\n",
    "los_vals_5 = []\n",
    "\n",
    "for items in df31[\"LOS\"]:\n",
    "    if items > 0:\n",
    "        los_vals_1.append(items/60)\n",
    "\n",
    "for items in df32[\"LOS\"]:\n",
    "    if items > 0:\n",
    "        los_vals_2.append(items/60)\n",
    "        \n",
    "for items in df33[\"LOS\"]:\n",
    "    if items > 0:\n",
    "        los_vals_3.append(items/60)\n",
    "        \n",
    "for items in df34[\"LOS\"]:\n",
    "    if items > 0:\n",
    "        los_vals_4.append(items/60)\n",
    "        \n",
    "for items in df35[\"LOS\"]:\n",
    "    if items > 0:\n",
    "        los_vals_5.append(items/60)\n",
    "\n",
    "los_vals_list = [los_vals_1, los_vals_2, los_vals_3, los_vals_4, los_vals_5]\n",
    "print(min(los_vals_1), max(los_vals_1))"
   ]
  },
  {
   "cell_type": "code",
   "execution_count": null,
   "id": "8e2d4a3e",
   "metadata": {},
   "outputs": [],
   "source": [
    "mean_list = []\n",
    "std_dev_list = []\n",
    "n_list = []\n",
    "\n",
    "for los_vals in los_vals_list:\n",
    "    los_vals = np.array(los_vals)\n",
    "    mean_list.append(np.mean(los_vals))\n",
    "    std_dev_list.append(np.std(los_vals))\n",
    "\n",
    "    n_list.append(len(los_vals))\n",
    "\n",
    "print(mean_list, std_dev_list, n_list)"
   ]
  },
  {
   "cell_type": "code",
   "execution_count": null,
   "id": "53e44232",
   "metadata": {},
   "outputs": [],
   "source": [
    "# Check critical values from table/ppf function\n",
    "alpha = 0.05\n",
    "t_critical_list = []\n",
    "\n",
    "for n in n_list:\n",
    "    dof = n - 1\n",
    "    t_critical_list.append(t.ppf(1-alpha/2, dof))\n",
    "\n",
    "print(t_critical_list)"
   ]
  },
  {
   "cell_type": "code",
   "execution_count": null,
   "id": "da15389c",
   "metadata": {},
   "outputs": [],
   "source": [
    "# Calculate confidence interval\n",
    "# H_val = t_critical * std_dev * (np.sqrt(1 + (1/n)))\n",
    "\n",
    "H_val_list = []\n",
    "lower_bound = []\n",
    "upper_bound = []\n",
    "\n",
    "for index, t_critical in enumerate(t_critical_list):\n",
    "    H_val = t_critical * std_dev_list[index] * (1/np.sqrt(n_list[index]))\n",
    "    H_val_list.append(H_val)\n",
    "    lower_bound.append(mean_list[index] - H_val)\n",
    "    upper_bound.append(mean_list[index] + H_val)\n",
    "\n",
    "print(lower_bound, upper_bound, H_val_list)\n",
    "# print([mean - lower_bound], [upper_bound - mean])"
   ]
  },
  {
   "cell_type": "code",
   "execution_count": null,
   "id": "1f342e54",
   "metadata": {},
   "outputs": [],
   "source": [
    "# Across rep data\n",
    "var_list = [a**2 for a in std_dev_list]\n",
    "\n",
    "a_mean = sum(mean_list)/5\n",
    "\n",
    "a_var = 0\n",
    "for means in mean_list:\n",
    "    a_var += (means - a_mean) ** 2\n",
    "\n",
    "a_var = a_var/4\n",
    "a_std_dev = np.sqrt(a_var)\n",
    "\n",
    "a_H_val = t_critical_list[0] * a_std_dev * (1/np.sqrt(5))\n",
    "\n",
    "print(a_mean, a_std_dev, a_H_val, var_list, a_var, a_std_dev)"
   ]
  },
  {
   "cell_type": "code",
   "execution_count": null,
   "id": "f4681d1c",
   "metadata": {},
   "outputs": [],
   "source": [
    "a_lower_bound = a_mean - a_H_val\n",
    "a_upper_bound = a_mean + a_H_val\n",
    "print(a_lower_bound, a_upper_bound)"
   ]
  },
  {
   "cell_type": "code",
   "execution_count": null,
   "id": "909d6476",
   "metadata": {
    "scrolled": true
   },
   "outputs": [],
   "source": [
    "# Plot boxplot for confidence intervals\n",
    "# fig, axs = plt.subplots(nrows=5, ncols=1, figsize=(12, 8))\n",
    "interval_list = []\n",
    "for index, mean in enumerate(mean_list):\n",
    "    interval_list.append([lower_bound[index], mean, upper_bound[index]])\n",
    "\n",
    "for index, interval in enumerate(interval_list):\n",
    "    plt.boxplot(interval, medianprops=dict(color=\"red\"), positions=[index+1])\n",
    "    # plt.plot((index, index, index), interval)\n",
    "    # plt.axhline(y=interval[1], color='orange', linestyle='--')\n",
    "    \n",
    "plt.show()"
   ]
  },
  {
   "cell_type": "markdown",
   "id": "bd3ca774",
   "metadata": {},
   "source": [
    "## Simulation System 4\n",
    "\n",
    "Please note, simulation system 4 is presented as system 5 in the report. "
   ]
  },
  {
   "cell_type": "code",
   "execution_count": 6,
   "id": "e0a454bb",
   "metadata": {},
   "outputs": [
    {
     "name": "stderr",
     "output_type": "stream",
     "text": [
      "/var/folders/3j/3p_dzlvs1nsdfryf9hm7gjnr0000gn/T/ipykernel_6537/2783056028.py:2: ParserWarning: Falling back to the 'python' engine because the 'c' engine does not support regex separators (separators > 1 char and different from '\\s+' are interpreted as regex); you can avoid this warning by specifying engine='python'.\n",
      "  df41 = pd.read_csv(\"../results/simulation_results_system_4_1.csv\", sep=r\",(?![^\\[]*\\])\")\n",
      "/var/folders/3j/3p_dzlvs1nsdfryf9hm7gjnr0000gn/T/ipykernel_6537/2783056028.py:3: ParserWarning: Falling back to the 'python' engine because the 'c' engine does not support regex separators (separators > 1 char and different from '\\s+' are interpreted as regex); you can avoid this warning by specifying engine='python'.\n",
      "  df42 = pd.read_csv(\"../results/simulation_results_system_4_2.csv\", sep=r\",(?![^\\[]*\\])\")\n",
      "/var/folders/3j/3p_dzlvs1nsdfryf9hm7gjnr0000gn/T/ipykernel_6537/2783056028.py:4: ParserWarning: Falling back to the 'python' engine because the 'c' engine does not support regex separators (separators > 1 char and different from '\\s+' are interpreted as regex); you can avoid this warning by specifying engine='python'.\n",
      "  df43 = pd.read_csv(\"../results/simulation_results_system_4_3.csv\", sep=r\",(?![^\\[]*\\])\")\n",
      "/var/folders/3j/3p_dzlvs1nsdfryf9hm7gjnr0000gn/T/ipykernel_6537/2783056028.py:5: ParserWarning: Falling back to the 'python' engine because the 'c' engine does not support regex separators (separators > 1 char and different from '\\s+' are interpreted as regex); you can avoid this warning by specifying engine='python'.\n",
      "  df44 = pd.read_csv(\"../results/simulation_results_system_4_4.csv\", sep=r\",(?![^\\[]*\\])\")\n",
      "/var/folders/3j/3p_dzlvs1nsdfryf9hm7gjnr0000gn/T/ipykernel_6537/2783056028.py:6: ParserWarning: Falling back to the 'python' engine because the 'c' engine does not support regex separators (separators > 1 char and different from '\\s+' are interpreted as regex); you can avoid this warning by specifying engine='python'.\n",
      "  df45 = pd.read_csv(\"../results/simulation_results_system_4_5.csv\", sep=r\",(?![^\\[]*\\])\")\n"
     ]
    }
   ],
   "source": [
    "# Read simulation results as dataframe\n",
    "df41 = pd.read_csv(\"../results/simulation_results_system_4_1.csv\", sep=r\",(?![^\\[]*\\])\")\n",
    "df42 = pd.read_csv(\"../results/simulation_results_system_4_2.csv\", sep=r\",(?![^\\[]*\\])\")\n",
    "df43 = pd.read_csv(\"../results/simulation_results_system_4_3.csv\", sep=r\",(?![^\\[]*\\])\")\n",
    "df44 = pd.read_csv(\"../results/simulation_results_system_4_4.csv\", sep=r\",(?![^\\[]*\\])\")\n",
    "df45 = pd.read_csv(\"../results/simulation_results_system_4_5.csv\", sep=r\",(?![^\\[]*\\])\")\n",
    "df_list = [df41, df42, df43, df44, df45]"
   ]
  },
  {
   "cell_type": "code",
   "execution_count": 7,
   "id": "c10ff0f3",
   "metadata": {},
   "outputs": [],
   "source": [
    "for df in df_list:\n",
    "    df.columns = df.columns.str.lstrip()"
   ]
  },
  {
   "cell_type": "code",
   "execution_count": 8,
   "id": "1f9e5557",
   "metadata": {},
   "outputs": [
    {
     "name": "stdout",
     "output_type": "stream",
     "text": [
      "0.10359808058747148 4.0180206389295865\n"
     ]
    }
   ],
   "source": [
    "# Read LOS data from dataframe df\n",
    "# LOS values of only treated patients is considered\n",
    "# Treated patients are the ones that complete their run (arrival to departure) in the ER\n",
    "\n",
    "los_vals_1 = []\n",
    "los_vals_2 = []\n",
    "los_vals_3 = []\n",
    "los_vals_4 = []\n",
    "los_vals_5 = []\n",
    "\n",
    "for items in df41[\"LOS\"]:\n",
    "    if items > 0:\n",
    "        los_vals_1.append(items/60)\n",
    "\n",
    "for items in df42[\"LOS\"]:\n",
    "    if items > 0:\n",
    "        los_vals_2.append(items/60)\n",
    "        \n",
    "for items in df43[\"LOS\"]:\n",
    "    if items > 0:\n",
    "        los_vals_3.append(items/60)\n",
    "        \n",
    "for items in df44[\"LOS\"]:\n",
    "    if items > 0:\n",
    "        los_vals_4.append(items/60)\n",
    "        \n",
    "for items in df45[\"LOS\"]:\n",
    "    if items > 0:\n",
    "        los_vals_5.append(items/60)\n",
    "\n",
    "los_vals_list = [los_vals_1, los_vals_2, los_vals_3, los_vals_4, los_vals_5]\n",
    "print(min(los_vals_1), max(los_vals_1))"
   ]
  },
  {
   "cell_type": "code",
   "execution_count": 11,
   "id": "f146e19f",
   "metadata": {},
   "outputs": [
    {
     "name": "stdout",
     "output_type": "stream",
     "text": [
      "[1.331521016802784, 1.3281774664505903, 1.324874721653778, 1.3252920040854128, 1.3281790876561017] [0.6660473678764711, 0.6568311416243993, 0.6540822160054085, 0.6587849430909237, 0.6619598354775071] [98760, 97730, 98064, 98493, 98454]\n"
     ]
    }
   ],
   "source": [
    "mean_list = []\n",
    "std_dev_list = []\n",
    "n_list = []\n",
    "\n",
    "for los_vals in los_vals_list:\n",
    "    los_vals = np.array(los_vals)\n",
    "    mean_list.append(np.mean(los_vals))\n",
    "    std_dev_list.append(np.std(los_vals))\n",
    "\n",
    "    n_list.append(len(los_vals))\n",
    "\n",
    "print(mean_list, std_dev_list, n_list)"
   ]
  },
  {
   "cell_type": "code",
   "execution_count": null,
   "id": "b641b2e4",
   "metadata": {},
   "outputs": [],
   "source": [
    "# Check critical values from table/ppf function\n",
    "alpha = 0.05\n",
    "t_critical_list = []\n",
    "\n",
    "for n in n_list:\n",
    "    dof = n - 1\n",
    "    t_critical_list.append(t.ppf(1-alpha/2, dof))\n",
    "\n",
    "print(t_critical_list)"
   ]
  },
  {
   "cell_type": "code",
   "execution_count": null,
   "id": "1603380f",
   "metadata": {},
   "outputs": [],
   "source": [
    "# Calculate confidence interval\n",
    "# H_val = t_critical * std_dev * (np.sqrt(1 + (1/n)))\n",
    "\n",
    "H_val_list = []\n",
    "lower_bound = []\n",
    "upper_bound = []\n",
    "\n",
    "for index, t_critical in enumerate(t_critical_list):\n",
    "    H_val = t_critical * std_dev_list[index] * (1/np.sqrt(n_list[index]))\n",
    "    H_val_list.append(H_val)\n",
    "    lower_bound.append(mean_list[index] - H_val)\n",
    "    upper_bound.append(mean_list[index] + H_val)\n",
    "\n",
    "print(lower_bound, upper_bound, H_val_list)\n",
    "# print([mean - lower_bound], [upper_bound - mean])"
   ]
  },
  {
   "cell_type": "code",
   "execution_count": null,
   "id": "0d0fa364",
   "metadata": {},
   "outputs": [],
   "source": [
    "# Across rep data\n",
    "var_list = [a**2 for a in std_dev_list]\n",
    "\n",
    "a_mean = sum(mean_list)/5\n",
    "\n",
    "a_var = 0\n",
    "for means in mean_list:\n",
    "    a_var += (means - a_mean) ** 2\n",
    "\n",
    "a_var = a_var/4\n",
    "a_std_dev = np.sqrt(a_var)\n",
    "\n",
    "a_H_val = t_critical_list[0] * a_std_dev * (1/np.sqrt(5))\n",
    "\n",
    "print(a_mean, a_std_dev, a_H_val, var_list, a_var, a_std_dev)"
   ]
  },
  {
   "cell_type": "code",
   "execution_count": null,
   "id": "54905db0",
   "metadata": {},
   "outputs": [],
   "source": [
    "a_lower_bound = a_mean - a_H_val\n",
    "a_upper_bound = a_mean + a_H_val\n",
    "print(a_lower_bound, a_upper_bound)"
   ]
  },
  {
   "cell_type": "code",
   "execution_count": null,
   "id": "2c2098e0",
   "metadata": {},
   "outputs": [],
   "source": [
    "# Plot boxplot for confidence intervals\n",
    "# fig, axs = plt.subplots(nrows=5, ncols=1, figsize=(12, 8))\n",
    "interval_list = []\n",
    "for index, mean in enumerate(mean_list):\n",
    "    interval_list.append([lower_bound[index], mean, upper_bound[index]])\n",
    "\n",
    "for index, interval in enumerate(interval_list):\n",
    "    plt.boxplot(interval, medianprops=dict(color=\"red\"), positions=[index+1])\n",
    "    # plt.plot((index, index, index), interval)\n",
    "    # plt.axhline(y=interval[1], color='orange', linestyle='--')\n",
    "    \n",
    "plt.show()"
   ]
  },
  {
   "cell_type": "markdown",
   "id": "86c6ea4f",
   "metadata": {},
   "source": [
    "## Simulation System 5\n",
    "\n",
    "\n",
    "Please note, this simulation system is presented as system 4 in the report. "
   ]
  },
  {
   "cell_type": "code",
   "execution_count": 2,
   "id": "67e42675",
   "metadata": {},
   "outputs": [
    {
     "name": "stderr",
     "output_type": "stream",
     "text": [
      "/var/folders/3j/3p_dzlvs1nsdfryf9hm7gjnr0000gn/T/ipykernel_6537/495048192.py:2: ParserWarning: Falling back to the 'python' engine because the 'c' engine does not support regex separators (separators > 1 char and different from '\\s+' are interpreted as regex); you can avoid this warning by specifying engine='python'.\n",
      "  df41 = pd.read_csv(\"../results/simulation_results_system_5_1.csv\", sep=r\",(?![^\\[]*\\])\")\n",
      "/var/folders/3j/3p_dzlvs1nsdfryf9hm7gjnr0000gn/T/ipykernel_6537/495048192.py:3: ParserWarning: Falling back to the 'python' engine because the 'c' engine does not support regex separators (separators > 1 char and different from '\\s+' are interpreted as regex); you can avoid this warning by specifying engine='python'.\n",
      "  df42 = pd.read_csv(\"../results/simulation_results_system_5_2.csv\", sep=r\",(?![^\\[]*\\])\")\n",
      "/var/folders/3j/3p_dzlvs1nsdfryf9hm7gjnr0000gn/T/ipykernel_6537/495048192.py:4: ParserWarning: Falling back to the 'python' engine because the 'c' engine does not support regex separators (separators > 1 char and different from '\\s+' are interpreted as regex); you can avoid this warning by specifying engine='python'.\n",
      "  df43 = pd.read_csv(\"../results/simulation_results_system_5_3.csv\", sep=r\",(?![^\\[]*\\])\")\n",
      "/var/folders/3j/3p_dzlvs1nsdfryf9hm7gjnr0000gn/T/ipykernel_6537/495048192.py:5: ParserWarning: Falling back to the 'python' engine because the 'c' engine does not support regex separators (separators > 1 char and different from '\\s+' are interpreted as regex); you can avoid this warning by specifying engine='python'.\n",
      "  df44 = pd.read_csv(\"../results/simulation_results_system_5_4.csv\", sep=r\",(?![^\\[]*\\])\")\n",
      "/var/folders/3j/3p_dzlvs1nsdfryf9hm7gjnr0000gn/T/ipykernel_6537/495048192.py:6: ParserWarning: Falling back to the 'python' engine because the 'c' engine does not support regex separators (separators > 1 char and different from '\\s+' are interpreted as regex); you can avoid this warning by specifying engine='python'.\n",
      "  df45 = pd.read_csv(\"../results/simulation_results_system_5_5.csv\", sep=r\",(?![^\\[]*\\])\")\n"
     ]
    }
   ],
   "source": [
    "# Read simulation results as dataframe\n",
    "df41 = pd.read_csv(\"../results/simulation_results_system_5_1.csv\", sep=r\",(?![^\\[]*\\])\")\n",
    "df42 = pd.read_csv(\"../results/simulation_results_system_5_2.csv\", sep=r\",(?![^\\[]*\\])\")\n",
    "df43 = pd.read_csv(\"../results/simulation_results_system_5_3.csv\", sep=r\",(?![^\\[]*\\])\")\n",
    "df44 = pd.read_csv(\"../results/simulation_results_system_5_4.csv\", sep=r\",(?![^\\[]*\\])\")\n",
    "df45 = pd.read_csv(\"../results/simulation_results_system_5_5.csv\", sep=r\",(?![^\\[]*\\])\")\n",
    "df_list = [df41, df42, df43, df44, df45]"
   ]
  },
  {
   "cell_type": "code",
   "execution_count": 3,
   "id": "a1df2865",
   "metadata": {},
   "outputs": [],
   "source": [
    "for df in df_list:\n",
    "    df.columns = df.columns.str.lstrip()"
   ]
  },
  {
   "cell_type": "code",
   "execution_count": 4,
   "id": "fd1463b7",
   "metadata": {},
   "outputs": [
    {
     "name": "stdout",
     "output_type": "stream",
     "text": [
      "0.13884777294015294 22.737922349409406\n"
     ]
    }
   ],
   "source": [
    "# Read LOS data from dataframe df\n",
    "# LOS values of only treated patients is considered\n",
    "# Treated patients are the ones that complete their run (arrival to departure) in the ER\n",
    "\n",
    "los_vals_1 = []\n",
    "los_vals_2 = []\n",
    "los_vals_3 = []\n",
    "los_vals_4 = []\n",
    "los_vals_5 = []\n",
    "\n",
    "for items in df41[\"LOS\"]:\n",
    "    if items > 0:\n",
    "        los_vals_1.append(items/60)\n",
    "\n",
    "for items in df42[\"LOS\"]:\n",
    "    if items > 0:\n",
    "        los_vals_2.append(items/60)\n",
    "        \n",
    "for items in df43[\"LOS\"]:\n",
    "    if items > 0:\n",
    "        los_vals_3.append(items/60)\n",
    "        \n",
    "for items in df44[\"LOS\"]:\n",
    "    if items > 0:\n",
    "        los_vals_4.append(items/60)\n",
    "        \n",
    "for items in df45[\"LOS\"]:\n",
    "    if items > 0:\n",
    "        los_vals_5.append(items/60)\n",
    "\n",
    "los_vals_list = [los_vals_1, los_vals_2, los_vals_3, los_vals_4, los_vals_5]\n",
    "print(min(los_vals_1), max(los_vals_1))"
   ]
  },
  {
   "cell_type": "code",
   "execution_count": 5,
   "id": "cb13c9f6",
   "metadata": {},
   "outputs": [
    {
     "name": "stdout",
     "output_type": "stream",
     "text": [
      "[4.252080105808182, 4.223080759046099, 3.6955200636221366, 4.706032683692952, 4.193880159542005] [3.3901592317724254, 3.0665125984007244, 2.7731345734386332, 3.5831767741357483, 3.1789715878181934] [1525, 1701, 1487, 2057, 1699]\n"
     ]
    }
   ],
   "source": [
    "mean_list = []\n",
    "std_dev_list = []\n",
    "n_list = []\n",
    "\n",
    "for los_vals in los_vals_list:\n",
    "    los_vals = np.array(los_vals[100:90100])\n",
    "    mean_list.append(np.mean(los_vals))\n",
    "    std_dev_list.append(np.std(los_vals))\n",
    "\n",
    "    n_list.append(len(los_vals))\n",
    "\n",
    "print(mean_list, std_dev_list, n_list)"
   ]
  },
  {
   "cell_type": "code",
   "execution_count": null,
   "id": "73bdf96b",
   "metadata": {},
   "outputs": [],
   "source": [
    "# Check critical values from table/ppf function\n",
    "alpha = 0.05\n",
    "t_critical_list = []\n",
    "\n",
    "for n in n_list:\n",
    "    dof = n - 1\n",
    "    t_critical_list.append(t.ppf(1-alpha/2, dof))\n",
    "\n",
    "print(t_critical_list)"
   ]
  },
  {
   "cell_type": "code",
   "execution_count": null,
   "id": "9b60db97",
   "metadata": {},
   "outputs": [],
   "source": [
    "# Calculate confidence interval\n",
    "# H_val = t_critical * std_dev * (np.sqrt(1 + (1/n)))\n",
    "\n",
    "H_val_list = []\n",
    "lower_bound = []\n",
    "upper_bound = []\n",
    "\n",
    "for index, t_critical in enumerate(t_critical_list):\n",
    "    H_val = t_critical * std_dev_list[index] * (1/np.sqrt(n_list[index]))\n",
    "    H_val_list.append(H_val)\n",
    "    lower_bound.append(mean_list[index] - H_val)\n",
    "    upper_bound.append(mean_list[index] + H_val)\n",
    "\n",
    "print(lower_bound, upper_bound, H_val_list)\n",
    "# print([mean - lower_bound], [upper_bound - mean])"
   ]
  },
  {
   "cell_type": "code",
   "execution_count": null,
   "id": "5944a969",
   "metadata": {},
   "outputs": [],
   "source": [
    "# Across rep data\n",
    "var_list = [a**2 for a in std_dev_list]\n",
    "\n",
    "a_mean = sum(mean_list)/5\n",
    "\n",
    "a_var = 0\n",
    "for means in mean_list:\n",
    "    a_var += (means - a_mean) ** 2\n",
    "\n",
    "a_var = a_var/4\n",
    "a_std_dev = np.sqrt(a_var)\n",
    "\n",
    "a_H_val = t_critical_list[0] * a_std_dev * (1/np.sqrt(5))\n",
    "\n",
    "print(a_mean, a_std_dev, a_H_val, var_list, a_var, a_std_dev)"
   ]
  },
  {
   "cell_type": "code",
   "execution_count": null,
   "id": "79e7e938",
   "metadata": {},
   "outputs": [],
   "source": [
    "a_lower_bound = a_mean - a_H_val\n",
    "a_upper_bound = a_mean + a_H_val\n",
    "print(a_lower_bound, a_upper_bound)"
   ]
  },
  {
   "cell_type": "code",
   "execution_count": null,
   "id": "39894c36",
   "metadata": {},
   "outputs": [],
   "source": [
    "# Plot boxplot for confidence intervals\n",
    "# fig, axs = plt.subplots(nrows=5, ncols=1, figsize=(12, 8))\n",
    "interval_list = []\n",
    "for index, mean in enumerate(mean_list):\n",
    "    interval_list.append([lower_bound[index], mean, upper_bound[index]])\n",
    "\n",
    "for index, interval in enumerate(interval_list):\n",
    "    plt.boxplot(interval, medianprops=dict(color=\"red\"), positions=[index+1])\n",
    "    # plt.plot((index, index, index), interval)\n",
    "    # plt.axhline(y=interval[1], color='orange', linestyle='--')\n",
    "    \n",
    "plt.show()"
   ]
  },
  {
   "cell_type": "code",
   "execution_count": null,
   "id": "42cff057",
   "metadata": {},
   "outputs": [],
   "source": []
  }
 ],
 "metadata": {
  "kernelspec": {
   "display_name": "Python 3 (ipykernel)",
   "language": "python",
   "name": "python3"
  },
  "language_info": {
   "codemirror_mode": {
    "name": "ipython",
    "version": 3
   },
   "file_extension": ".py",
   "mimetype": "text/x-python",
   "name": "python",
   "nbconvert_exporter": "python",
   "pygments_lexer": "ipython3",
   "version": "3.11.0"
  }
 },
 "nbformat": 4,
 "nbformat_minor": 5
}
