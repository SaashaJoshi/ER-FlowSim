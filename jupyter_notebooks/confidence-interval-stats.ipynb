{
 "cells": [
  {
   "cell_type": "code",
   "execution_count": 1,
   "id": "e72545d6",
   "metadata": {},
   "outputs": [],
   "source": [
    "import numpy as np\n",
    "from scipy.stats import t\n",
    "import pandas as pd\n",
    "import matplotlib.pyplot as plt"
   ]
  },
  {
   "cell_type": "markdown",
   "id": "669e20d7",
   "metadata": {},
   "source": [
    "## Simulation System 1\n",
    "\n",
    "This system has patients with different CTAS levels (1 to 5) flowing into different departments (Triage, ED, and Inpatient). Along with this, patients undergo diagnostic tests at the Triage and ED levels. \n",
    "\n",
    "The simulation parameters are as follows: \\\n",
    "No. doctors: 100 \\\n",
    "No. nurses: 100 \\\n",
    "No. of admin staff: 70 \\\n",
    "No. of consultants: 50 \n",
    "\n",
    "\n",
    "The simulation is run for 10080 minutes (i.e. one week) and LOS data from first 500 patients is discarded as warm-up data. In total 11000 LOS data values are selected from each simulation run.\n",
    "\n",
    "The seeds used for 5 rounds are: \\\n",
    "Round 1: 100 \\\n",
    "Round 2: 121 \\\n",
    "Round 3: 146 \\\n",
    "Round 4: 258 \\\n",
    "Round 5: 35"
   ]
  },
  {
   "cell_type": "code",
   "execution_count": 101,
   "id": "7a7b6f75",
   "metadata": {},
   "outputs": [
    {
     "name": "stderr",
     "output_type": "stream",
     "text": [
      "/var/folders/3j/3p_dzlvs1nsdfryf9hm7gjnr0000gn/T/ipykernel_16023/2911554503.py:2: ParserWarning: Falling back to the 'python' engine because the 'c' engine does not support regex separators (separators > 1 char and different from '\\s+' are interpreted as regex); you can avoid this warning by specifying engine='python'.\n",
      "  df1 = pd.read_csv(\"../results/simulation_results_system_1_1.csv\", sep=r\",(?![^\\[]*\\])\")\n",
      "/var/folders/3j/3p_dzlvs1nsdfryf9hm7gjnr0000gn/T/ipykernel_16023/2911554503.py:3: ParserWarning: Falling back to the 'python' engine because the 'c' engine does not support regex separators (separators > 1 char and different from '\\s+' are interpreted as regex); you can avoid this warning by specifying engine='python'.\n",
      "  df2 = pd.read_csv(\"../results/simulation_results_system_1_2.csv\", sep=r\",(?![^\\[]*\\])\")\n",
      "/var/folders/3j/3p_dzlvs1nsdfryf9hm7gjnr0000gn/T/ipykernel_16023/2911554503.py:4: ParserWarning: Falling back to the 'python' engine because the 'c' engine does not support regex separators (separators > 1 char and different from '\\s+' are interpreted as regex); you can avoid this warning by specifying engine='python'.\n",
      "  df3 = pd.read_csv(\"../results/simulation_results_system_1_3.csv\", sep=r\",(?![^\\[]*\\])\")\n",
      "/var/folders/3j/3p_dzlvs1nsdfryf9hm7gjnr0000gn/T/ipykernel_16023/2911554503.py:5: ParserWarning: Falling back to the 'python' engine because the 'c' engine does not support regex separators (separators > 1 char and different from '\\s+' are interpreted as regex); you can avoid this warning by specifying engine='python'.\n",
      "  df4 = pd.read_csv(\"../results/simulation_results_system_1_4.csv\", sep=r\",(?![^\\[]*\\])\")\n",
      "/var/folders/3j/3p_dzlvs1nsdfryf9hm7gjnr0000gn/T/ipykernel_16023/2911554503.py:6: ParserWarning: Falling back to the 'python' engine because the 'c' engine does not support regex separators (separators > 1 char and different from '\\s+' are interpreted as regex); you can avoid this warning by specifying engine='python'.\n",
      "  df5 = pd.read_csv(\"../results/simulation_results_system_1_5.csv\", sep=r\",(?![^\\[]*\\])\")\n"
     ]
    }
   ],
   "source": [
    "# Read simulation results as dataframe\n",
    "df1 = pd.read_csv(\"../results/simulation_results_system_1_1.csv\", sep=r\",(?![^\\[]*\\])\")\n",
    "df2 = pd.read_csv(\"../results/simulation_results_system_1_2.csv\", sep=r\",(?![^\\[]*\\])\")\n",
    "df3 = pd.read_csv(\"../results/simulation_results_system_1_3.csv\", sep=r\",(?![^\\[]*\\])\")\n",
    "df4 = pd.read_csv(\"../results/simulation_results_system_1_4.csv\", sep=r\",(?![^\\[]*\\])\")\n",
    "df5 = pd.read_csv(\"../results/simulation_results_system_1_5.csv\", sep=r\",(?![^\\[]*\\])\")\n",
    "df_list = [df1, df2, df3, df4, df5]"
   ]
  },
  {
   "cell_type": "code",
   "execution_count": 102,
   "id": "5b64b8da",
   "metadata": {},
   "outputs": [],
   "source": [
    "for df in df_list:\n",
    "    df.columns = df.columns.str.lstrip()"
   ]
  },
  {
   "cell_type": "code",
   "execution_count": 103,
   "id": "18213a7a",
   "metadata": {},
   "outputs": [
    {
     "data": {
      "text/html": [
       "<div>\n",
       "<style scoped>\n",
       "    .dataframe tbody tr th:only-of-type {\n",
       "        vertical-align: middle;\n",
       "    }\n",
       "\n",
       "    .dataframe tbody tr th {\n",
       "        vertical-align: top;\n",
       "    }\n",
       "\n",
       "    .dataframe thead th {\n",
       "        text-align: right;\n",
       "    }\n",
       "</style>\n",
       "<table border=\"1\" class=\"dataframe\">\n",
       "  <thead>\n",
       "    <tr style=\"text-align: right;\">\n",
       "      <th></th>\n",
       "      <th>Patient ID</th>\n",
       "      <th>CTAS Level</th>\n",
       "      <th>Tests</th>\n",
       "      <th>Arrival Time</th>\n",
       "      <th>Departure Time</th>\n",
       "      <th>LOS</th>\n",
       "      <th>Triage Waiting Time</th>\n",
       "      <th>ED Waiting Time</th>\n",
       "      <th>Medication Waiting Time</th>\n",
       "      <th>Inpatient Waiting Time</th>\n",
       "      <th>Triage Waiting Room Length</th>\n",
       "      <th>ED Waiting Room Length</th>\n",
       "      <th>Medication Waiting Room Length</th>\n",
       "      <th>Inpatient Waiting Room Length</th>\n",
       "    </tr>\n",
       "  </thead>\n",
       "  <tbody>\n",
       "    <tr>\n",
       "      <th>0</th>\n",
       "      <td>1</td>\n",
       "      <td>1</td>\n",
       "      <td>[]</td>\n",
       "      <td>0.000000</td>\n",
       "      <td>10.573837</td>\n",
       "      <td>10.573837</td>\n",
       "      <td>0.0</td>\n",
       "      <td>0.0</td>\n",
       "      <td>0.000000</td>\n",
       "      <td>0.0</td>\n",
       "      <td>1</td>\n",
       "      <td>1</td>\n",
       "      <td>10</td>\n",
       "      <td>1</td>\n",
       "    </tr>\n",
       "    <tr>\n",
       "      <th>1</th>\n",
       "      <td>2</td>\n",
       "      <td>3</td>\n",
       "      <td>['Triage ECG', 'Triage Urine', 'ED Blood Test']</td>\n",
       "      <td>0.365564</td>\n",
       "      <td>91.394581</td>\n",
       "      <td>91.029017</td>\n",
       "      <td>0.0</td>\n",
       "      <td>0.0</td>\n",
       "      <td>1.814476</td>\n",
       "      <td>0.0</td>\n",
       "      <td>1</td>\n",
       "      <td>1</td>\n",
       "      <td>10</td>\n",
       "      <td>1</td>\n",
       "    </tr>\n",
       "    <tr>\n",
       "      <th>2</th>\n",
       "      <td>3</td>\n",
       "      <td>0</td>\n",
       "      <td>[]</td>\n",
       "      <td>1.462743</td>\n",
       "      <td>0.000000</td>\n",
       "      <td>-1.462743</td>\n",
       "      <td>0.0</td>\n",
       "      <td>0.0</td>\n",
       "      <td>0.000000</td>\n",
       "      <td>0.0</td>\n",
       "      <td>1</td>\n",
       "      <td>1</td>\n",
       "      <td>10</td>\n",
       "      <td>1</td>\n",
       "    </tr>\n",
       "    <tr>\n",
       "      <th>3</th>\n",
       "      <td>4</td>\n",
       "      <td>0</td>\n",
       "      <td>[]</td>\n",
       "      <td>1.532924</td>\n",
       "      <td>0.000000</td>\n",
       "      <td>-1.532924</td>\n",
       "      <td>0.0</td>\n",
       "      <td>0.0</td>\n",
       "      <td>0.000000</td>\n",
       "      <td>0.0</td>\n",
       "      <td>1</td>\n",
       "      <td>1</td>\n",
       "      <td>10</td>\n",
       "      <td>1</td>\n",
       "    </tr>\n",
       "    <tr>\n",
       "      <th>4</th>\n",
       "      <td>5</td>\n",
       "      <td>1</td>\n",
       "      <td>['ED Blood Test', 'ED CT']</td>\n",
       "      <td>1.899614</td>\n",
       "      <td>79.982181</td>\n",
       "      <td>78.082567</td>\n",
       "      <td>0.0</td>\n",
       "      <td>0.0</td>\n",
       "      <td>0.000000</td>\n",
       "      <td>0.0</td>\n",
       "      <td>1</td>\n",
       "      <td>1</td>\n",
       "      <td>10</td>\n",
       "      <td>1</td>\n",
       "    </tr>\n",
       "  </tbody>\n",
       "</table>\n",
       "</div>"
      ],
      "text/plain": [
       "   Patient ID  CTAS Level                                             Tests  \\\n",
       "0           1           1                                                []   \n",
       "1           2           3   ['Triage ECG', 'Triage Urine', 'ED Blood Test']   \n",
       "2           3           0                                                []   \n",
       "3           4           0                                                []   \n",
       "4           5           1                        ['ED Blood Test', 'ED CT']   \n",
       "\n",
       "   Arrival Time  Departure Time        LOS  Triage Waiting Time  \\\n",
       "0      0.000000       10.573837  10.573837                  0.0   \n",
       "1      0.365564       91.394581  91.029017                  0.0   \n",
       "2      1.462743        0.000000  -1.462743                  0.0   \n",
       "3      1.532924        0.000000  -1.532924                  0.0   \n",
       "4      1.899614       79.982181  78.082567                  0.0   \n",
       "\n",
       "   ED Waiting Time  Medication Waiting Time  Inpatient Waiting Time  \\\n",
       "0              0.0                 0.000000                     0.0   \n",
       "1              0.0                 1.814476                     0.0   \n",
       "2              0.0                 0.000000                     0.0   \n",
       "3              0.0                 0.000000                     0.0   \n",
       "4              0.0                 0.000000                     0.0   \n",
       "\n",
       "   Triage Waiting Room Length  ED Waiting Room Length  \\\n",
       "0                           1                       1   \n",
       "1                           1                       1   \n",
       "2                           1                       1   \n",
       "3                           1                       1   \n",
       "4                           1                       1   \n",
       "\n",
       "   Medication Waiting Room Length  Inpatient Waiting Room Length  \n",
       "0                              10                              1  \n",
       "1                              10                              1  \n",
       "2                              10                              1  \n",
       "3                              10                              1  \n",
       "4                              10                              1  "
      ]
     },
     "execution_count": 103,
     "metadata": {},
     "output_type": "execute_result"
    }
   ],
   "source": [
    "df1[:5]"
   ]
  },
  {
   "cell_type": "code",
   "execution_count": 104,
   "id": "61007206",
   "metadata": {},
   "outputs": [
    {
     "name": "stdout",
     "output_type": "stream",
     "text": [
      "0.11295399103407061 4.159892944099905\n"
     ]
    }
   ],
   "source": [
    "# Read LOS data from dataframe df\n",
    "# LOS values of only treated patients is considered\n",
    "# Treated patients are the ones that complete their run (arrival to departure) in the ER\n",
    "\n",
    "los_vals_1 = []\n",
    "los_vals_2 = []\n",
    "los_vals_3 = []\n",
    "los_vals_4 = []\n",
    "los_vals_5 = []\n",
    "\n",
    "for items in df1[\"LOS\"]:\n",
    "    if items > 0:\n",
    "        los_vals_1.append(items/60)\n",
    "\n",
    "for items in df2[\"LOS\"]:\n",
    "    if items > 0:\n",
    "        los_vals_2.append(items/60)\n",
    "        \n",
    "for items in df3[\"LOS\"]:\n",
    "    if items > 0:\n",
    "        los_vals_3.append(items/60)\n",
    "        \n",
    "for items in df4[\"LOS\"]:\n",
    "    if items > 0:\n",
    "        los_vals_4.append(items/60)\n",
    "        \n",
    "for items in df5[\"LOS\"]:\n",
    "    if items > 0:\n",
    "        los_vals_5.append(items/60)\n",
    "\n",
    "los_vals_list = [los_vals_1, los_vals_2, los_vals_3, los_vals_4, los_vals_5]\n",
    "print(min(los_vals_1), max(los_vals_1))"
   ]
  },
  {
   "cell_type": "code",
   "execution_count": 105,
   "id": "bd036eaa",
   "metadata": {},
   "outputs": [
    {
     "name": "stdout",
     "output_type": "stream",
     "text": [
      "[1.3893553477717482, 1.4105869704767848, 1.4662228646778233, 1.4087181498866974, 1.4015799480850004] [0.7335296638260955, 0.7606858339148109, 0.8552760882871893, 0.7400482631720063, 0.7245077874767899] [11000, 11000, 11000, 11000, 11000]\n"
     ]
    }
   ],
   "source": [
    "mean_list = []\n",
    "std_dev_list = []\n",
    "n_list = []\n",
    "\n",
    "for los_vals in los_vals_list:\n",
    "    los_vals = np.array(los_vals[500:11500])\n",
    "    mean_list.append(np.mean(los_vals))\n",
    "    std_dev_list.append(np.std(los_vals))\n",
    "\n",
    "    n_list.append(len(los_vals))\n",
    "\n",
    "print(mean_list, std_dev_list, n_list)"
   ]
  },
  {
   "cell_type": "code",
   "execution_count": 106,
   "id": "3921f4a7",
   "metadata": {},
   "outputs": [
    {
     "name": "stdout",
     "output_type": "stream",
     "text": [
      "[1.960179688500917, 1.960179688500917, 1.960179688500917, 1.960179688500917, 1.960179688500917]\n"
     ]
    }
   ],
   "source": [
    "# Check critical values from table/ppf function\n",
    "alpha = 0.05\n",
    "t_critical_list = []\n",
    "\n",
    "for n in n_list:\n",
    "    dof = n - 1\n",
    "    t_critical_list.append(t.ppf(1-alpha/2, dof))\n",
    "\n",
    "print(t_critical_list)"
   ]
  },
  {
   "cell_type": "code",
   "execution_count": 107,
   "id": "35cdc8f4",
   "metadata": {},
   "outputs": [
    {
     "name": "stdout",
     "output_type": "stream",
     "text": [
      "[1.375645986428607, 1.3963700717199554, 1.4502381137935603, 1.3948869586595158, 1.3880392018217467] [1.4030647091148893, 1.4248038692336142, 1.4822076155620862, 1.422549341113879, 1.4151206943482542]\n"
     ]
    }
   ],
   "source": [
    "# Calculate confidence interval\n",
    "# H_val = t_critical * std_dev * (np.sqrt(1 + (1/n)))\n",
    "\n",
    "# H_val_list = []\n",
    "lower_bound = []\n",
    "upper_bound = []\n",
    "\n",
    "for index, t_critical in enumerate(t_critical_list):\n",
    "    H_val = t_critical * std_dev_list[index] * (1/np.sqrt(n_list[index]))\n",
    "    lower_bound.append(mean_list[index] - H_val)\n",
    "    upper_bound.append(mean_list[index] + H_val)\n",
    "\n",
    "print(lower_bound, upper_bound)\n",
    "# print([mean - lower_bound], [upper_bound - mean])"
   ]
  },
  {
   "cell_type": "code",
   "execution_count": 115,
   "id": "c485f7d8",
   "metadata": {},
   "outputs": [
    {
     "data": {
      "image/png": "[encoded data removed]",
      "text/plain": [
       "<Figure size 640x480 with 1 Axes>"
      ]
     },
     "metadata": {},
     "output_type": "display_data"
    }
   ],
   "source": [
    "# Plot boxplot for confidence intervals\n",
    "# fig, axs = plt.subplots(nrows=5, ncols=1, figsize=(12, 8))\n",
    "interval_list = []\n",
    "for index, mean in enumerate(mean_list):\n",
    "    interval_list.append([lower_bound[index], mean, upper_bound[index]])\n",
    "\n",
    "for index, interval in enumerate(interval_list):\n",
    "    plt.boxplot(interval, medianprops=dict(color=\"red\"), positions=[index+1])\n",
    "    # plt.plot((index, index, index), interval)\n",
    "    # plt.axhline(y=interval[1], color='orange', linestyle='--')\n",
    "    \n",
    "plt.show()"
   ]
  },
  {
   "cell_type": "code",
   "execution_count": 100,
   "id": "984a454a",
   "metadata": {},
   "outputs": [],
   "source": [
    "# Drawing bar graph with error bars to show confidence interval\n",
    "\n",
    "# fig, ax = plt.subplots()\n",
    "# ax.bar(0, los_vals, yerr=[[mean - lower_bound], [upper_bound - mean]], align='center', alpha=0.5, ecolor='black', capsize=10)\n",
    "\n",
    "# ax.set_ylabel('Mean LOS')\n",
    "# ax.set_xticks([0])\n",
    "# ax.set_xticklabels(['Hospital A'])\n",
    "# ax.set_title('Mean LOS')\n",
    "\n",
    "# plt.show()"
   ]
  },
  {
   "cell_type": "code",
   "execution_count": null,
   "id": "d113f544",
   "metadata": {},
   "outputs": [],
   "source": []
  }
 ],
 "metadata": {
  "kernelspec": {
   "display_name": "Python 3 (ipykernel)",
   "language": "python",
   "name": "python3"
  },
  "language_info": {
   "codemirror_mode": {
    "name": "ipython",
    "version": 3
   },
   "file_extension": ".py",
   "mimetype": "text/x-python",
   "name": "python",
   "nbconvert_exporter": "python",
   "pygments_lexer": "ipython3",
   "version": "3.11.0"
  }
 },
 "nbformat": 4,
 "nbformat_minor": 5
}
