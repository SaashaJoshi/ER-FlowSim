{
 "cells": [
  {
   "cell_type": "code",
   "execution_count": 1,
   "id": "f9d80e71",
   "metadata": {},
   "outputs": [],
   "source": [
    "import pandas as pd\n",
    "import numpy as np\n",
    "import matplotlib.pyplot as plt\n",
    "from scipy.stats import chi2, lognorm, chisquare"
   ]
  },
  {
   "cell_type": "code",
   "execution_count": 2,
   "id": "8d1b356a",
   "metadata": {},
   "outputs": [
    {
     "name": "stderr",
     "output_type": "stream",
     "text": [
      "/var/folders/3j/3p_dzlvs1nsdfryf9hm7gjnr0000gn/T/ipykernel_6938/3683106496.py:1: ParserWarning: Falling back to the 'python' engine because the 'c' engine does not support regex separators (separators > 1 char and different from '\\s+' are interpreted as regex); you can avoid this warning by specifying engine='python'.\n",
      "  df = pd.read_csv(\"../results/simulation_results_system_4_1.csv\", sep=r\",(?![^\\[]*\\])\")\n"
     ]
    }
   ],
   "source": [
    "df = pd.read_csv(\"../results/simulation_results_system_4_1.csv\", sep=r\",(?![^\\[]*\\])\")"
   ]
  },
  {
   "cell_type": "code",
   "execution_count": 3,
   "id": "a78d92fa",
   "metadata": {},
   "outputs": [
    {
     "data": {
      "text/plain": [
       "Index(['Patient ID', 'CTAS Level', 'Tests', 'Arrival Time', 'Departure Time',\n",
       "       'LOS', 'Triage Waiting Time', 'ED Waiting Time',\n",
       "       'Medication Waiting Time', 'Inpatient Waiting Time',\n",
       "       'Triage Waiting Room Length', 'ED Waiting Room Length',\n",
       "       'Medication Waiting Room Length', 'Inpatient Waiting Room Length'],\n",
       "      dtype='object')"
      ]
     },
     "execution_count": 3,
     "metadata": {},
     "output_type": "execute_result"
    }
   ],
   "source": [
    "df.columns = df.columns.str.lstrip()\n",
    "df.columns"
   ]
  },
  {
   "cell_type": "code",
   "execution_count": 4,
   "id": "59bbeef0",
   "metadata": {},
   "outputs": [
    {
     "name": "stdout",
     "output_type": "stream",
     "text": [
      "98760\n"
     ]
    }
   ],
   "source": [
    "los_vals = []\n",
    "\n",
    "for items in df[\"LOS\"]:\n",
    "    if items > 0:\n",
    "        los_vals.append(items/60)\n",
    "        \n",
    "print(len(los_vals))"
   ]
  },
  {
   "cell_type": "code",
   "execution_count": 5,
   "id": "73f57458",
   "metadata": {},
   "outputs": [],
   "source": [
    "los_vals.sort()"
   ]
  },
  {
   "cell_type": "code",
   "execution_count": 6,
   "id": "33c80d63",
   "metadata": {},
   "outputs": [],
   "source": [
    "# Defining bins and calculating observed frequency\n",
    "bins = 10\n",
    "observed_freq, bin_edges = np.histogram(los_vals, bins=\"auto\")\n",
    "# print(observed_freq, bin_edges)"
   ]
  },
  {
   "cell_type": "code",
   "execution_count": 7,
   "id": "b8cbbb05",
   "metadata": {},
   "outputs": [
    {
     "name": "stdout",
     "output_type": "stream",
     "text": [
      "0.6854824037288475 0.0 1.1092864537801737\n"
     ]
    }
   ],
   "source": [
    "shape, loc, scale = lognorm.fit(los_vals, floc=0)\n",
    "print(shape, loc, scale)"
   ]
  },
  {
   "cell_type": "code",
   "execution_count": 8,
   "id": "80ec733e",
   "metadata": {},
   "outputs": [],
   "source": [
    "# Calulating expected frequency \n",
    "expected_freq = lognorm.pdf(np.arange(1, len(observed_freq)+1), s=shape, loc=loc, scale=scale)\n",
    "expected_freq *= sum(observed_freq) / sum(expected_freq)"
   ]
  },
  {
   "cell_type": "code",
   "execution_count": 9,
   "id": "f6a0f914",
   "metadata": {},
   "outputs": [
    {
     "name": "stdout",
     "output_type": "stream",
     "text": [
      "120930886220.26561\n"
     ]
    }
   ],
   "source": [
    "# Calculating Chi-square avlue\n",
    "chi_sq = sum((observed_freq - expected_freq)**2 / expected_freq)\n",
    "print(chi_sq)"
   ]
  },
  {
   "cell_type": "code",
   "execution_count": 10,
   "id": "f9041f3d",
   "metadata": {},
   "outputs": [
    {
     "name": "stdout",
     "output_type": "stream",
     "text": [
      "112.02198574980785\n"
     ]
    }
   ],
   "source": [
    "alpha = 0.05\n",
    "df = len(observed_freq) - 3    # 3 parameters for shape, loc, and scale\n",
    "crit_val = chi2.ppf(1 - 0.05, df)\n",
    "print(crit_val)"
   ]
  },
  {
   "cell_type": "code",
   "execution_count": 11,
   "id": "2fbc4053",
   "metadata": {},
   "outputs": [
    {
     "name": "stdout",
     "output_type": "stream",
     "text": [
      "Rejects the null hypothesis\n"
     ]
    }
   ],
   "source": [
    "# Compare the test statistic with the critical value\n",
    "\n",
    "# print(\"Chi Square value: \", chi_sq, \"\\nCritical value: \", crit_val)\n",
    "if chi_sq > crit_val:\n",
    "# if p < alpha:\n",
    "    print(\"Rejects the null hypothesis\")\n",
    "else:\n",
    "    print(\"Fails to reject the null hypothesis\")"
   ]
  },
  {
   "cell_type": "code",
   "execution_count": null,
   "id": "cfeaaa6e",
   "metadata": {},
   "outputs": [],
   "source": []
  }
 ],
 "metadata": {
  "kernelspec": {
   "display_name": "Python 3 (ipykernel)",
   "language": "python",
   "name": "python3"
  },
  "language_info": {
   "codemirror_mode": {
    "name": "ipython",
    "version": 3
   },
   "file_extension": ".py",
   "mimetype": "text/x-python",
   "name": "python",
   "nbconvert_exporter": "python",
   "pygments_lexer": "ipython3",
   "version": "3.11.0"
  }
 },
 "nbformat": 4,
 "nbformat_minor": 5
}
