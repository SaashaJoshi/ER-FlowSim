{
 "cells": [
  {
   "cell_type": "markdown",
   "id": "d056dcce",
   "metadata": {},
   "source": [
    "# Calculating (constant) Arrival Times from LOS - LogNormal\n",
    "### Given: Length of stay (LOS) per month, per age group, per hospitals, per CTAS, per PT and Number of ED visits per age group, per hospitals."
   ]
  },
  {
   "cell_type": "code",
   "execution_count": 1,
   "id": "76b8305a",
   "metadata": {},
   "outputs": [],
   "source": [
    "import pandas as pd\n",
    "import numpy as np\n",
    "from scipy.stats import kstest, lognorm, gamma, erlang\n",
    "import matplotlib.pyplot as plt\n",
    "import numpy as np\n",
    "import statsmodels.api as sm\n",
    "%matplotlib inline"
   ]
  },
  {
   "cell_type": "markdown",
   "id": "da495566",
   "metadata": {},
   "source": [
    "## Predicting the distribution of LOS from 50th and 90th percentile values\n",
    "\n",
    "Predicted distribution of LOS values from given 50th and 90th percentile is a Log-normal distribution. \n",
    "\n",
    "1. Assumption for log-normal is made.\n",
    "2. Random LOS values are generated using 'lognorm.rvs' method in the scipy library.\n",
    "3. KS test is used to compare the empirical CDF (from the samples generated) with the expected CFD (the log-normal that we assumed)"
   ]
  },
  {
   "cell_type": "code",
   "execution_count": 2,
   "id": "06e969a4",
   "metadata": {},
   "outputs": [
    {
     "data": {
      "text/plain": [
       "['ED Visits, 2022–2023',\n",
       " 'Notes to readers',\n",
       " 'Table of contents',\n",
       " '1 ED visits, LOS',\n",
       " '2 ED visits, month, age and sex',\n",
       " '3 Top 10 main problems']"
      ]
     },
     "execution_count": 2,
     "metadata": {},
     "output_type": "execute_result"
    }
   ],
   "source": [
    "xls = pd.ExcelFile(\"../data/provisional-emergency-department-visits-apr-sep-2022-provisional-data-tables-en.xlsx\")\n",
    "xls.sheet_names"
   ]
  },
  {
   "cell_type": "code",
   "execution_count": 3,
   "id": "12fdba43",
   "metadata": {},
   "outputs": [
    {
     "data": {
      "text/html": [
       "<div>\n",
       "<style scoped>\n",
       "    .dataframe tbody tr th:only-of-type {\n",
       "        vertical-align: middle;\n",
       "    }\n",
       "\n",
       "    .dataframe tbody tr th {\n",
       "        vertical-align: top;\n",
       "    }\n",
       "\n",
       "    .dataframe thead th {\n",
       "        text-align: right;\n",
       "    }\n",
       "</style>\n",
       "<table border=\"1\" class=\"dataframe\">\n",
       "  <thead>\n",
       "    <tr style=\"text-align: right;\">\n",
       "      <th></th>\n",
       "      <th>Screen reader users: There is 1 table on this tab called Table 1: Number of ED visits and length of stay by Canadian Triage and Acuity Scale (CTAS) levels and admitted cases, participating provinces/territories, NACRS, April 2022 to September 2022. It begins at cell A5 and ends at cell K15. The notes begin in cell A16, coverage information begins in cell A24 and the source begins in cell A26. A link back to the table of contents is in cell A2.</th>\n",
       "      <th>Unnamed: 1</th>\n",
       "      <th>Unnamed: 2</th>\n",
       "      <th>Unnamed: 3</th>\n",
       "      <th>Unnamed: 4</th>\n",
       "      <th>Unnamed: 5</th>\n",
       "      <th>Unnamed: 6</th>\n",
       "      <th>Unnamed: 7</th>\n",
       "      <th>Unnamed: 8</th>\n",
       "      <th>Unnamed: 9</th>\n",
       "      <th>Unnamed: 10</th>\n",
       "    </tr>\n",
       "  </thead>\n",
       "  <tbody>\n",
       "    <tr>\n",
       "      <th>0</th>\n",
       "      <td>Back to the Table of contents</td>\n",
       "      <td>NaN</td>\n",
       "      <td>NaN</td>\n",
       "      <td>NaN</td>\n",
       "      <td>NaN</td>\n",
       "      <td>NaN</td>\n",
       "      <td>NaN</td>\n",
       "      <td>NaN</td>\n",
       "      <td>NaN</td>\n",
       "      <td>NaN</td>\n",
       "      <td>NaN</td>\n",
       "    </tr>\n",
       "    <tr>\n",
       "      <th>1</th>\n",
       "      <td>Table 1  Number of ED visits and length of sta...</td>\n",
       "      <td>NaN</td>\n",
       "      <td>NaN</td>\n",
       "      <td>NaN</td>\n",
       "      <td>NaN</td>\n",
       "      <td>NaN</td>\n",
       "      <td>NaN</td>\n",
       "      <td>NaN</td>\n",
       "      <td>NaN</td>\n",
       "      <td>NaN</td>\n",
       "      <td>NaN</td>\n",
       "    </tr>\n",
       "    <tr>\n",
       "      <th>2</th>\n",
       "      <td>NaN</td>\n",
       "      <td>ED volumes</td>\n",
       "      <td>NaN</td>\n",
       "      <td>NaN</td>\n",
       "      <td>NaN</td>\n",
       "      <td>Median \\n(50% spent less, in hours)</td>\n",
       "      <td>NaN</td>\n",
       "      <td>NaN</td>\n",
       "      <td>90th percentile \\n(90% spent less, in hours)</td>\n",
       "      <td>NaN</td>\n",
       "      <td>NaN</td>\n",
       "    </tr>\n",
       "    <tr>\n",
       "      <th>3</th>\n",
       "      <td>Province/territory*</td>\n",
       "      <td>\\nTotal\\nED volumes</td>\n",
       "      <td>CTAS levels I–III (discharged)†\\nED volumes</td>\n",
       "      <td>CTAS levels IV–V (discharged)‡\\nED volumes</td>\n",
       "      <td>\\nAdmitted§\\nED volumes</td>\n",
       "      <td>CTAS levels I–III (discharged)†\\nMedian (50% s...</td>\n",
       "      <td>CTAS levels IV–V (discharged)‡\\nMedian (50% sp...</td>\n",
       "      <td>\\nAdmitted§\\nMedian (50% spent less, in hours)</td>\n",
       "      <td>CTAS levels I–III (discharged)†\\n90th percenti...</td>\n",
       "      <td>CTAS levels IV–V (discharged)‡\\n90th percentil...</td>\n",
       "      <td>\\nAdmitted§\\n90th percentile (90% spent less, ...</td>\n",
       "    </tr>\n",
       "    <tr>\n",
       "      <th>4</th>\n",
       "      <td>P.E.I.**</td>\n",
       "      <td>34322</td>\n",
       "      <td>13647</td>\n",
       "      <td>8839</td>\n",
       "      <td>3590</td>\n",
       "      <td>4.7</td>\n",
       "      <td>5</td>\n",
       "      <td>19.5</td>\n",
       "      <td>10.3</td>\n",
       "      <td>10.8</td>\n",
       "      <td>81.2</td>\n",
       "    </tr>\n",
       "  </tbody>\n",
       "</table>\n",
       "</div>"
      ],
      "text/plain": [
       "  Screen reader users: There is 1 table on this tab called Table 1: Number of ED visits and length of stay by Canadian Triage and Acuity Scale (CTAS) levels and admitted cases, participating provinces/territories, NACRS, April 2022 to September 2022. It begins at cell A5 and ends at cell K15. The notes begin in cell A16, coverage information begins in cell A24 and the source begins in cell A26. A link back to the table of contents is in cell A2.  \\\n",
       "0                      Back to the Table of contents                                                                                                                                                                                                                                                                                                                                                                                                                \n",
       "1  Table 1  Number of ED visits and length of sta...                                                                                                                                                                                                                                                                                                                                                                                                                \n",
       "2                                                NaN                                                                                                                                                                                                                                                                                                                                                                                                                \n",
       "3                               Province/territory*                                                                                                                                                                                                                                                                                                                                                                                                                 \n",
       "4                                           P.E.I.**                                                                                                                                                                                                                                                                                                                                                                                                                \n",
       "\n",
       "            Unnamed: 1                                   Unnamed: 2  \\\n",
       "0                  NaN                                          NaN   \n",
       "1                  NaN                                          NaN   \n",
       "2           ED volumes                                          NaN   \n",
       "3  \\nTotal\\nED volumes  CTAS levels I–III (discharged)†\\nED volumes   \n",
       "4                34322                                        13647   \n",
       "\n",
       "                                   Unnamed: 3               Unnamed: 4  \\\n",
       "0                                         NaN                      NaN   \n",
       "1                                         NaN                      NaN   \n",
       "2                                         NaN                      NaN   \n",
       "3  CTAS levels IV–V (discharged)‡\\nED volumes  \\nAdmitted§\\nED volumes   \n",
       "4                                        8839                     3590   \n",
       "\n",
       "                                          Unnamed: 5  \\\n",
       "0                                                NaN   \n",
       "1                                                NaN   \n",
       "2                Median \\n(50% spent less, in hours)   \n",
       "3  CTAS levels I–III (discharged)†\\nMedian (50% s...   \n",
       "4                                                4.7   \n",
       "\n",
       "                                          Unnamed: 6  \\\n",
       "0                                                NaN   \n",
       "1                                                NaN   \n",
       "2                                                NaN   \n",
       "3  CTAS levels IV–V (discharged)‡\\nMedian (50% sp...   \n",
       "4                                                  5   \n",
       "\n",
       "                                       Unnamed: 7  \\\n",
       "0                                             NaN   \n",
       "1                                             NaN   \n",
       "2                                             NaN   \n",
       "3  \\nAdmitted§\\nMedian (50% spent less, in hours)   \n",
       "4                                            19.5   \n",
       "\n",
       "                                          Unnamed: 8  \\\n",
       "0                                                NaN   \n",
       "1                                                NaN   \n",
       "2       90th percentile \\n(90% spent less, in hours)   \n",
       "3  CTAS levels I–III (discharged)†\\n90th percenti...   \n",
       "4                                               10.3   \n",
       "\n",
       "                                          Unnamed: 9  \\\n",
       "0                                                NaN   \n",
       "1                                                NaN   \n",
       "2                                                NaN   \n",
       "3  CTAS levels IV–V (discharged)‡\\n90th percentil...   \n",
       "4                                               10.8   \n",
       "\n",
       "                                         Unnamed: 10  \n",
       "0                                                NaN  \n",
       "1                                                NaN  \n",
       "2                                                NaN  \n",
       "3  \\nAdmitted§\\n90th percentile (90% spent less, ...  \n",
       "4                                               81.2  "
      ]
     },
     "execution_count": 3,
     "metadata": {},
     "output_type": "execute_result"
    }
   ],
   "source": [
    "df = pd.read_excel(\"../data/provisional-emergency-department-visits-apr-sep-2022-provisional-data-tables-en.xlsx\", xls.sheet_names[3])\n",
    "df.head(5)"
   ]
  },
  {
   "cell_type": "code",
   "execution_count": 4,
   "id": "6e82e329",
   "metadata": {},
   "outputs": [],
   "source": [
    "df = df.rename(columns = {\"Screen reader users: There is 1 table on this tab called Table 1: Number of ED visits and length of stay by Canadian Triage and Acuity Scale (CTAS) levels and admitted cases, participating provinces/territories, NACRS, April 2022 to September 2022. It begins at cell A5 and ends at cell K15. The notes begin in cell A16, coverage information begins in cell A24 and the source begins in cell A26. A link back to the table of contents is in cell A2.\": \"Province/Territory\",\n",
    "                         \"Unnamed: 1\": \"Total ED volume\",\n",
    "                         \"Unnamed: 2\": \"ED volume CTAS I-III\",\n",
    "                         \"Unnamed: 3\": \"ED volume CTAS IV-V\",\n",
    "                         \"Unnamed: 4\": \"ED volume Admitted\",\n",
    "                         \"Unnamed: 5\": \"50th percentile LOS - CTAS I-III\",\n",
    "                         \"Unnamed: 6\": \"50th percentile LOS - CTAS IV-V\",\n",
    "                         \"Unnamed: 7\": \"50th percentile LOS - Admitted\",\n",
    "                         \"Unnamed: 8\": \"90th percentile LOS - CTAS I-III\",\n",
    "                         \"Unnamed: 9\": \"90th percentile LOS - CTAS IV-V\",\n",
    "                         \"Unnamed: 10\": \"90th percentile LOS - Admitted\"})"
   ]
  },
  {
   "cell_type": "code",
   "execution_count": 5,
   "id": "48ea16f0",
   "metadata": {},
   "outputs": [
    {
     "data": {
      "text/html": [
       "<div>\n",
       "<style scoped>\n",
       "    .dataframe tbody tr th:only-of-type {\n",
       "        vertical-align: middle;\n",
       "    }\n",
       "\n",
       "    .dataframe tbody tr th {\n",
       "        vertical-align: top;\n",
       "    }\n",
       "\n",
       "    .dataframe thead th {\n",
       "        text-align: right;\n",
       "    }\n",
       "</style>\n",
       "<table border=\"1\" class=\"dataframe\">\n",
       "  <thead>\n",
       "    <tr style=\"text-align: right;\">\n",
       "      <th></th>\n",
       "      <th>Province/Territory</th>\n",
       "      <th>Total ED volume</th>\n",
       "      <th>ED volume CTAS I-III</th>\n",
       "      <th>ED volume CTAS IV-V</th>\n",
       "      <th>ED volume Admitted</th>\n",
       "      <th>50th percentile LOS - CTAS I-III</th>\n",
       "      <th>50th percentile LOS - CTAS IV-V</th>\n",
       "      <th>50th percentile LOS - Admitted</th>\n",
       "      <th>90th percentile LOS - CTAS I-III</th>\n",
       "      <th>90th percentile LOS - CTAS IV-V</th>\n",
       "      <th>90th percentile LOS - Admitted</th>\n",
       "    </tr>\n",
       "  </thead>\n",
       "  <tbody>\n",
       "    <tr>\n",
       "      <th>0</th>\n",
       "      <td>Back to the Table of contents</td>\n",
       "      <td>False</td>\n",
       "      <td>False</td>\n",
       "      <td>False</td>\n",
       "      <td>False</td>\n",
       "      <td>False</td>\n",
       "      <td>False</td>\n",
       "      <td>False</td>\n",
       "      <td>False</td>\n",
       "      <td>False</td>\n",
       "      <td>False</td>\n",
       "    </tr>\n",
       "    <tr>\n",
       "      <th>1</th>\n",
       "      <td>Table 1  Number of ED visits and length of sta...</td>\n",
       "      <td>False</td>\n",
       "      <td>False</td>\n",
       "      <td>False</td>\n",
       "      <td>False</td>\n",
       "      <td>False</td>\n",
       "      <td>False</td>\n",
       "      <td>False</td>\n",
       "      <td>False</td>\n",
       "      <td>False</td>\n",
       "      <td>False</td>\n",
       "    </tr>\n",
       "    <tr>\n",
       "      <th>2</th>\n",
       "      <td>False</td>\n",
       "      <td>ED volumes</td>\n",
       "      <td>False</td>\n",
       "      <td>False</td>\n",
       "      <td>False</td>\n",
       "      <td>Median \\n(50% spent less, in hours)</td>\n",
       "      <td>False</td>\n",
       "      <td>False</td>\n",
       "      <td>90th percentile \\n(90% spent less, in hours)</td>\n",
       "      <td>False</td>\n",
       "      <td>False</td>\n",
       "    </tr>\n",
       "    <tr>\n",
       "      <th>3</th>\n",
       "      <td>Province/territory*</td>\n",
       "      <td>\\nTotal\\nED volumes</td>\n",
       "      <td>CTAS levels I–III (discharged)†\\nED volumes</td>\n",
       "      <td>CTAS levels IV–V (discharged)‡\\nED volumes</td>\n",
       "      <td>\\nAdmitted§\\nED volumes</td>\n",
       "      <td>CTAS levels I–III (discharged)†\\nMedian (50% s...</td>\n",
       "      <td>CTAS levels IV–V (discharged)‡\\nMedian (50% sp...</td>\n",
       "      <td>\\nAdmitted§\\nMedian (50% spent less, in hours)</td>\n",
       "      <td>CTAS levels I–III (discharged)†\\n90th percenti...</td>\n",
       "      <td>CTAS levels IV–V (discharged)‡\\n90th percentil...</td>\n",
       "      <td>\\nAdmitted§\\n90th percentile (90% spent less, ...</td>\n",
       "    </tr>\n",
       "    <tr>\n",
       "      <th>4</th>\n",
       "      <td>P.E.I.**</td>\n",
       "      <td>34322</td>\n",
       "      <td>13647</td>\n",
       "      <td>8839</td>\n",
       "      <td>3590</td>\n",
       "      <td>4.7</td>\n",
       "      <td>5</td>\n",
       "      <td>19.5</td>\n",
       "      <td>10.3</td>\n",
       "      <td>10.8</td>\n",
       "      <td>81.2</td>\n",
       "    </tr>\n",
       "  </tbody>\n",
       "</table>\n",
       "</div>"
      ],
      "text/plain": [
       "                                  Province/Territory      Total ED volume  \\\n",
       "0                      Back to the Table of contents                False   \n",
       "1  Table 1  Number of ED visits and length of sta...                False   \n",
       "2                                              False           ED volumes   \n",
       "3                               Province/territory*   \\nTotal\\nED volumes   \n",
       "4                                           P.E.I.**                34322   \n",
       "\n",
       "                          ED volume CTAS I-III  \\\n",
       "0                                        False   \n",
       "1                                        False   \n",
       "2                                        False   \n",
       "3  CTAS levels I–III (discharged)†\\nED volumes   \n",
       "4                                        13647   \n",
       "\n",
       "                          ED volume CTAS IV-V       ED volume Admitted  \\\n",
       "0                                       False                    False   \n",
       "1                                       False                    False   \n",
       "2                                       False                    False   \n",
       "3  CTAS levels IV–V (discharged)‡\\nED volumes  \\nAdmitted§\\nED volumes   \n",
       "4                                        8839                     3590   \n",
       "\n",
       "                    50th percentile LOS - CTAS I-III  \\\n",
       "0                                              False   \n",
       "1                                              False   \n",
       "2                Median \\n(50% spent less, in hours)   \n",
       "3  CTAS levels I–III (discharged)†\\nMedian (50% s...   \n",
       "4                                                4.7   \n",
       "\n",
       "                     50th percentile LOS - CTAS IV-V  \\\n",
       "0                                              False   \n",
       "1                                              False   \n",
       "2                                              False   \n",
       "3  CTAS levels IV–V (discharged)‡\\nMedian (50% sp...   \n",
       "4                                                  5   \n",
       "\n",
       "                   50th percentile LOS - Admitted  \\\n",
       "0                                           False   \n",
       "1                                           False   \n",
       "2                                           False   \n",
       "3  \\nAdmitted§\\nMedian (50% spent less, in hours)   \n",
       "4                                            19.5   \n",
       "\n",
       "                    90th percentile LOS - CTAS I-III  \\\n",
       "0                                              False   \n",
       "1                                              False   \n",
       "2       90th percentile \\n(90% spent less, in hours)   \n",
       "3  CTAS levels I–III (discharged)†\\n90th percenti...   \n",
       "4                                               10.3   \n",
       "\n",
       "                     90th percentile LOS - CTAS IV-V  \\\n",
       "0                                              False   \n",
       "1                                              False   \n",
       "2                                              False   \n",
       "3  CTAS levels IV–V (discharged)‡\\n90th percentil...   \n",
       "4                                               10.8   \n",
       "\n",
       "                      90th percentile LOS - Admitted  \n",
       "0                                              False  \n",
       "1                                              False  \n",
       "2                                              False  \n",
       "3  \\nAdmitted§\\n90th percentile (90% spent less, ...  \n",
       "4                                               81.2  "
      ]
     },
     "execution_count": 5,
     "metadata": {},
     "output_type": "execute_result"
    }
   ],
   "source": [
    "df = df.fillna('False')\n",
    "df.head(5)"
   ]
  },
  {
   "cell_type": "code",
   "execution_count": 6,
   "id": "c308a73c",
   "metadata": {},
   "outputs": [
    {
     "name": "stdout",
     "output_type": "stream",
     "text": [
      "3.9 8.0 430213\n"
     ]
    },
    {
     "data": {
      "text/html": [
       "<div>\n",
       "<style scoped>\n",
       "    .dataframe tbody tr th:only-of-type {\n",
       "        vertical-align: middle;\n",
       "    }\n",
       "\n",
       "    .dataframe tbody tr th {\n",
       "        vertical-align: top;\n",
       "    }\n",
       "\n",
       "    .dataframe thead th {\n",
       "        text-align: right;\n",
       "    }\n",
       "</style>\n",
       "<table border=\"1\" class=\"dataframe\">\n",
       "  <thead>\n",
       "    <tr style=\"text-align: right;\">\n",
       "      <th></th>\n",
       "      <th>Province/Territory</th>\n",
       "      <th>Total ED volume</th>\n",
       "      <th>ED volume CTAS I-III</th>\n",
       "      <th>ED volume CTAS IV-V</th>\n",
       "      <th>ED volume Admitted</th>\n",
       "      <th>50th percentile LOS - CTAS I-III</th>\n",
       "      <th>50th percentile LOS - CTAS IV-V</th>\n",
       "      <th>50th percentile LOS - Admitted</th>\n",
       "      <th>90th percentile LOS - CTAS I-III</th>\n",
       "      <th>90th percentile LOS - CTAS IV-V</th>\n",
       "      <th>90th percentile LOS - Admitted</th>\n",
       "    </tr>\n",
       "  </thead>\n",
       "  <tbody>\n",
       "    <tr>\n",
       "      <th>11</th>\n",
       "      <td>B.C.**</td>\n",
       "      <td>870924</td>\n",
       "      <td>430213</td>\n",
       "      <td>266125</td>\n",
       "      <td>105106</td>\n",
       "      <td>3.9</td>\n",
       "      <td>2.7</td>\n",
       "      <td>17.8</td>\n",
       "      <td>8</td>\n",
       "      <td>5.6</td>\n",
       "      <td>52.8</td>\n",
       "    </tr>\n",
       "  </tbody>\n",
       "</table>\n",
       "</div>"
      ],
      "text/plain": [
       "   Province/Territory Total ED volume ED volume CTAS I-III  \\\n",
       "11             B.C.**          870924               430213   \n",
       "\n",
       "   ED volume CTAS IV-V ED volume Admitted 50th percentile LOS - CTAS I-III  \\\n",
       "11              266125             105106                              3.9   \n",
       "\n",
       "   50th percentile LOS - CTAS IV-V 50th percentile LOS - Admitted  \\\n",
       "11                             2.7                           17.8   \n",
       "\n",
       "   90th percentile LOS - CTAS I-III 90th percentile LOS - CTAS IV-V  \\\n",
       "11                                8                             5.6   \n",
       "\n",
       "   90th percentile LOS - Admitted  \n",
       "11                           52.8  "
      ]
     },
     "execution_count": 6,
     "metadata": {},
     "output_type": "execute_result"
    }
   ],
   "source": [
    "bc = df[df[\"Province/Territory\"].str.match(r\"B.C.(.*?)\")]\n",
    "# df[\"Province/Territory\"].str.match(r\"B.C.(.*?)\")\n",
    "\n",
    "# Claculations for CTAS I - III only.\n",
    "mean_50 = float(bc[\"50th percentile LOS - CTAS I-III\"])\n",
    "mean_90 = float(bc[\"90th percentile LOS - CTAS I-III\"])\n",
    "ed_visits = int(bc[\"ED volume CTAS I-III\"])\n",
    "\n",
    "print(mean_50, mean_90, ed_visits)\n",
    "bc"
   ]
  },
  {
   "cell_type": "markdown",
   "id": "c37a2c08",
   "metadata": {},
   "source": [
    "Referring the following link:\n",
    "https://math.stackexchange.com/questions/2132005/percentile-of-lognormal-and-its-first-moments\n",
    "\n",
    "Estimation for mean and variance can be made from the given 50th and 90th percentiles for a log-normal distribution"
   ]
  },
  {
   "cell_type": "code",
   "execution_count": 7,
   "id": "c554e4d3",
   "metadata": {},
   "outputs": [
    {
     "name": "stdout",
     "output_type": "stream",
     "text": [
      "3.9783484754415865 0.1994503653720124 0.6423062764946311\n"
     ]
    }
   ],
   "source": [
    "# estimated_mean = np.log(mean_50)\n",
    "mu = np.log(mean_50)\n",
    "sigma = estimated_std = (np.log(mean_90) - np.log(mean_50))/ lognorm.ppf(0.9, s=1)\n",
    "\n",
    "estimated_mean = np.exp(mu + (sigma**2)/2)\n",
    "estimated_variance = (np.exp(sigma**2) - 1) * (np.exp(2*mu + sigma**2))\n",
    "\n",
    "# Here s is the shape parameter of the log-normal distribution\n",
    "# s = 1 means that we assume the data to be standard log-normal distribution\n",
    "\n",
    "print(estimated_mean, estimated_std, estimated_variance)"
   ]
  },
  {
   "cell_type": "markdown",
   "id": "c7fb7151",
   "metadata": {},
   "source": [
    "## Generation of LOS random samples from log-normal distribution"
   ]
  },
  {
   "cell_type": "code",
   "execution_count": 8,
   "id": "880a6c3c",
   "metadata": {},
   "outputs": [],
   "source": [
    "# Generate random samples/variables\n",
    "n_samples = ed_visits\n",
    "samples = lognorm.rvs(s=estimated_std, scale=estimated_mean, size=n_samples)\n",
    "# print(samples)"
   ]
  },
  {
   "cell_type": "code",
   "execution_count": 9,
   "id": "8b63c426",
   "metadata": {},
   "outputs": [
    {
     "name": "stdout",
     "output_type": "stream",
     "text": [
      "4.057995434287811 1.4006891162890942\n"
     ]
    }
   ],
   "source": [
    "# Using the random samples generated, verify the estimated values.\n",
    "sample_mean = np.mean(samples)\n",
    "# prob_long_stay = 1 - lognorm.cdf(8, s=estimated_std, scale=np.exp(estimated_mean))\n",
    "print(sample_mean, np.log(sample_mean))"
   ]
  },
  {
   "cell_type": "code",
   "execution_count": 10,
   "id": "132b5c23",
   "metadata": {},
   "outputs": [
    {
     "name": "stdout",
     "output_type": "stream",
     "text": [
      "0.19910000326326371 -0.008007792785015459 3.986209734020955\n"
     ]
    }
   ],
   "source": [
    "# Estimate the lognorm parameters by fitting lognorm on sample data\n",
    "s, loc, scale = lognorm.fit(samples)\n",
    "print(s, loc, scale)"
   ]
  },
  {
   "cell_type": "code",
   "execution_count": 11,
   "id": "5f5f6532",
   "metadata": {},
   "outputs": [
    {
     "name": "stdout",
     "output_type": "stream",
     "text": [
      "0.19910000326326371 -0.008007792785015459 3.986209734020955\n",
      "0.1994503653720124 0 3.9783484754415865\n"
     ]
    }
   ],
   "source": [
    "print(s, loc, scale)\n",
    "print(estimated_std, 0, estimated_mean)"
   ]
  },
  {
   "cell_type": "markdown",
   "id": "88104a07",
   "metadata": {},
   "source": [
    "## Q-Q Plot"
   ]
  },
  {
   "cell_type": "code",
   "execution_count": 12,
   "id": "7c457944",
   "metadata": {},
   "outputs": [
    {
     "data": {
      "image/png": "[encoded data removed]",
      "text/plain": [
       "<Figure size 640x480 with 1 Axes>"
      ]
     },
     "execution_count": 12,
     "metadata": {},
     "output_type": "execute_result"
    },
    {
     "data": {
      "image/png": "[encoded data removed]",
      "text/plain": [
       "<Figure size 640x480 with 1 Axes>"
      ]
     },
     "metadata": {},
     "output_type": "display_data"
    }
   ],
   "source": [
    "sm.qqplot(data=samples, dist=lognorm, fit=True, line='45')"
   ]
  },
  {
   "cell_type": "code",
   "execution_count": 13,
   "id": "19c64e3d",
   "metadata": {},
   "outputs": [],
   "source": [
    "# sm.qqplot(data=samples, dist=gamma, fit=True, line='45')"
   ]
  },
  {
   "cell_type": "markdown",
   "id": "df760507",
   "metadata": {},
   "source": [
    "### Goodness-of-fit test\n",
    "\n",
    "Can perform either:\n",
    "1. Chi-square test (Can use this here since the sample size is huge)\n",
    "2. KS test (preferred when sample size is less)"
   ]
  },
  {
   "cell_type": "code",
   "execution_count": 14,
   "id": "bf98b0fe",
   "metadata": {},
   "outputs": [
    {
     "name": "stdout",
     "output_type": "stream",
     "text": [
      "KstestResult(statistic=0.0006802065050985906, pvalue=0.9884998023322893, statistic_location=4.106583481093754, statistic_sign=1)\n"
     ]
    }
   ],
   "source": [
    "# Check the samples using KS test\n",
    "# Lower statistic value and higher pvalue (>=0.05) are better indicating that the distrbution is a match.\n",
    "result = kstest(rvs=samples, cdf=lognorm.cdf, args=(estimated_std, 0, estimated_mean))\n",
    "print(result)"
   ]
  },
  {
   "cell_type": "code",
   "execution_count": 15,
   "id": "dcb68ad5",
   "metadata": {},
   "outputs": [
    {
     "data": {
      "text/plain": [
       "[<matplotlib.lines.Line2D at 0x148528990>]"
      ]
     },
     "execution_count": 15,
     "metadata": {},
     "output_type": "execute_result"
    },
    {
     "data": {
      "image/png": "[encoded data removed]",
      "text/plain": [
       "<Figure size 640x480 with 1 Axes>"
      ]
     },
     "metadata": {},
     "output_type": "display_data"
    }
   ],
   "source": [
    "# Plotting the samples\n",
    "x = samples\n",
    "\n",
    "plt.hist(x, density=True, bins='auto')  # bins = 30\n",
    "plt.ylabel('Patients CTAS I-III')\n",
    "plt.xlabel('LOS in Hours');\n",
    "\n",
    "# Standard log-norm distribution\n",
    "# s, loc, scale = 0.19938488866609466 0.0018192859620109133 3.977339990309466\n",
    "lognorm_dist = lognorm(s=0.2, loc=0, scale=4)\n",
    "y = np.linspace(0, 10, ed_visits)\n",
    "plt.plot(y, lognorm_dist.pdf(y))\n",
    "\n",
    "# Standard gamma distribution\n",
    "# lognorm_dist = gamma(a=1, loc=0, scale=4)\n",
    "# y = np.linspace(0, 10, ed_visits)\n",
    "# plt.plot(y, lognorm_dist.pdf(y))\n",
    "# plt.show()"
   ]
  },
  {
   "cell_type": "markdown",
   "id": "b99bdaa6",
   "metadata": {},
   "source": [
    "### Therefore, LOS follows a log-normal distribution\n",
    "\n",
    "Now, to find the arrival rate "
   ]
  },
  {
   "cell_type": "code",
   "execution_count": 16,
   "id": "90bb7d55",
   "metadata": {},
   "outputs": [
    {
     "name": "stdout",
     "output_type": "stream",
     "text": [
      "430213 71702.16666666667 2390.0722222222225 99.5863425925926 1.65977237654321 1.65977237654321\n"
     ]
    }
   ],
   "source": [
    "# ED arrivals per day - arrival rate!\n",
    "ed_visits_per_month = ed_visits/6\n",
    "ed_visits_per_day = ed_visits_per_month/30\n",
    "ed_visits_per_hour = ed_visits_per_day/24\n",
    "ed_visits_per_minute = ed_visits_per_hour/60\n",
    "\n",
    "arrival_rate = ed_visits_per_minute\n",
    "\n",
    "print(ed_visits, ed_visits_per_month, ed_visits_per_day, ed_visits_per_hour, ed_visits_per_minute, arrival_rate)"
   ]
  },
  {
   "cell_type": "code",
   "execution_count": 17,
   "id": "c4949234",
   "metadata": {},
   "outputs": [
    {
     "name": "stdout",
     "output_type": "stream",
     "text": [
      "0.15144280536414742\n",
      "0.1484704119542194\n"
     ]
    }
   ],
   "source": [
    "# Mean inter arrival time in hours per patient\n",
    "mean_inter_arrival_time = 60/(ed_visits_per_hour * estimated_mean)\n",
    "print(mean_inter_arrival_time)\n",
    "\n",
    "# or shall I use sample mean?\n",
    "mean_inter_arrival_time_2 = 60/(ed_visits_per_hour * sample_mean)\n",
    "print(mean_inter_arrival_time_2)"
   ]
  },
  {
   "cell_type": "code",
   "execution_count": 18,
   "id": "af6f4434",
   "metadata": {},
   "outputs": [
    {
     "name": "stdout",
     "output_type": "stream",
     "text": [
      "6.603152903800738\n",
      "6.735348725969376\n"
     ]
    }
   ],
   "source": [
    "# Arrival rate in patients per minute\n",
    "arrival_rate = 1/mean_inter_arrival_time\n",
    "print(arrival_rate)\n",
    "\n",
    "arrival_rate_2 = 1/mean_inter_arrival_time_2\n",
    "print(arrival_rate_2)"
   ]
  },
  {
   "cell_type": "code",
   "execution_count": 19,
   "id": "b2faf0e1",
   "metadata": {},
   "outputs": [],
   "source": [
    "# arrival_rate_3 = 1/ed_visits_per_minute\n",
    "# print(arrival_rate_3)"
   ]
  },
  {
   "cell_type": "code",
   "execution_count": 20,
   "id": "e118f63e",
   "metadata": {},
   "outputs": [
    {
     "name": "stdout",
     "output_type": "stream",
     "text": [
      "0.2513605849696217\n",
      "0.24642708849560416\n"
     ]
    }
   ],
   "source": [
    "# Mean inter arrival time in hours per patient\n",
    "mean_inter_arrival_time_3 = 1/estimated_mean\n",
    "print(mean_inter_arrival_time_3)\n",
    "\n",
    "# or shall I use sample mean?\n",
    "mean_inter_arrival_time_4 = 1/sample_mean\n",
    "print(mean_inter_arrival_time_4)"
   ]
  },
  {
   "cell_type": "code",
   "execution_count": 21,
   "id": "014142cf",
   "metadata": {},
   "outputs": [
    {
     "name": "stdout",
     "output_type": "stream",
     "text": [
      "3.978348475441587\n",
      "4.057995434287811\n"
     ]
    }
   ],
   "source": [
    "arrival_rate_3 = 1/mean_inter_arrival_time_3\n",
    "print(arrival_rate_3)\n",
    "\n",
    "arrival_rate_4 = 1/mean_inter_arrival_time_4\n",
    "print(arrival_rate_4)"
   ]
  },
  {
   "cell_type": "code",
   "execution_count": 22,
   "id": "adadf4b9",
   "metadata": {},
   "outputs": [
    {
     "data": {
      "text/plain": [
       "3.9783484754415865"
      ]
     },
     "execution_count": 22,
     "metadata": {},
     "output_type": "execute_result"
    }
   ],
   "source": [
    "estimated_mean"
   ]
  },
  {
   "cell_type": "code",
   "execution_count": 23,
   "id": "5629b206",
   "metadata": {},
   "outputs": [
    {
     "name": "stdout",
     "output_type": "stream",
     "text": [
      "0.2513605849696217 3.978348475441587\n"
     ]
    }
   ],
   "source": [
    "arr_rate = 1/(estimated_mean)\n",
    "print(arr_rate, 1/arr_rate)"
   ]
  },
  {
   "cell_type": "code",
   "execution_count": 7,
   "id": "58f848ec",
   "metadata": {},
   "outputs": [
    {
     "name": "stdout",
     "output_type": "stream",
     "text": [
      "3.3600462962962965\n"
     ]
    }
   ],
   "source": [
    "arrival_rate_from_total_visits = 870924/(6*30*24*60)\n",
    "print(arrival_rate_from_total_visits)"
   ]
  },
  {
   "cell_type": "code",
   "execution_count": 12,
   "id": "6b1ba21b",
   "metadata": {},
   "outputs": [
    {
     "name": "stdout",
     "output_type": "stream",
     "text": [
      "1.65977237654321 1.0267168209876543 2.686489197530864\n"
     ]
    }
   ],
   "source": [
    "ar123 = 430213/(6*30*24*60)\n",
    "ar45 = 266125/(6*30*24*60)\n",
    "ar_total = (430213+266125)/(6*30*24*60)\n",
    "print(ar123, ar45, ar_total)"
   ]
  },
  {
   "cell_type": "code",
   "execution_count": null,
   "id": "54c5c9f2",
   "metadata": {},
   "outputs": [],
   "source": []
  }
 ],
 "metadata": {
  "kernelspec": {
   "display_name": "Python 3 (ipykernel)",
   "language": "python",
   "name": "python3"
  },
  "language_info": {
   "codemirror_mode": {
    "name": "ipython",
    "version": 3
   },
   "file_extension": ".py",
   "mimetype": "text/x-python",
   "name": "python",
   "nbconvert_exporter": "python",
   "pygments_lexer": "ipython3",
   "version": "3.11.0"
  }
 },
 "nbformat": 4,
 "nbformat_minor": 5
}
