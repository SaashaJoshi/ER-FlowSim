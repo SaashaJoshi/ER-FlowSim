{
 "cells": [
  {
   "cell_type": "code",
   "execution_count": 6,
   "id": "d6610530",
   "metadata": {},
   "outputs": [],
   "source": [
    "import pandas as pd"
   ]
  },
  {
   "cell_type": "code",
   "execution_count": 7,
   "id": "2ff122a1",
   "metadata": {},
   "outputs": [],
   "source": [
    "# df = pd.read_csv(\"simulation_results.csv\", sep=',', \n",
    "#                   names=[\"Patient ID\", \"CTAS Level\", \"Tests\",\n",
    "#                          \"Arrival Time\", \"Departure Time\", \"LOS\",\n",
    "#                          \"Triage Waiting Time\", \"ED Waiting Time\",\n",
    "#                          \"Medication Waiting Time\", \"Inpatient Waiting Time\", \n",
    "#                          \"Triage Waiting Room Length\", \"ED Waiting Room Length\",\n",
    "#                          \"Medication Waiting Room Length\", \"Inpatient Waiting Room Length\"\n",
    "#                         ])"
   ]
  },
  {
   "cell_type": "code",
   "execution_count": 8,
   "id": "1b7874f8",
   "metadata": {},
   "outputs": [
    {
     "name": "stderr",
     "output_type": "stream",
     "text": [
      "/var/folders/3j/3p_dzlvs1nsdfryf9hm7gjnr0000gn/T/ipykernel_10966/3152665141.py:1: ParserWarning: Falling back to the 'python' engine because the 'c' engine does not support regex separators (separators > 1 char and different from '\\s+' are interpreted as regex); you can avoid this warning by specifying engine='python'.\n",
      "  df = pd.read_csv(\"../simulation_results.csv\", sep=r\",(?![^\\[]*\\])\")\n"
     ]
    }
   ],
   "source": [
    "df = pd.read_csv(\"../simulation_results.csv\", sep=r\",(?![^\\[]*\\])\")"
   ]
  },
  {
   "cell_type": "code",
   "execution_count": 9,
   "id": "8a70ba10",
   "metadata": {},
   "outputs": [
    {
     "data": {
      "text/html": [
       "<div>\n",
       "<style scoped>\n",
       "    .dataframe tbody tr th:only-of-type {\n",
       "        vertical-align: middle;\n",
       "    }\n",
       "\n",
       "    .dataframe tbody tr th {\n",
       "        vertical-align: top;\n",
       "    }\n",
       "\n",
       "    .dataframe thead th {\n",
       "        text-align: right;\n",
       "    }\n",
       "</style>\n",
       "<table border=\"1\" class=\"dataframe\">\n",
       "  <thead>\n",
       "    <tr style=\"text-align: right;\">\n",
       "      <th></th>\n",
       "      <th>Patient ID</th>\n",
       "      <th>CTAS Level</th>\n",
       "      <th>Tests</th>\n",
       "      <th>Arrival Time</th>\n",
       "      <th>Departure Time</th>\n",
       "      <th>LOS</th>\n",
       "      <th>Triage Waiting Time</th>\n",
       "      <th>ED Waiting Time</th>\n",
       "      <th>Medication Waiting Time</th>\n",
       "      <th>Inpatient Waiting Time</th>\n",
       "      <th>Triage Waiting Room Length</th>\n",
       "      <th>ED Waiting Room Length</th>\n",
       "      <th>Medication Waiting Room Length</th>\n",
       "      <th>Inpatient Waiting Room Length</th>\n",
       "    </tr>\n",
       "  </thead>\n",
       "  <tbody>\n",
       "    <tr>\n",
       "      <th>0</th>\n",
       "      <td>1</td>\n",
       "      <td>1</td>\n",
       "      <td>['ED Blood Test']</td>\n",
       "      <td>0.000000</td>\n",
       "      <td>22.564901</td>\n",
       "      <td>22.564901</td>\n",
       "      <td>0.0</td>\n",
       "      <td>0.0</td>\n",
       "      <td>0.000000</td>\n",
       "      <td>0.0</td>\n",
       "      <td>1</td>\n",
       "      <td>1</td>\n",
       "      <td>9</td>\n",
       "      <td>1</td>\n",
       "    </tr>\n",
       "    <tr>\n",
       "      <th>1</th>\n",
       "      <td>2</td>\n",
       "      <td>5</td>\n",
       "      <td>['Triage ECG', 'Triage Urine', 'Triage X-Ray']</td>\n",
       "      <td>0.365564</td>\n",
       "      <td>101.528271</td>\n",
       "      <td>101.162708</td>\n",
       "      <td>0.0</td>\n",
       "      <td>0.0</td>\n",
       "      <td>1.936929</td>\n",
       "      <td>0.0</td>\n",
       "      <td>1</td>\n",
       "      <td>1</td>\n",
       "      <td>9</td>\n",
       "      <td>1</td>\n",
       "    </tr>\n",
       "    <tr>\n",
       "      <th>2</th>\n",
       "      <td>3</td>\n",
       "      <td>0</td>\n",
       "      <td>[]</td>\n",
       "      <td>1.462743</td>\n",
       "      <td>0.000000</td>\n",
       "      <td>-1.462743</td>\n",
       "      <td>0.0</td>\n",
       "      <td>0.0</td>\n",
       "      <td>0.000000</td>\n",
       "      <td>0.0</td>\n",
       "      <td>1</td>\n",
       "      <td>1</td>\n",
       "      <td>9</td>\n",
       "      <td>1</td>\n",
       "    </tr>\n",
       "    <tr>\n",
       "      <th>3</th>\n",
       "      <td>4</td>\n",
       "      <td>0</td>\n",
       "      <td>[]</td>\n",
       "      <td>1.532924</td>\n",
       "      <td>0.000000</td>\n",
       "      <td>-1.532924</td>\n",
       "      <td>0.0</td>\n",
       "      <td>0.0</td>\n",
       "      <td>0.000000</td>\n",
       "      <td>0.0</td>\n",
       "      <td>1</td>\n",
       "      <td>1</td>\n",
       "      <td>9</td>\n",
       "      <td>1</td>\n",
       "    </tr>\n",
       "    <tr>\n",
       "      <th>4</th>\n",
       "      <td>5</td>\n",
       "      <td>1</td>\n",
       "      <td>['ED CT']</td>\n",
       "      <td>1.899614</td>\n",
       "      <td>71.369191</td>\n",
       "      <td>69.469577</td>\n",
       "      <td>0.0</td>\n",
       "      <td>0.0</td>\n",
       "      <td>0.000000</td>\n",
       "      <td>0.0</td>\n",
       "      <td>1</td>\n",
       "      <td>1</td>\n",
       "      <td>9</td>\n",
       "      <td>1</td>\n",
       "    </tr>\n",
       "  </tbody>\n",
       "</table>\n",
       "</div>"
      ],
      "text/plain": [
       "   Patient ID   CTAS Level                                            Tests  \\\n",
       "0           1            1                                ['ED Blood Test']   \n",
       "1           2            5   ['Triage ECG', 'Triage Urine', 'Triage X-Ray']   \n",
       "2           3            0                                               []   \n",
       "3           4            0                                               []   \n",
       "4           5            1                                        ['ED CT']   \n",
       "\n",
       "    Arrival Time   Departure Time         LOS   Triage Waiting Time  \\\n",
       "0       0.000000        22.564901   22.564901                   0.0   \n",
       "1       0.365564       101.528271  101.162708                   0.0   \n",
       "2       1.462743         0.000000   -1.462743                   0.0   \n",
       "3       1.532924         0.000000   -1.532924                   0.0   \n",
       "4       1.899614        71.369191   69.469577                   0.0   \n",
       "\n",
       "    ED Waiting Time   Medication Waiting Time   Inpatient Waiting Time  \\\n",
       "0               0.0                  0.000000                      0.0   \n",
       "1               0.0                  1.936929                      0.0   \n",
       "2               0.0                  0.000000                      0.0   \n",
       "3               0.0                  0.000000                      0.0   \n",
       "4               0.0                  0.000000                      0.0   \n",
       "\n",
       "    Triage Waiting Room Length   ED Waiting Room Length  \\\n",
       "0                            1                        1   \n",
       "1                            1                        1   \n",
       "2                            1                        1   \n",
       "3                            1                        1   \n",
       "4                            1                        1   \n",
       "\n",
       "    Medication Waiting Room Length   Inpatient Waiting Room Length  \n",
       "0                                9                               1  \n",
       "1                                9                               1  \n",
       "2                                9                               1  \n",
       "3                                9                               1  \n",
       "4                                9                               1  "
      ]
     },
     "execution_count": 9,
     "metadata": {},
     "output_type": "execute_result"
    }
   ],
   "source": [
    "df[:5]"
   ]
  },
  {
   "cell_type": "code",
   "execution_count": 10,
   "id": "09c95058",
   "metadata": {},
   "outputs": [
    {
     "data": {
      "text/plain": [
       "Index(['Patient ID', 'CTAS Level', 'Tests', 'Arrival Time', 'Departure Time',\n",
       "       'LOS', 'Triage Waiting Time', 'ED Waiting Time',\n",
       "       'Medication Waiting Time', 'Inpatient Waiting Time',\n",
       "       'Triage Waiting Room Length', 'ED Waiting Room Length',\n",
       "       'Medication Waiting Room Length', 'Inpatient Waiting Room Length'],\n",
       "      dtype='object')"
      ]
     },
     "execution_count": 10,
     "metadata": {},
     "output_type": "execute_result"
    }
   ],
   "source": [
    "df.columns = df.columns.str.lstrip()\n",
    "df.columns"
   ]
  },
  {
   "cell_type": "code",
   "execution_count": 11,
   "id": "d01226a7",
   "metadata": {},
   "outputs": [
    {
     "name": "stdout",
     "output_type": "stream",
     "text": [
      "8058 1.4214869915439723 3981 1.5123788009236183\n"
     ]
    }
   ],
   "source": [
    "# sum_los_ctas_i_iii = 0\n",
    "# sum_los_ctas_iv_v = 0\n",
    "count_ctas_i_iii = 0\n",
    "count_ctas_iv_v = 0\n",
    "\n",
    "# for item in df.values:\n",
    "#     if item[5] > 0: \n",
    "#         if int(item[1]) in [1, 2, 3]:\n",
    "#             count_ctas_i_iii += 1\n",
    "#             sum_los_ctas_i_iii += item[5]\n",
    "#         elif int(item[1]) in [4, 5]:\n",
    "#             count_ctas_iv_v += 1\n",
    "#             sum_los_ctas_iv_v += item[5]\n",
    "#         else:\n",
    "#             print(item[1])\n",
    "            \n",
    "los_vals_ctas_i_iii = []\n",
    "los_vals_ctas_iv_v = []\n",
    "\n",
    "for ctas, los in zip(df[\"CTAS Level\"], df[\"LOS\"]):\n",
    "    if float(los) > 0:\n",
    "        if int(ctas) in [1, 2, 3]:\n",
    "            count_ctas_i_iii += 1\n",
    "            los_vals_ctas_i_iii.append(los)\n",
    "        elif int(ctas) in [4, 5]:\n",
    "            count_ctas_iv_v += 1\n",
    "            los_vals_ctas_iv_v.append(los)\n",
    "    \n",
    "avg_los_ctas_i_iii = sum(los_vals_ctas_i_iii)/count_ctas_i_iii\n",
    "avg_los_ctas_iv_v = sum(los_vals_ctas_iv_v)/count_ctas_iv_v\n",
    "\n",
    "print(count_ctas_i_iii, avg_los_ctas_i_iii/60, count_ctas_iv_v, avg_los_ctas_iv_v/60)"
   ]
  },
  {
   "cell_type": "code",
   "execution_count": null,
   "id": "93c1d91c",
   "metadata": {},
   "outputs": [],
   "source": []
  }
 ],
 "metadata": {
  "kernelspec": {
   "display_name": "Python 3 (ipykernel)",
   "language": "python",
   "name": "python3"
  },
  "language_info": {
   "codemirror_mode": {
    "name": "ipython",
    "version": 3
   },
   "file_extension": ".py",
   "mimetype": "text/x-python",
   "name": "python",
   "nbconvert_exporter": "python",
   "pygments_lexer": "ipython3",
   "version": "3.11.0"
  }
 },
 "nbformat": 4,
 "nbformat_minor": 5
}
